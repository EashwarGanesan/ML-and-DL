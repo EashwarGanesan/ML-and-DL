{
  "nbformat": 4,
  "nbformat_minor": 0,
  "metadata": {
    "colab": {
      "name": "Covid Detection.ipynb",
      "provenance": [],
      "collapsed_sections": []
    },
    "kernelspec": {
      "name": "python3",
      "display_name": "Python 3"
    },
    "accelerator": "GPU"
  },
  "cells": [
    {
      "cell_type": "code",
      "metadata": {
        "id": "Ja5RqdAN9KTB",
        "colab_type": "code",
        "colab": {}
      },
      "source": [
        "import pandas as pd\n",
        "import numpy as np"
      ],
      "execution_count": 1,
      "outputs": []
    },
    {
      "cell_type": "code",
      "metadata": {
        "id": "1nyFwLo452Sf",
        "colab_type": "code",
        "colab": {}
      },
      "source": [
        "import cv2"
      ],
      "execution_count": 2,
      "outputs": []
    },
    {
      "cell_type": "code",
      "metadata": {
        "id": "7qaAQbwY6_DY",
        "colab_type": "code",
        "colab": {}
      },
      "source": [
        "from imutils import paths"
      ],
      "execution_count": 3,
      "outputs": []
    },
    {
      "cell_type": "code",
      "metadata": {
        "id": "yCV8KTGS3a_D",
        "colab_type": "code",
        "colab": {}
      },
      "source": [
        "import os"
      ],
      "execution_count": 4,
      "outputs": []
    },
    {
      "cell_type": "code",
      "metadata": {
        "id": "nYhT9BEps__Y",
        "colab_type": "code",
        "colab": {}
      },
      "source": [
        "covid_path='/content/drive/My Drive/CovidDataset/COVID'"
      ],
      "execution_count": 5,
      "outputs": []
    },
    {
      "cell_type": "code",
      "metadata": {
        "id": "V7anp9pP5R1R",
        "colab_type": "code",
        "colab": {}
      },
      "source": [
        "nor_path='/content/drive/My Drive/CovidDataset/NORMAL'"
      ],
      "execution_count": 6,
      "outputs": []
    },
    {
      "cell_type": "code",
      "metadata": {
        "id": "poYE-cVr5RoT",
        "colab_type": "code",
        "colab": {}
      },
      "source": [
        ""
      ],
      "execution_count": null,
      "outputs": []
    },
    {
      "cell_type": "code",
      "metadata": {
        "id": "L2ptx1gduYrK",
        "colab_type": "code",
        "colab": {}
      },
      "source": [
        "covid_img_path=list(paths.list_images(covid_path))"
      ],
      "execution_count": 7,
      "outputs": []
    },
    {
      "cell_type": "code",
      "metadata": {
        "id": "HrNzcB3T6wRL",
        "colab_type": "code",
        "colab": {}
      },
      "source": [
        "nor_img_path=list(paths.list_images(nor_path))"
      ],
      "execution_count": 8,
      "outputs": []
    },
    {
      "cell_type": "code",
      "metadata": {
        "id": "s_fiXkbi251Q",
        "colab_type": "code",
        "colab": {
          "base_uri": "https://localhost:8080/",
          "height": 34
        },
        "outputId": "b12b80cb-0b7f-4c28-c70e-cf42df5a774b"
      },
      "source": [
        "print(len(covid_img_path))"
      ],
      "execution_count": 9,
      "outputs": [
        {
          "output_type": "stream",
          "text": [
            "500\n"
          ],
          "name": "stdout"
        }
      ]
    },
    {
      "cell_type": "code",
      "metadata": {
        "id": "276p13RC27oM",
        "colab_type": "code",
        "colab": {}
      },
      "source": [
        "labels=[]"
      ],
      "execution_count": 10,
      "outputs": []
    },
    {
      "cell_type": "code",
      "metadata": {
        "id": "T2ckvg5h3A6L",
        "colab_type": "code",
        "colab": {}
      },
      "source": [
        "data=[]"
      ],
      "execution_count": 11,
      "outputs": []
    },
    {
      "cell_type": "code",
      "metadata": {
        "id": "_eY07SDX3WBd",
        "colab_type": "code",
        "colab": {}
      },
      "source": [
        "for image_path in covid_img_path:\n",
        "  label=image_path.split(os.path.sep)[-2]\n",
        "  labels.append(label)\n",
        "  # print(image_path)\n",
        "  image=cv2.imread(image_path)\n",
        "  image=cv2.cvtColor(image, cv2.COLOR_BGR2RGB)\n",
        "  image=cv2.resize(image,(224,224))\n",
        "  data.append(image)\n"
      ],
      "execution_count": 12,
      "outputs": []
    },
    {
      "cell_type": "code",
      "metadata": {
        "id": "aMxikD084FOV",
        "colab_type": "code",
        "colab": {}
      },
      "source": [
        "for i in range(len(covid_img_path)):\n",
        "  label=nor_img_path[i].split('/')[-2]\n",
        "  labels.append(label)\n",
        "  # print(image_path)\n",
        "  image=cv2.imread(nor_img_path[i])\n",
        "  image=cv2.cvtColor(image, cv2.COLOR_BGR2RGB)\n",
        "  image=cv2.resize(image,(224,224))\n",
        "  data.append(image)\n"
      ],
      "execution_count": 13,
      "outputs": []
    },
    {
      "cell_type": "code",
      "metadata": {
        "id": "s1xh-KdN72zn",
        "colab_type": "code",
        "colab": {
          "base_uri": "https://localhost:8080/",
          "height": 34
        },
        "outputId": "474d8571-3fc1-4683-817c-a3e9d537595f"
      },
      "source": [
        "len(labels)"
      ],
      "execution_count": 14,
      "outputs": [
        {
          "output_type": "execute_result",
          "data": {
            "text/plain": [
              "1000"
            ]
          },
          "metadata": {
            "tags": []
          },
          "execution_count": 14
        }
      ]
    },
    {
      "cell_type": "code",
      "metadata": {
        "id": "wW1uhAXm83qT",
        "colab_type": "code",
        "colab": {}
      },
      "source": [
        "data = np.array(data) / 255.0"
      ],
      "execution_count": 15,
      "outputs": []
    },
    {
      "cell_type": "code",
      "metadata": {
        "id": "KJA3_9sN87v6",
        "colab_type": "code",
        "colab": {
          "base_uri": "https://localhost:8080/",
          "height": 34
        },
        "outputId": "364a3259-6733-44a8-ef6c-5678ffe81f0b"
      },
      "source": [
        "data.shape"
      ],
      "execution_count": 16,
      "outputs": [
        {
          "output_type": "execute_result",
          "data": {
            "text/plain": [
              "(1000, 224, 224, 3)"
            ]
          },
          "metadata": {
            "tags": []
          },
          "execution_count": 16
        }
      ]
    },
    {
      "cell_type": "code",
      "metadata": {
        "id": "MK1e7Ab_9R5s",
        "colab_type": "code",
        "colab": {}
      },
      "source": [
        "labels=np.array(labels)"
      ],
      "execution_count": 17,
      "outputs": []
    },
    {
      "cell_type": "code",
      "metadata": {
        "id": "yvjPgAiu9WeC",
        "colab_type": "code",
        "colab": {}
      },
      "source": [
        "from sklearn.preprocessing import LabelEncoder"
      ],
      "execution_count": 18,
      "outputs": []
    },
    {
      "cell_type": "code",
      "metadata": {
        "id": "jEZHwaNq99TL",
        "colab_type": "code",
        "colab": {}
      },
      "source": [
        "lb=LabelEncoder()"
      ],
      "execution_count": 19,
      "outputs": []
    },
    {
      "cell_type": "code",
      "metadata": {
        "id": "ZFPeOZzy9_Oi",
        "colab_type": "code",
        "colab": {}
      },
      "source": [
        "labels=lb.fit_transform(labels)"
      ],
      "execution_count": 20,
      "outputs": []
    },
    {
      "cell_type": "code",
      "metadata": {
        "id": "GZACFg7h-U1I",
        "colab_type": "code",
        "colab": {}
      },
      "source": [
        "df=pd.DataFrame(labels)"
      ],
      "execution_count": 21,
      "outputs": []
    },
    {
      "cell_type": "code",
      "metadata": {
        "id": "t8BSjayH_k0a",
        "colab_type": "code",
        "colab": {}
      },
      "source": [
        "df=df.rename(columns={0:'labels'})"
      ],
      "execution_count": 22,
      "outputs": []
    },
    {
      "cell_type": "code",
      "metadata": {
        "id": "Y7G9boTW_uyl",
        "colab_type": "code",
        "colab": {
          "base_uri": "https://localhost:8080/",
          "height": 34
        },
        "outputId": "7c1fcd1c-88c8-49d3-cbd5-685860d824a5"
      },
      "source": [
        "labels.shape"
      ],
      "execution_count": 23,
      "outputs": [
        {
          "output_type": "execute_result",
          "data": {
            "text/plain": [
              "(1000,)"
            ]
          },
          "metadata": {
            "tags": []
          },
          "execution_count": 23
        }
      ]
    },
    {
      "cell_type": "code",
      "metadata": {
        "id": "hd1l8UDb-SUq",
        "colab_type": "code",
        "colab": {}
      },
      "source": [
        "from sklearn.model_selection import train_test_split"
      ],
      "execution_count": 24,
      "outputs": []
    },
    {
      "cell_type": "code",
      "metadata": {
        "id": "ZvNYoxaaA4kB",
        "colab_type": "code",
        "colab": {}
      },
      "source": [
        "X_train, X_test, y_train, y_test = train_test_split(data, labels, test_size=0.25, random_state=99)"
      ],
      "execution_count": 25,
      "outputs": []
    },
    {
      "cell_type": "code",
      "metadata": {
        "id": "6IiAqJ5zBEyY",
        "colab_type": "code",
        "colab": {
          "base_uri": "https://localhost:8080/",
          "height": 34
        },
        "outputId": "399420e3-9b21-45be-bfb9-4b6fea05c9ee"
      },
      "source": [
        "from keras.applications import VGG16"
      ],
      "execution_count": 26,
      "outputs": [
        {
          "output_type": "stream",
          "text": [
            "Using TensorFlow backend.\n"
          ],
          "name": "stderr"
        }
      ]
    },
    {
      "cell_type": "code",
      "metadata": {
        "id": "L96nPuFSBXdP",
        "colab_type": "code",
        "colab": {}
      },
      "source": [
        "from keras.models import Model"
      ],
      "execution_count": 27,
      "outputs": []
    },
    {
      "cell_type": "code",
      "metadata": {
        "id": "rF6l7g4DBk32",
        "colab_type": "code",
        "colab": {}
      },
      "source": [
        "from keras.layers import Dense,Dropout"
      ],
      "execution_count": 28,
      "outputs": []
    },
    {
      "cell_type": "code",
      "metadata": {
        "id": "bU8gXiUGCAkY",
        "colab_type": "code",
        "colab": {}
      },
      "source": [
        "from keras.activations import relu"
      ],
      "execution_count": 29,
      "outputs": []
    },
    {
      "cell_type": "code",
      "metadata": {
        "id": "bpJ52Th1CFRO",
        "colab_type": "code",
        "colab": {}
      },
      "source": [
        "from keras.optimizers import Adam"
      ],
      "execution_count": 30,
      "outputs": []
    },
    {
      "cell_type": "code",
      "metadata": {
        "id": "KQg53FcQCjai",
        "colab_type": "code",
        "colab": {
          "base_uri": "https://localhost:8080/",
          "height": 34
        },
        "outputId": "51f033af-3c6e-41a6-d8f7-9f621cc8dd23"
      },
      "source": [
        "X_train.shape"
      ],
      "execution_count": 31,
      "outputs": [
        {
          "output_type": "execute_result",
          "data": {
            "text/plain": [
              "(750, 224, 224, 3)"
            ]
          },
          "metadata": {
            "tags": []
          },
          "execution_count": 31
        }
      ]
    },
    {
      "cell_type": "code",
      "metadata": {
        "id": "2iGIICVICQFZ",
        "colab_type": "code",
        "colab": {
          "base_uri": "https://localhost:8080/",
          "height": 71
        },
        "outputId": "3b2a4620-b032-422d-b94a-5e49bf7c6088"
      },
      "source": [
        "model=VGG16(include_top=False,weights='imagenet',input_shape=(224,224,3),pooling='max')"
      ],
      "execution_count": 32,
      "outputs": [
        {
          "output_type": "stream",
          "text": [
            "Downloading data from https://github.com/fchollet/deep-learning-models/releases/download/v0.1/vgg16_weights_tf_dim_ordering_tf_kernels_notop.h5\n",
            "58892288/58889256 [==============================] - 6s 0us/step\n"
          ],
          "name": "stdout"
        }
      ]
    },
    {
      "cell_type": "code",
      "metadata": {
        "id": "CTPG2r3uDCGc",
        "colab_type": "code",
        "colab": {}
      },
      "source": [
        "for i in model.layers:\n",
        "  i.trainable=False"
      ],
      "execution_count": 33,
      "outputs": []
    },
    {
      "cell_type": "code",
      "metadata": {
        "id": "tgxOaOAmDi1s",
        "colab_type": "code",
        "colab": {}
      },
      "source": [
        "dense1=Dense(50,activation='relu')(model.output)"
      ],
      "execution_count": 34,
      "outputs": []
    },
    {
      "cell_type": "code",
      "metadata": {
        "id": "Gr-IyR0aD0OI",
        "colab_type": "code",
        "colab": {}
      },
      "source": [
        "dense2=Dense(30,activation='relu')(dense1)"
      ],
      "execution_count": 35,
      "outputs": []
    },
    {
      "cell_type": "code",
      "metadata": {
        "id": "ZtknPtr_D8JP",
        "colab_type": "code",
        "colab": {}
      },
      "source": [
        "dropout1=Dropout(0.3)(dense2)"
      ],
      "execution_count": 36,
      "outputs": []
    },
    {
      "cell_type": "code",
      "metadata": {
        "id": "XNfHdMn9EAPf",
        "colab_type": "code",
        "colab": {}
      },
      "source": [
        "dense3=Dense(25,activation='relu')(dropout1)"
      ],
      "execution_count": 37,
      "outputs": []
    },
    {
      "cell_type": "code",
      "metadata": {
        "id": "Q1paybDFEFPf",
        "colab_type": "code",
        "colab": {}
      },
      "source": [
        "dense4=Dense(1,activation='sigmoid')(dense3)"
      ],
      "execution_count": 38,
      "outputs": []
    },
    {
      "cell_type": "code",
      "metadata": {
        "id": "SWnH95f4ErZP",
        "colab_type": "code",
        "colab": {}
      },
      "source": [
        "tot_model=Model(inputs=model.input,outputs=dense4)"
      ],
      "execution_count": 39,
      "outputs": []
    },
    {
      "cell_type": "code",
      "metadata": {
        "id": "7XimB2HwF0W8",
        "colab_type": "code",
        "colab": {
          "base_uri": "https://localhost:8080/",
          "height": 1000
        },
        "outputId": "64c20b84-df1b-4584-cce7-38f51c1863bc"
      },
      "source": [
        "tot_model.summary()"
      ],
      "execution_count": 40,
      "outputs": [
        {
          "output_type": "stream",
          "text": [
            "Model: \"model_1\"\n",
            "_________________________________________________________________\n",
            "Layer (type)                 Output Shape              Param #   \n",
            "=================================================================\n",
            "input_1 (InputLayer)         (None, 224, 224, 3)       0         \n",
            "_________________________________________________________________\n",
            "block1_conv1 (Conv2D)        (None, 224, 224, 64)      1792      \n",
            "_________________________________________________________________\n",
            "block1_conv2 (Conv2D)        (None, 224, 224, 64)      36928     \n",
            "_________________________________________________________________\n",
            "block1_pool (MaxPooling2D)   (None, 112, 112, 64)      0         \n",
            "_________________________________________________________________\n",
            "block2_conv1 (Conv2D)        (None, 112, 112, 128)     73856     \n",
            "_________________________________________________________________\n",
            "block2_conv2 (Conv2D)        (None, 112, 112, 128)     147584    \n",
            "_________________________________________________________________\n",
            "block2_pool (MaxPooling2D)   (None, 56, 56, 128)       0         \n",
            "_________________________________________________________________\n",
            "block3_conv1 (Conv2D)        (None, 56, 56, 256)       295168    \n",
            "_________________________________________________________________\n",
            "block3_conv2 (Conv2D)        (None, 56, 56, 256)       590080    \n",
            "_________________________________________________________________\n",
            "block3_conv3 (Conv2D)        (None, 56, 56, 256)       590080    \n",
            "_________________________________________________________________\n",
            "block3_pool (MaxPooling2D)   (None, 28, 28, 256)       0         \n",
            "_________________________________________________________________\n",
            "block4_conv1 (Conv2D)        (None, 28, 28, 512)       1180160   \n",
            "_________________________________________________________________\n",
            "block4_conv2 (Conv2D)        (None, 28, 28, 512)       2359808   \n",
            "_________________________________________________________________\n",
            "block4_conv3 (Conv2D)        (None, 28, 28, 512)       2359808   \n",
            "_________________________________________________________________\n",
            "block4_pool (MaxPooling2D)   (None, 14, 14, 512)       0         \n",
            "_________________________________________________________________\n",
            "block5_conv1 (Conv2D)        (None, 14, 14, 512)       2359808   \n",
            "_________________________________________________________________\n",
            "block5_conv2 (Conv2D)        (None, 14, 14, 512)       2359808   \n",
            "_________________________________________________________________\n",
            "block5_conv3 (Conv2D)        (None, 14, 14, 512)       2359808   \n",
            "_________________________________________________________________\n",
            "block5_pool (MaxPooling2D)   (None, 7, 7, 512)         0         \n",
            "_________________________________________________________________\n",
            "global_max_pooling2d_1 (Glob (None, 512)               0         \n",
            "_________________________________________________________________\n",
            "dense_1 (Dense)              (None, 50)                25650     \n",
            "_________________________________________________________________\n",
            "dense_2 (Dense)              (None, 30)                1530      \n",
            "_________________________________________________________________\n",
            "dropout_1 (Dropout)          (None, 30)                0         \n",
            "_________________________________________________________________\n",
            "dense_3 (Dense)              (None, 25)                775       \n",
            "_________________________________________________________________\n",
            "dense_4 (Dense)              (None, 1)                 26        \n",
            "=================================================================\n",
            "Total params: 14,742,669\n",
            "Trainable params: 27,981\n",
            "Non-trainable params: 14,714,688\n",
            "_________________________________________________________________\n"
          ],
          "name": "stdout"
        }
      ]
    },
    {
      "cell_type": "code",
      "metadata": {
        "id": "B-j6v-cMF7iB",
        "colab_type": "code",
        "colab": {}
      },
      "source": [
        "adam=Adam()"
      ],
      "execution_count": 41,
      "outputs": []
    },
    {
      "cell_type": "code",
      "metadata": {
        "id": "ZmyGCjomGLuW",
        "colab_type": "code",
        "colab": {}
      },
      "source": [
        "tot_model.compile(optimizer=adam,loss='binary_crossentropy',metrics=['accuracy'])"
      ],
      "execution_count": 42,
      "outputs": []
    },
    {
      "cell_type": "code",
      "metadata": {
        "id": "0tJiI33W3j0P",
        "colab_type": "code",
        "colab": {}
      },
      "source": [
        "# from keras.preprocessing.image import ImageDataGenerator"
      ],
      "execution_count": null,
      "outputs": []
    },
    {
      "cell_type": "code",
      "metadata": {
        "id": "6Nudeq0l3tsZ",
        "colab_type": "code",
        "colab": {}
      },
      "source": [
        "# train_aug=ImageDataGenerator(rotation_range=20,\n",
        "# \t\tzoom_range=0.15,\n",
        "# \t\twidth_shift_range=0.2,\n",
        "# \t\theight_shift_range=0.2,\n",
        "# \t\tshear_range=0.15,\n",
        "# \t\thorizontal_flip=True,\n",
        "# \t\tfill_mode=\"nearest\")"
      ],
      "execution_count": null,
      "outputs": []
    },
    {
      "cell_type": "code",
      "metadata": {
        "id": "_VDlwz9oQUlP",
        "colab_type": "code",
        "colab": {}
      },
      "source": [
        "BS = 8\n",
        "EPOCHS = 50"
      ],
      "execution_count": null,
      "outputs": []
    },
    {
      "cell_type": "code",
      "metadata": {
        "id": "Jvi-LaarNdFJ",
        "colab_type": "code",
        "colab": {
          "base_uri": "https://localhost:8080/",
          "height": 1000
        },
        "outputId": "d12c0aba-2626-43dd-b9e0-b43daeb1ab5f"
      },
      "source": [
        "# history = tot_model.fit(\n",
        "# \tx=train_aug.flow(X_train, y_train, batch_size=BS),\n",
        "# \tvalidation_data=(X_test, y_test),\n",
        "# \tsteps_per_epoch=len(X_train) // BS,\n",
        "# \tepochs=EPOCHS)"
      ],
      "execution_count": null,
      "outputs": [
        {
          "output_type": "stream",
          "text": [
            "Epoch 1/50\n",
            "71/71 [==============================] - 14s 200ms/step - loss: 0.4603 - accuracy: 0.7851 - val_loss: 0.1672 - val_accuracy: 0.9371\n",
            "Epoch 2/50\n",
            "71/71 [==============================] - 7s 105ms/step - loss: 0.1764 - accuracy: 0.9378 - val_loss: 0.0818 - val_accuracy: 0.9720\n",
            "Epoch 3/50\n",
            "71/71 [==============================] - 7s 105ms/step - loss: 0.1375 - accuracy: 0.9556 - val_loss: 0.0734 - val_accuracy: 0.9720\n",
            "Epoch 4/50\n",
            "71/71 [==============================] - 8s 106ms/step - loss: 0.1041 - accuracy: 0.9701 - val_loss: 0.0599 - val_accuracy: 0.9790\n",
            "Epoch 5/50\n",
            "71/71 [==============================] - 7s 103ms/step - loss: 0.0871 - accuracy: 0.9677 - val_loss: 0.0426 - val_accuracy: 0.9790\n",
            "Epoch 6/50\n",
            "71/71 [==============================] - 7s 104ms/step - loss: 0.1149 - accuracy: 0.9591 - val_loss: 0.0620 - val_accuracy: 0.9790\n",
            "Epoch 7/50\n",
            "71/71 [==============================] - 7s 102ms/step - loss: 0.0567 - accuracy: 0.9822 - val_loss: 0.0910 - val_accuracy: 0.9580\n",
            "Epoch 8/50\n",
            "71/71 [==============================] - 7s 102ms/step - loss: 0.0875 - accuracy: 0.9698 - val_loss: 0.0710 - val_accuracy: 0.9720\n",
            "Epoch 9/50\n",
            "71/71 [==============================] - 7s 104ms/step - loss: 0.0777 - accuracy: 0.9716 - val_loss: 0.0461 - val_accuracy: 0.9790\n",
            "Epoch 10/50\n",
            "71/71 [==============================] - 7s 102ms/step - loss: 0.0720 - accuracy: 0.9769 - val_loss: 0.1056 - val_accuracy: 0.9580\n",
            "Epoch 11/50\n",
            "71/71 [==============================] - 7s 103ms/step - loss: 0.0857 - accuracy: 0.9680 - val_loss: 0.0378 - val_accuracy: 0.9790\n",
            "Epoch 12/50\n",
            "71/71 [==============================] - 7s 102ms/step - loss: 0.0256 - accuracy: 0.9930 - val_loss: 0.0347 - val_accuracy: 0.9790\n",
            "Epoch 13/50\n",
            "71/71 [==============================] - 7s 103ms/step - loss: 0.0756 - accuracy: 0.9767 - val_loss: 0.0522 - val_accuracy: 0.9860\n",
            "Epoch 14/50\n",
            "71/71 [==============================] - 7s 104ms/step - loss: 0.0606 - accuracy: 0.9787 - val_loss: 0.0452 - val_accuracy: 0.9790\n",
            "Epoch 15/50\n",
            "71/71 [==============================] - 7s 101ms/step - loss: 0.0306 - accuracy: 0.9929 - val_loss: 0.0746 - val_accuracy: 0.9860\n",
            "Epoch 16/50\n",
            "71/71 [==============================] - 7s 103ms/step - loss: 0.0601 - accuracy: 0.9824 - val_loss: 0.1035 - val_accuracy: 0.9650\n",
            "Epoch 17/50\n",
            "71/71 [==============================] - 7s 102ms/step - loss: 0.0410 - accuracy: 0.9892 - val_loss: 0.0455 - val_accuracy: 0.9790\n",
            "Epoch 18/50\n",
            "71/71 [==============================] - 7s 102ms/step - loss: 0.0318 - accuracy: 0.9893 - val_loss: 0.0348 - val_accuracy: 0.9790\n",
            "Epoch 19/50\n",
            "71/71 [==============================] - 7s 102ms/step - loss: 0.0469 - accuracy: 0.9805 - val_loss: 0.0314 - val_accuracy: 0.9790\n",
            "Epoch 20/50\n",
            "71/71 [==============================] - 7s 104ms/step - loss: 0.0395 - accuracy: 0.9824 - val_loss: 0.0843 - val_accuracy: 0.9650\n",
            "Epoch 21/50\n",
            "71/71 [==============================] - 7s 102ms/step - loss: 0.0377 - accuracy: 0.9840 - val_loss: 0.0480 - val_accuracy: 0.9860\n",
            "Epoch 22/50\n",
            "71/71 [==============================] - 7s 101ms/step - loss: 0.0534 - accuracy: 0.9857 - val_loss: 0.0734 - val_accuracy: 0.9790\n",
            "Epoch 23/50\n",
            "71/71 [==============================] - 7s 102ms/step - loss: 0.0245 - accuracy: 0.9893 - val_loss: 0.1504 - val_accuracy: 0.9510\n",
            "Epoch 24/50\n",
            "71/71 [==============================] - 7s 103ms/step - loss: 0.0483 - accuracy: 0.9842 - val_loss: 0.0788 - val_accuracy: 0.9790\n",
            "Epoch 25/50\n",
            "71/71 [==============================] - 7s 101ms/step - loss: 0.0409 - accuracy: 0.9875 - val_loss: 0.1019 - val_accuracy: 0.9720\n",
            "Epoch 26/50\n",
            "71/71 [==============================] - 7s 103ms/step - loss: 0.0407 - accuracy: 0.9822 - val_loss: 0.1162 - val_accuracy: 0.9580\n",
            "Epoch 27/50\n",
            "71/71 [==============================] - 7s 104ms/step - loss: 0.0229 - accuracy: 0.9947 - val_loss: 0.0667 - val_accuracy: 0.9860\n",
            "Epoch 28/50\n",
            "71/71 [==============================] - 7s 103ms/step - loss: 0.0419 - accuracy: 0.9877 - val_loss: 0.0452 - val_accuracy: 0.9860\n",
            "Epoch 29/50\n",
            "71/71 [==============================] - 7s 102ms/step - loss: 0.0462 - accuracy: 0.9910 - val_loss: 0.0656 - val_accuracy: 0.9860\n",
            "Epoch 30/50\n",
            "71/71 [==============================] - 7s 103ms/step - loss: 0.0521 - accuracy: 0.9824 - val_loss: 0.0725 - val_accuracy: 0.9790\n",
            "Epoch 31/50\n",
            "71/71 [==============================] - 7s 102ms/step - loss: 0.0207 - accuracy: 0.9911 - val_loss: 0.1751 - val_accuracy: 0.9441\n",
            "Epoch 32/50\n",
            "71/71 [==============================] - 7s 103ms/step - loss: 0.0253 - accuracy: 0.9910 - val_loss: 0.0845 - val_accuracy: 0.9790\n",
            "Epoch 33/50\n",
            "71/71 [==============================] - 7s 104ms/step - loss: 0.0240 - accuracy: 0.9930 - val_loss: 0.2555 - val_accuracy: 0.9371\n",
            "Epoch 34/50\n",
            "71/71 [==============================] - 7s 102ms/step - loss: 0.0579 - accuracy: 0.9785 - val_loss: 0.0643 - val_accuracy: 0.9790\n",
            "Epoch 35/50\n",
            "71/71 [==============================] - 7s 104ms/step - loss: 0.0185 - accuracy: 0.9947 - val_loss: 0.0676 - val_accuracy: 0.9860\n",
            "Epoch 36/50\n",
            "71/71 [==============================] - 7s 102ms/step - loss: 0.0460 - accuracy: 0.9858 - val_loss: 0.1407 - val_accuracy: 0.9580\n",
            "Epoch 37/50\n",
            "71/71 [==============================] - 7s 102ms/step - loss: 0.0279 - accuracy: 0.9929 - val_loss: 0.0758 - val_accuracy: 0.9720\n",
            "Epoch 38/50\n",
            "71/71 [==============================] - 7s 103ms/step - loss: 0.0071 - accuracy: 0.9982 - val_loss: 0.1077 - val_accuracy: 0.9720\n",
            "Epoch 39/50\n",
            "71/71 [==============================] - 7s 103ms/step - loss: 0.0490 - accuracy: 0.9839 - val_loss: 0.0836 - val_accuracy: 0.9790\n",
            "Epoch 40/50\n",
            "71/71 [==============================] - 7s 103ms/step - loss: 0.0228 - accuracy: 0.9929 - val_loss: 0.0579 - val_accuracy: 0.9860\n",
            "Epoch 41/50\n",
            "71/71 [==============================] - 7s 103ms/step - loss: 0.0352 - accuracy: 0.9842 - val_loss: 0.0591 - val_accuracy: 0.9860\n",
            "Epoch 42/50\n",
            "71/71 [==============================] - 7s 103ms/step - loss: 0.0129 - accuracy: 0.9964 - val_loss: 0.0631 - val_accuracy: 0.9790\n",
            "Epoch 43/50\n",
            "71/71 [==============================] - 7s 102ms/step - loss: 0.0211 - accuracy: 0.9893 - val_loss: 0.1280 - val_accuracy: 0.9650\n",
            "Epoch 44/50\n",
            "71/71 [==============================] - 7s 102ms/step - loss: 0.0101 - accuracy: 0.9964 - val_loss: 0.1172 - val_accuracy: 0.9720\n",
            "Epoch 45/50\n",
            "71/71 [==============================] - 7s 102ms/step - loss: 0.0247 - accuracy: 0.9893 - val_loss: 0.0810 - val_accuracy: 0.9860\n",
            "Epoch 46/50\n",
            "71/71 [==============================] - 7s 103ms/step - loss: 0.0417 - accuracy: 0.9840 - val_loss: 0.0456 - val_accuracy: 0.9860\n",
            "Epoch 47/50\n",
            "71/71 [==============================] - 7s 102ms/step - loss: 0.0274 - accuracy: 0.9929 - val_loss: 0.0535 - val_accuracy: 0.9790\n",
            "Epoch 48/50\n",
            "71/71 [==============================] - 7s 101ms/step - loss: 0.0221 - accuracy: 0.9946 - val_loss: 0.0585 - val_accuracy: 0.9860\n",
            "Epoch 49/50\n",
            "71/71 [==============================] - 7s 102ms/step - loss: 0.0343 - accuracy: 0.9894 - val_loss: 0.0377 - val_accuracy: 0.9790\n",
            "Epoch 50/50\n",
            "71/71 [==============================] - 7s 102ms/step - loss: 0.0188 - accuracy: 0.9929 - val_loss: 0.0383 - val_accuracy: 0.9790\n"
          ],
          "name": "stdout"
        }
      ]
    },
    {
      "cell_type": "code",
      "metadata": {
        "id": "SrDaz7jH4Axg",
        "colab_type": "code",
        "colab": {}
      },
      "source": [
        "# history=tot_model.fit_generator(train_aug.flow(X_train,y_train),epochs=25,validation_data=(X_test,y_test),)"
      ],
      "execution_count": null,
      "outputs": []
    },
    {
      "cell_type": "code",
      "metadata": {
        "id": "OqvsTcArGfY0",
        "colab_type": "code",
        "colab": {
          "base_uri": "https://localhost:8080/",
          "height": 904
        },
        "outputId": "f4924ecb-0947-42a3-8fde-c3d8b570b8be"
      },
      "source": [
        "history=tot_model.fit(X_train,y_train,epochs=25,validation_data=(X_test,y_test))"
      ],
      "execution_count": 43,
      "outputs": [
        {
          "output_type": "stream",
          "text": [
            "Train on 750 samples, validate on 250 samples\n",
            "Epoch 1/25\n",
            "750/750 [==============================] - 16s 22ms/step - loss: 0.6634 - accuracy: 0.5360 - val_loss: 0.5105 - val_accuracy: 0.8400\n",
            "Epoch 2/25\n",
            "750/750 [==============================] - 6s 8ms/step - loss: 0.4657 - accuracy: 0.8107 - val_loss: 0.3030 - val_accuracy: 0.9640\n",
            "Epoch 3/25\n",
            "750/750 [==============================] - 6s 8ms/step - loss: 0.2849 - accuracy: 0.9240 - val_loss: 0.1285 - val_accuracy: 0.9840\n",
            "Epoch 4/25\n",
            "750/750 [==============================] - 6s 8ms/step - loss: 0.1632 - accuracy: 0.9507 - val_loss: 0.0921 - val_accuracy: 0.9640\n",
            "Epoch 5/25\n",
            "750/750 [==============================] - 6s 8ms/step - loss: 0.1082 - accuracy: 0.9720 - val_loss: 0.0442 - val_accuracy: 0.9840\n",
            "Epoch 6/25\n",
            "750/750 [==============================] - 6s 8ms/step - loss: 0.0800 - accuracy: 0.9813 - val_loss: 0.0313 - val_accuracy: 0.9920\n",
            "Epoch 7/25\n",
            "750/750 [==============================] - 6s 8ms/step - loss: 0.0612 - accuracy: 0.9867 - val_loss: 0.0216 - val_accuracy: 0.9960\n",
            "Epoch 8/25\n",
            "750/750 [==============================] - 6s 8ms/step - loss: 0.0514 - accuracy: 0.9893 - val_loss: 0.0191 - val_accuracy: 0.9960\n",
            "Epoch 9/25\n",
            "750/750 [==============================] - 6s 8ms/step - loss: 0.0504 - accuracy: 0.9867 - val_loss: 0.0129 - val_accuracy: 0.9960\n",
            "Epoch 10/25\n",
            "750/750 [==============================] - 6s 8ms/step - loss: 0.0331 - accuracy: 0.9933 - val_loss: 0.0156 - val_accuracy: 0.9960\n",
            "Epoch 11/25\n",
            "750/750 [==============================] - 6s 8ms/step - loss: 0.0315 - accuracy: 0.9920 - val_loss: 0.0140 - val_accuracy: 0.9960\n",
            "Epoch 12/25\n",
            "750/750 [==============================] - 6s 8ms/step - loss: 0.0354 - accuracy: 0.9920 - val_loss: 0.0097 - val_accuracy: 0.9960\n",
            "Epoch 13/25\n",
            "750/750 [==============================] - 6s 8ms/step - loss: 0.0204 - accuracy: 0.9947 - val_loss: 0.0055 - val_accuracy: 1.0000\n",
            "Epoch 14/25\n",
            "750/750 [==============================] - 6s 8ms/step - loss: 0.0137 - accuracy: 0.9987 - val_loss: 0.0198 - val_accuracy: 0.9880\n",
            "Epoch 15/25\n",
            "750/750 [==============================] - 6s 8ms/step - loss: 0.0147 - accuracy: 0.9987 - val_loss: 0.0078 - val_accuracy: 0.9960\n",
            "Epoch 16/25\n",
            "750/750 [==============================] - 6s 8ms/step - loss: 0.0086 - accuracy: 0.9987 - val_loss: 0.0035 - val_accuracy: 1.0000\n",
            "Epoch 17/25\n",
            "750/750 [==============================] - 6s 8ms/step - loss: 0.0062 - accuracy: 0.9987 - val_loss: 0.0057 - val_accuracy: 0.9960\n",
            "Epoch 18/25\n",
            "750/750 [==============================] - 6s 8ms/step - loss: 0.0082 - accuracy: 1.0000 - val_loss: 0.0017 - val_accuracy: 1.0000\n",
            "Epoch 19/25\n",
            "750/750 [==============================] - 6s 8ms/step - loss: 0.0071 - accuracy: 0.9987 - val_loss: 0.0042 - val_accuracy: 0.9960\n",
            "Epoch 20/25\n",
            "750/750 [==============================] - 6s 9ms/step - loss: 0.0063 - accuracy: 1.0000 - val_loss: 0.0013 - val_accuracy: 1.0000\n",
            "Epoch 21/25\n",
            "750/750 [==============================] - 6s 9ms/step - loss: 0.0034 - accuracy: 1.0000 - val_loss: 0.0011 - val_accuracy: 1.0000\n",
            "Epoch 22/25\n",
            "750/750 [==============================] - 6s 8ms/step - loss: 0.0056 - accuracy: 1.0000 - val_loss: 6.7426e-04 - val_accuracy: 1.0000\n",
            "Epoch 23/25\n",
            "750/750 [==============================] - 6s 8ms/step - loss: 0.0088 - accuracy: 0.9973 - val_loss: 0.0044 - val_accuracy: 1.0000\n",
            "Epoch 24/25\n",
            "750/750 [==============================] - 6s 8ms/step - loss: 0.0062 - accuracy: 0.9987 - val_loss: 8.6577e-04 - val_accuracy: 1.0000\n",
            "Epoch 25/25\n",
            "750/750 [==============================] - 6s 9ms/step - loss: 0.0030 - accuracy: 1.0000 - val_loss: 7.0270e-04 - val_accuracy: 1.0000\n"
          ],
          "name": "stdout"
        }
      ]
    },
    {
      "cell_type": "code",
      "metadata": {
        "id": "Xi_jc6BCGz4O",
        "colab_type": "code",
        "colab": {}
      },
      "source": [
        "ta=history.history['accuracy']"
      ],
      "execution_count": 44,
      "outputs": []
    },
    {
      "cell_type": "code",
      "metadata": {
        "id": "4_wjaAtKKFXf",
        "colab_type": "code",
        "colab": {}
      },
      "source": [
        "va=history.history['val_accuracy']"
      ],
      "execution_count": 45,
      "outputs": []
    },
    {
      "cell_type": "code",
      "metadata": {
        "id": "LVzoTzfAKLO3",
        "colab_type": "code",
        "colab": {}
      },
      "source": [
        "tl=history.history['loss']"
      ],
      "execution_count": 46,
      "outputs": []
    },
    {
      "cell_type": "code",
      "metadata": {
        "id": "nYLHkb4bKRGR",
        "colab_type": "code",
        "colab": {}
      },
      "source": [
        "vl=history.history['val_loss']"
      ],
      "execution_count": 47,
      "outputs": []
    },
    {
      "cell_type": "code",
      "metadata": {
        "id": "-C701tn-KUQD",
        "colab_type": "code",
        "colab": {
          "base_uri": "https://localhost:8080/",
          "height": 71
        },
        "outputId": "891ee39a-9307-400e-9df9-a26a0546011a"
      },
      "source": [
        "import seaborn as sns"
      ],
      "execution_count": 48,
      "outputs": [
        {
          "output_type": "stream",
          "text": [
            "/usr/local/lib/python3.6/dist-packages/statsmodels/tools/_testing.py:19: FutureWarning: pandas.util.testing is deprecated. Use the functions in the public API at pandas.testing instead.\n",
            "  import pandas.util.testing as tm\n"
          ],
          "name": "stderr"
        }
      ]
    },
    {
      "cell_type": "code",
      "metadata": {
        "id": "ERE6Md2BKYGa",
        "colab_type": "code",
        "colab": {}
      },
      "source": [
        "import matplotlib.pyplot as plt\n",
        "%matplotlib inline"
      ],
      "execution_count": 49,
      "outputs": []
    },
    {
      "cell_type": "code",
      "metadata": {
        "id": "BHT511LvKf9W",
        "colab_type": "code",
        "colab": {
          "base_uri": "https://localhost:8080/",
          "height": 282
        },
        "outputId": "d3359b5a-7679-4c70-f808-f46f9ca09207"
      },
      "source": [
        "plt.plot(ta,label='TrainAccuracy')\n",
        "plt.plot(va,label='TestAccuracy')\n",
        "plt.legend()"
      ],
      "execution_count": 50,
      "outputs": [
        {
          "output_type": "execute_result",
          "data": {
            "text/plain": [
              "<matplotlib.legend.Legend at 0x7f35447929e8>"
            ]
          },
          "metadata": {
            "tags": []
          },
          "execution_count": 50
        },
        {
          "output_type": "display_data",
          "data": {
            "image/png": "[encoded data removed]",
            "text/plain": [
              "<Figure size 432x288 with 1 Axes>"
            ]
          },
          "metadata": {
            "tags": [],
            "needs_background": "light"
          }
        }
      ]
    },
    {
      "cell_type": "code",
      "metadata": {
        "id": "X1MXBD7nK55U",
        "colab_type": "code",
        "colab": {
          "base_uri": "https://localhost:8080/",
          "height": 282
        },
        "outputId": "7283665d-4bdc-46ce-b4d8-96a0e55a1d8e"
      },
      "source": [
        "plt.plot(tl,label='TrainLoss')\n",
        "plt.plot(vl,label='TestLoss')\n",
        "plt.legend()"
      ],
      "execution_count": 51,
      "outputs": [
        {
          "output_type": "execute_result",
          "data": {
            "text/plain": [
              "<matplotlib.legend.Legend at 0x7f354427d518>"
            ]
          },
          "metadata": {
            "tags": []
          },
          "execution_count": 51
        },
        {
          "output_type": "display_data",
          "data": {
            "image/png": "[encoded data removed]",
            "text/plain": [
              "<Figure size 432x288 with 1 Axes>"
            ]
          },
          "metadata": {
            "tags": [],
            "needs_background": "light"
          }
        }
      ]
    },
    {
      "cell_type": "code",
      "metadata": {
        "id": "ShUjAMZqLx92",
        "colab_type": "code",
        "colab": {}
      },
      "source": [
        "train_pred=tot_model.predict(X_train)"
      ],
      "execution_count": 52,
      "outputs": []
    },
    {
      "cell_type": "code",
      "metadata": {
        "id": "wq-2NEJgO-M6",
        "colab_type": "code",
        "colab": {}
      },
      "source": [
        "for i in range(len(train_pred)):\n",
        "  if train_pred[i]>0.5:\n",
        "    train_pred[i]=1\n",
        "  else:\n",
        "    train_pred[i]=0  "
      ],
      "execution_count": 53,
      "outputs": []
    },
    {
      "cell_type": "code",
      "metadata": {
        "id": "BZV6DpMTPOf1",
        "colab_type": "code",
        "colab": {
          "base_uri": "https://localhost:8080/",
          "height": 1000
        },
        "outputId": "b83addbb-4141-4de9-a282-44c0dacbccdf"
      },
      "source": [
        "train_pred"
      ],
      "execution_count": 54,
      "outputs": [
        {
          "output_type": "execute_result",
          "data": {
            "text/plain": [
              "array([[1.],\n",
              "       [0.],\n",
              "       [1.],\n",
              "       [0.],\n",
              "       [1.],\n",
              "       [0.],\n",
              "       [1.],\n",
              "       [1.],\n",
              "       [0.],\n",
              "       [0.],\n",
              "       [1.],\n",
              "       [0.],\n",
              "       [1.],\n",
              "       [0.],\n",
              "       [1.],\n",
              "       [1.],\n",
              "       [1.],\n",
              "       [1.],\n",
              "       [0.],\n",
              "       [0.],\n",
              "       [1.],\n",
              "       [1.],\n",
              "       [1.],\n",
              "       [0.],\n",
              "       [0.],\n",
              "       [0.],\n",
              "       [1.],\n",
              "       [0.],\n",
              "       [0.],\n",
              "       [0.],\n",
              "       [0.],\n",
              "       [0.],\n",
              "       [1.],\n",
              "       [1.],\n",
              "       [1.],\n",
              "       [1.],\n",
              "       [1.],\n",
              "       [1.],\n",
              "       [0.],\n",
              "       [0.],\n",
              "       [1.],\n",
              "       [1.],\n",
              "       [0.],\n",
              "       [1.],\n",
              "       [0.],\n",
              "       [1.],\n",
              "       [1.],\n",
              "       [1.],\n",
              "       [1.],\n",
              "       [0.],\n",
              "       [0.],\n",
              "       [0.],\n",
              "       [1.],\n",
              "       [0.],\n",
              "       [1.],\n",
              "       [1.],\n",
              "       [1.],\n",
              "       [0.],\n",
              "       [1.],\n",
              "       [0.],\n",
              "       [0.],\n",
              "       [1.],\n",
              "       [0.],\n",
              "       [1.],\n",
              "       [0.],\n",
              "       [1.],\n",
              "       [0.],\n",
              "       [0.],\n",
              "       [1.],\n",
              "       [1.],\n",
              "       [0.],\n",
              "       [1.],\n",
              "       [1.],\n",
              "       [1.],\n",
              "       [0.],\n",
              "       [0.],\n",
              "       [0.],\n",
              "       [1.],\n",
              "       [0.],\n",
              "       [0.],\n",
              "       [1.],\n",
              "       [0.],\n",
              "       [1.],\n",
              "       [1.],\n",
              "       [0.],\n",
              "       [0.],\n",
              "       [0.],\n",
              "       [1.],\n",
              "       [1.],\n",
              "       [1.],\n",
              "       [1.],\n",
              "       [1.],\n",
              "       [0.],\n",
              "       [1.],\n",
              "       [1.],\n",
              "       [1.],\n",
              "       [0.],\n",
              "       [0.],\n",
              "       [0.],\n",
              "       [1.],\n",
              "       [1.],\n",
              "       [0.],\n",
              "       [0.],\n",
              "       [1.],\n",
              "       [1.],\n",
              "       [1.],\n",
              "       [1.],\n",
              "       [0.],\n",
              "       [1.],\n",
              "       [1.],\n",
              "       [0.],\n",
              "       [1.],\n",
              "       [1.],\n",
              "       [0.],\n",
              "       [1.],\n",
              "       [0.],\n",
              "       [1.],\n",
              "       [0.],\n",
              "       [0.],\n",
              "       [0.],\n",
              "       [0.],\n",
              "       [0.],\n",
              "       [0.],\n",
              "       [1.],\n",
              "       [0.],\n",
              "       [0.],\n",
              "       [1.],\n",
              "       [0.],\n",
              "       [0.],\n",
              "       [0.],\n",
              "       [1.],\n",
              "       [1.],\n",
              "       [1.],\n",
              "       [1.],\n",
              "       [1.],\n",
              "       [0.],\n",
              "       [1.],\n",
              "       [0.],\n",
              "       [1.],\n",
              "       [1.],\n",
              "       [0.],\n",
              "       [1.],\n",
              "       [0.],\n",
              "       [0.],\n",
              "       [1.],\n",
              "       [0.],\n",
              "       [0.],\n",
              "       [0.],\n",
              "       [1.],\n",
              "       [1.],\n",
              "       [0.],\n",
              "       [1.],\n",
              "       [0.],\n",
              "       [0.],\n",
              "       [0.],\n",
              "       [1.],\n",
              "       [1.],\n",
              "       [1.],\n",
              "       [0.],\n",
              "       [1.],\n",
              "       [0.],\n",
              "       [1.],\n",
              "       [0.],\n",
              "       [0.],\n",
              "       [1.],\n",
              "       [0.],\n",
              "       [1.],\n",
              "       [0.],\n",
              "       [0.],\n",
              "       [1.],\n",
              "       [1.],\n",
              "       [0.],\n",
              "       [0.],\n",
              "       [0.],\n",
              "       [1.],\n",
              "       [1.],\n",
              "       [0.],\n",
              "       [0.],\n",
              "       [1.],\n",
              "       [1.],\n",
              "       [0.],\n",
              "       [1.],\n",
              "       [0.],\n",
              "       [0.],\n",
              "       [0.],\n",
              "       [1.],\n",
              "       [1.],\n",
              "       [0.],\n",
              "       [0.],\n",
              "       [0.],\n",
              "       [1.],\n",
              "       [1.],\n",
              "       [1.],\n",
              "       [1.],\n",
              "       [1.],\n",
              "       [1.],\n",
              "       [0.],\n",
              "       [0.],\n",
              "       [1.],\n",
              "       [1.],\n",
              "       [0.],\n",
              "       [0.],\n",
              "       [0.],\n",
              "       [0.],\n",
              "       [1.],\n",
              "       [0.],\n",
              "       [0.],\n",
              "       [0.],\n",
              "       [1.],\n",
              "       [0.],\n",
              "       [1.],\n",
              "       [0.],\n",
              "       [0.],\n",
              "       [0.],\n",
              "       [1.],\n",
              "       [1.],\n",
              "       [1.],\n",
              "       [1.],\n",
              "       [1.],\n",
              "       [0.],\n",
              "       [0.],\n",
              "       [0.],\n",
              "       [1.],\n",
              "       [0.],\n",
              "       [0.],\n",
              "       [0.],\n",
              "       [0.],\n",
              "       [0.],\n",
              "       [1.],\n",
              "       [0.],\n",
              "       [1.],\n",
              "       [0.],\n",
              "       [0.],\n",
              "       [1.],\n",
              "       [0.],\n",
              "       [0.],\n",
              "       [1.],\n",
              "       [1.],\n",
              "       [0.],\n",
              "       [1.],\n",
              "       [1.],\n",
              "       [0.],\n",
              "       [0.],\n",
              "       [0.],\n",
              "       [1.],\n",
              "       [0.],\n",
              "       [0.],\n",
              "       [1.],\n",
              "       [1.],\n",
              "       [1.],\n",
              "       [0.],\n",
              "       [1.],\n",
              "       [0.],\n",
              "       [1.],\n",
              "       [1.],\n",
              "       [0.],\n",
              "       [1.],\n",
              "       [1.],\n",
              "       [0.],\n",
              "       [1.],\n",
              "       [0.],\n",
              "       [1.],\n",
              "       [1.],\n",
              "       [0.],\n",
              "       [1.],\n",
              "       [1.],\n",
              "       [0.],\n",
              "       [0.],\n",
              "       [0.],\n",
              "       [1.],\n",
              "       [1.],\n",
              "       [1.],\n",
              "       [1.],\n",
              "       [1.],\n",
              "       [1.],\n",
              "       [0.],\n",
              "       [0.],\n",
              "       [0.],\n",
              "       [1.],\n",
              "       [1.],\n",
              "       [1.],\n",
              "       [1.],\n",
              "       [0.],\n",
              "       [0.],\n",
              "       [1.],\n",
              "       [0.],\n",
              "       [0.],\n",
              "       [0.],\n",
              "       [1.],\n",
              "       [1.],\n",
              "       [0.],\n",
              "       [1.],\n",
              "       [0.],\n",
              "       [0.],\n",
              "       [0.],\n",
              "       [1.],\n",
              "       [0.],\n",
              "       [1.],\n",
              "       [1.],\n",
              "       [0.],\n",
              "       [1.],\n",
              "       [1.],\n",
              "       [0.],\n",
              "       [0.],\n",
              "       [0.],\n",
              "       [0.],\n",
              "       [1.],\n",
              "       [0.],\n",
              "       [0.],\n",
              "       [1.],\n",
              "       [0.],\n",
              "       [0.],\n",
              "       [1.],\n",
              "       [0.],\n",
              "       [1.],\n",
              "       [0.],\n",
              "       [0.],\n",
              "       [1.],\n",
              "       [1.],\n",
              "       [1.],\n",
              "       [0.],\n",
              "       [1.],\n",
              "       [1.],\n",
              "       [1.],\n",
              "       [1.],\n",
              "       [1.],\n",
              "       [1.],\n",
              "       [0.],\n",
              "       [1.],\n",
              "       [1.],\n",
              "       [1.],\n",
              "       [1.],\n",
              "       [1.],\n",
              "       [1.],\n",
              "       [0.],\n",
              "       [0.],\n",
              "       [0.],\n",
              "       [0.],\n",
              "       [0.],\n",
              "       [0.],\n",
              "       [1.],\n",
              "       [1.],\n",
              "       [1.],\n",
              "       [1.],\n",
              "       [0.],\n",
              "       [0.],\n",
              "       [0.],\n",
              "       [0.],\n",
              "       [1.],\n",
              "       [1.],\n",
              "       [1.],\n",
              "       [0.],\n",
              "       [1.],\n",
              "       [0.],\n",
              "       [1.],\n",
              "       [1.],\n",
              "       [0.],\n",
              "       [1.],\n",
              "       [0.],\n",
              "       [0.],\n",
              "       [0.],\n",
              "       [1.],\n",
              "       [0.],\n",
              "       [0.],\n",
              "       [1.],\n",
              "       [1.],\n",
              "       [1.],\n",
              "       [1.],\n",
              "       [0.],\n",
              "       [1.],\n",
              "       [1.],\n",
              "       [1.],\n",
              "       [0.],\n",
              "       [1.],\n",
              "       [1.],\n",
              "       [0.],\n",
              "       [1.],\n",
              "       [1.],\n",
              "       [1.],\n",
              "       [1.],\n",
              "       [0.],\n",
              "       [0.],\n",
              "       [1.],\n",
              "       [1.],\n",
              "       [0.],\n",
              "       [0.],\n",
              "       [1.],\n",
              "       [0.],\n",
              "       [1.],\n",
              "       [0.],\n",
              "       [1.],\n",
              "       [1.],\n",
              "       [1.],\n",
              "       [1.],\n",
              "       [0.],\n",
              "       [1.],\n",
              "       [1.],\n",
              "       [1.],\n",
              "       [0.],\n",
              "       [0.],\n",
              "       [1.],\n",
              "       [1.],\n",
              "       [0.],\n",
              "       [0.],\n",
              "       [0.],\n",
              "       [1.],\n",
              "       [0.],\n",
              "       [0.],\n",
              "       [1.],\n",
              "       [0.],\n",
              "       [1.],\n",
              "       [0.],\n",
              "       [1.],\n",
              "       [1.],\n",
              "       [1.],\n",
              "       [0.],\n",
              "       [1.],\n",
              "       [0.],\n",
              "       [1.],\n",
              "       [1.],\n",
              "       [1.],\n",
              "       [0.],\n",
              "       [1.],\n",
              "       [1.],\n",
              "       [1.],\n",
              "       [0.],\n",
              "       [0.],\n",
              "       [0.],\n",
              "       [0.],\n",
              "       [0.],\n",
              "       [0.],\n",
              "       [1.],\n",
              "       [1.],\n",
              "       [1.],\n",
              "       [0.],\n",
              "       [0.],\n",
              "       [0.],\n",
              "       [1.],\n",
              "       [1.],\n",
              "       [1.],\n",
              "       [1.],\n",
              "       [0.],\n",
              "       [1.],\n",
              "       [0.],\n",
              "       [0.],\n",
              "       [1.],\n",
              "       [0.],\n",
              "       [1.],\n",
              "       [0.],\n",
              "       [0.],\n",
              "       [0.],\n",
              "       [1.],\n",
              "       [0.],\n",
              "       [0.],\n",
              "       [0.],\n",
              "       [0.],\n",
              "       [1.],\n",
              "       [0.],\n",
              "       [0.],\n",
              "       [0.],\n",
              "       [0.],\n",
              "       [1.],\n",
              "       [0.],\n",
              "       [1.],\n",
              "       [1.],\n",
              "       [1.],\n",
              "       [1.],\n",
              "       [1.],\n",
              "       [1.],\n",
              "       [0.],\n",
              "       [1.],\n",
              "       [1.],\n",
              "       [1.],\n",
              "       [0.],\n",
              "       [0.],\n",
              "       [1.],\n",
              "       [1.],\n",
              "       [1.],\n",
              "       [1.],\n",
              "       [0.],\n",
              "       [0.],\n",
              "       [0.],\n",
              "       [0.],\n",
              "       [0.],\n",
              "       [1.],\n",
              "       [0.],\n",
              "       [0.],\n",
              "       [1.],\n",
              "       [0.],\n",
              "       [1.],\n",
              "       [1.],\n",
              "       [0.],\n",
              "       [0.],\n",
              "       [0.],\n",
              "       [1.],\n",
              "       [1.],\n",
              "       [0.],\n",
              "       [0.],\n",
              "       [0.],\n",
              "       [0.],\n",
              "       [0.],\n",
              "       [1.],\n",
              "       [0.],\n",
              "       [1.],\n",
              "       [1.],\n",
              "       [1.],\n",
              "       [0.],\n",
              "       [1.],\n",
              "       [1.],\n",
              "       [1.],\n",
              "       [1.],\n",
              "       [1.],\n",
              "       [1.],\n",
              "       [0.],\n",
              "       [1.],\n",
              "       [1.],\n",
              "       [0.],\n",
              "       [0.],\n",
              "       [0.],\n",
              "       [0.],\n",
              "       [0.],\n",
              "       [0.],\n",
              "       [0.],\n",
              "       [1.],\n",
              "       [0.],\n",
              "       [0.],\n",
              "       [0.],\n",
              "       [0.],\n",
              "       [1.],\n",
              "       [0.],\n",
              "       [0.],\n",
              "       [0.],\n",
              "       [0.],\n",
              "       [0.],\n",
              "       [1.],\n",
              "       [1.],\n",
              "       [1.],\n",
              "       [1.],\n",
              "       [0.],\n",
              "       [1.],\n",
              "       [0.],\n",
              "       [1.],\n",
              "       [1.],\n",
              "       [1.],\n",
              "       [1.],\n",
              "       [0.],\n",
              "       [0.],\n",
              "       [0.],\n",
              "       [1.],\n",
              "       [0.],\n",
              "       [1.],\n",
              "       [0.],\n",
              "       [1.],\n",
              "       [0.],\n",
              "       [1.],\n",
              "       [0.],\n",
              "       [1.],\n",
              "       [0.],\n",
              "       [1.],\n",
              "       [0.],\n",
              "       [1.],\n",
              "       [0.],\n",
              "       [0.],\n",
              "       [0.],\n",
              "       [0.],\n",
              "       [0.],\n",
              "       [0.],\n",
              "       [0.],\n",
              "       [1.],\n",
              "       [0.],\n",
              "       [0.],\n",
              "       [0.],\n",
              "       [1.],\n",
              "       [0.],\n",
              "       [0.],\n",
              "       [0.],\n",
              "       [1.],\n",
              "       [1.],\n",
              "       [1.],\n",
              "       [0.],\n",
              "       [0.],\n",
              "       [1.],\n",
              "       [0.],\n",
              "       [1.],\n",
              "       [1.],\n",
              "       [0.],\n",
              "       [1.],\n",
              "       [0.],\n",
              "       [0.],\n",
              "       [0.],\n",
              "       [1.],\n",
              "       [1.],\n",
              "       [1.],\n",
              "       [1.],\n",
              "       [0.],\n",
              "       [0.],\n",
              "       [1.],\n",
              "       [1.],\n",
              "       [0.],\n",
              "       [0.],\n",
              "       [1.],\n",
              "       [0.],\n",
              "       [1.],\n",
              "       [1.],\n",
              "       [0.],\n",
              "       [0.],\n",
              "       [1.],\n",
              "       [0.],\n",
              "       [1.],\n",
              "       [1.],\n",
              "       [1.],\n",
              "       [1.],\n",
              "       [0.],\n",
              "       [0.],\n",
              "       [0.],\n",
              "       [1.],\n",
              "       [0.],\n",
              "       [0.],\n",
              "       [1.],\n",
              "       [0.],\n",
              "       [0.],\n",
              "       [0.],\n",
              "       [0.],\n",
              "       [0.],\n",
              "       [1.],\n",
              "       [0.],\n",
              "       [0.],\n",
              "       [0.],\n",
              "       [1.],\n",
              "       [0.],\n",
              "       [1.],\n",
              "       [1.],\n",
              "       [1.],\n",
              "       [1.],\n",
              "       [0.],\n",
              "       [1.],\n",
              "       [1.],\n",
              "       [1.],\n",
              "       [1.],\n",
              "       [1.],\n",
              "       [1.],\n",
              "       [0.],\n",
              "       [0.],\n",
              "       [0.],\n",
              "       [0.],\n",
              "       [1.],\n",
              "       [0.],\n",
              "       [1.],\n",
              "       [1.],\n",
              "       [0.],\n",
              "       [0.],\n",
              "       [1.],\n",
              "       [0.],\n",
              "       [1.],\n",
              "       [1.],\n",
              "       [0.],\n",
              "       [0.],\n",
              "       [1.],\n",
              "       [0.],\n",
              "       [0.],\n",
              "       [0.],\n",
              "       [0.],\n",
              "       [0.],\n",
              "       [0.],\n",
              "       [0.],\n",
              "       [1.],\n",
              "       [1.],\n",
              "       [1.],\n",
              "       [0.],\n",
              "       [1.],\n",
              "       [0.],\n",
              "       [1.],\n",
              "       [1.],\n",
              "       [1.],\n",
              "       [0.],\n",
              "       [0.],\n",
              "       [0.],\n",
              "       [0.],\n",
              "       [0.],\n",
              "       [0.],\n",
              "       [0.],\n",
              "       [1.],\n",
              "       [0.],\n",
              "       [0.],\n",
              "       [1.],\n",
              "       [0.],\n",
              "       [1.],\n",
              "       [0.],\n",
              "       [0.],\n",
              "       [1.],\n",
              "       [0.],\n",
              "       [0.],\n",
              "       [1.],\n",
              "       [1.],\n",
              "       [0.],\n",
              "       [1.],\n",
              "       [1.],\n",
              "       [1.],\n",
              "       [1.],\n",
              "       [1.],\n",
              "       [1.],\n",
              "       [1.],\n",
              "       [0.],\n",
              "       [0.],\n",
              "       [0.],\n",
              "       [0.],\n",
              "       [0.],\n",
              "       [1.],\n",
              "       [0.],\n",
              "       [1.],\n",
              "       [0.],\n",
              "       [1.],\n",
              "       [1.],\n",
              "       [1.],\n",
              "       [1.],\n",
              "       [1.],\n",
              "       [0.],\n",
              "       [1.],\n",
              "       [1.],\n",
              "       [1.],\n",
              "       [1.],\n",
              "       [1.],\n",
              "       [0.],\n",
              "       [1.],\n",
              "       [0.],\n",
              "       [1.],\n",
              "       [0.],\n",
              "       [1.],\n",
              "       [0.],\n",
              "       [0.],\n",
              "       [0.],\n",
              "       [0.],\n",
              "       [0.],\n",
              "       [0.],\n",
              "       [0.],\n",
              "       [0.],\n",
              "       [1.],\n",
              "       [0.],\n",
              "       [1.],\n",
              "       [0.],\n",
              "       [1.],\n",
              "       [0.],\n",
              "       [0.],\n",
              "       [1.],\n",
              "       [1.],\n",
              "       [1.],\n",
              "       [0.],\n",
              "       [0.],\n",
              "       [0.],\n",
              "       [1.]], dtype=float32)"
            ]
          },
          "metadata": {
            "tags": []
          },
          "execution_count": 54
        }
      ]
    },
    {
      "cell_type": "code",
      "metadata": {
        "id": "D8jgi7TCOHf6",
        "colab_type": "code",
        "colab": {}
      },
      "source": [
        "from sklearn.metrics import confusion_matrix,classification_report"
      ],
      "execution_count": 55,
      "outputs": []
    },
    {
      "cell_type": "code",
      "metadata": {
        "id": "QScJJd1rNOeh",
        "colab_type": "code",
        "colab": {
          "base_uri": "https://localhost:8080/",
          "height": 170
        },
        "outputId": "efc9faeb-6518-4b10-f31d-e84a32392352"
      },
      "source": [
        "print(classification_report(y_train, train_pred))"
      ],
      "execution_count": 56,
      "outputs": [
        {
          "output_type": "stream",
          "text": [
            "              precision    recall  f1-score   support\n",
            "\n",
            "           0       1.00      1.00      1.00       379\n",
            "           1       1.00      1.00      1.00       371\n",
            "\n",
            "    accuracy                           1.00       750\n",
            "   macro avg       1.00      1.00      1.00       750\n",
            "weighted avg       1.00      1.00      1.00       750\n",
            "\n"
          ],
          "name": "stdout"
        }
      ]
    },
    {
      "cell_type": "code",
      "metadata": {
        "id": "hZFvFD5AXJXd",
        "colab_type": "code",
        "colab": {
          "base_uri": "https://localhost:8080/",
          "height": 51
        },
        "outputId": "a9758a87-5bb8-4a23-af27-7842e031aab3"
      },
      "source": [
        "confusion_matrix(y_train,train_pred)"
      ],
      "execution_count": 57,
      "outputs": [
        {
          "output_type": "execute_result",
          "data": {
            "text/plain": [
              "array([[379,   0],\n",
              "       [  0, 371]])"
            ]
          },
          "metadata": {
            "tags": []
          },
          "execution_count": 57
        }
      ]
    },
    {
      "cell_type": "code",
      "metadata": {
        "id": "3y5mK9OBXQ1C",
        "colab_type": "code",
        "colab": {}
      },
      "source": [
        "test_pred=tot_model.predict(X_test)"
      ],
      "execution_count": 58,
      "outputs": []
    },
    {
      "cell_type": "code",
      "metadata": {
        "id": "Mwlx427IMQ4P",
        "colab_type": "code",
        "colab": {}
      },
      "source": [
        "for i in range (len(test_pred)):\n",
        "  if test_pred[i]>0.5:\n",
        "    test_pred[i]=1\n",
        "  else:\n",
        "    test_pred[i]=0"
      ],
      "execution_count": 59,
      "outputs": []
    },
    {
      "cell_type": "code",
      "metadata": {
        "id": "ezwxeGXqMTtl",
        "colab_type": "code",
        "colab": {
          "base_uri": "https://localhost:8080/",
          "height": 170
        },
        "outputId": "8260b6c1-4071-4aa8-8b06-331df0b952bf"
      },
      "source": [
        "print(classification_report(y_test,test_pred))"
      ],
      "execution_count": 60,
      "outputs": [
        {
          "output_type": "stream",
          "text": [
            "              precision    recall  f1-score   support\n",
            "\n",
            "           0       1.00      1.00      1.00       121\n",
            "           1       1.00      1.00      1.00       129\n",
            "\n",
            "    accuracy                           1.00       250\n",
            "   macro avg       1.00      1.00      1.00       250\n",
            "weighted avg       1.00      1.00      1.00       250\n",
            "\n"
          ],
          "name": "stdout"
        }
      ]
    },
    {
      "cell_type": "code",
      "metadata": {
        "id": "vfWZgKe6XwHn",
        "colab_type": "code",
        "colab": {
          "base_uri": "https://localhost:8080/",
          "height": 51
        },
        "outputId": "1fd56b45-c889-418a-fefc-3baad9046c6b"
      },
      "source": [
        "confusion_matrix(y_test,test_pred)"
      ],
      "execution_count": 61,
      "outputs": [
        {
          "output_type": "execute_result",
          "data": {
            "text/plain": [
              "array([[121,   0],\n",
              "       [  0, 129]])"
            ]
          },
          "metadata": {
            "tags": []
          },
          "execution_count": 61
        }
      ]
    },
    {
      "cell_type": "code",
      "metadata": {
        "id": "GvwuCTiXX1y7",
        "colab_type": "code",
        "colab": {}
      },
      "source": [
        ""
      ],
      "execution_count": null,
      "outputs": []
    }
  ]
}