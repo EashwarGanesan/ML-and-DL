{
 "cells": [
  {
   "cell_type": "markdown",
   "metadata": {},
   "source": [
    "# Import the necessary Libraries"
   ]
  },
  {
   "cell_type": "code",
   "execution_count": 1,
   "metadata": {},
   "outputs": [],
   "source": [
    "import pandas as pd\n",
    "import numpy as np\n",
    "import matplotlib.pyplot as plt\n",
    "%matplotlib inline\n",
    "import seaborn as sns\n"
   ]
  },
  {
   "cell_type": "code",
   "execution_count": 2,
   "metadata": {},
   "outputs": [],
   "source": [
    "import warnings\n",
    "warnings.filterwarnings(\"ignore\")"
   ]
  },
  {
   "cell_type": "markdown",
   "metadata": {},
   "source": [
    "# Read the Train and Test Files and Concat it into single file"
   ]
  },
  {
   "cell_type": "code",
   "execution_count": 3,
   "metadata": {},
   "outputs": [],
   "source": [
    "data_train=pd.read_excel(\"Data_Train.xlsx\")"
   ]
  },
  {
   "cell_type": "code",
   "execution_count": 4,
   "metadata": {},
   "outputs": [],
   "source": [
    "data_test=pd.read_excel(\"Data_Test.xlsx\")"
   ]
  },
  {
   "cell_type": "code",
   "execution_count": 5,
   "metadata": {},
   "outputs": [],
   "source": [
    "data=pd.concat([data_train,data_test],axis='index')"
   ]
  },
  {
   "cell_type": "code",
   "execution_count": 6,
   "metadata": {},
   "outputs": [
    {
     "data": {
      "text/html": [
       "<div>\n",
       "<style scoped>\n",
       "    .dataframe tbody tr th:only-of-type {\n",
       "        vertical-align: middle;\n",
       "    }\n",
       "\n",
       "    .dataframe tbody tr th {\n",
       "        vertical-align: top;\n",
       "    }\n",
       "\n",
       "    .dataframe thead th {\n",
       "        text-align: right;\n",
       "    }\n",
       "</style>\n",
       "<table border=\"1\" class=\"dataframe\">\n",
       "  <thead>\n",
       "    <tr style=\"text-align: right;\">\n",
       "      <th></th>\n",
       "      <th>Average_Cost</th>\n",
       "      <th>Cuisines</th>\n",
       "      <th>Delivery_Time</th>\n",
       "      <th>Location</th>\n",
       "      <th>Minimum_Order</th>\n",
       "      <th>Rating</th>\n",
       "      <th>Restaurant</th>\n",
       "      <th>Reviews</th>\n",
       "      <th>Votes</th>\n",
       "    </tr>\n",
       "  </thead>\n",
       "  <tbody>\n",
       "    <tr>\n",
       "      <td>0</td>\n",
       "      <td>₹200</td>\n",
       "      <td>Fast Food, Rolls, Burger, Salad, Wraps</td>\n",
       "      <td>30 minutes</td>\n",
       "      <td>FTI College, Law College Road, Pune</td>\n",
       "      <td>₹50</td>\n",
       "      <td>3.5</td>\n",
       "      <td>ID_6321</td>\n",
       "      <td>4</td>\n",
       "      <td>12</td>\n",
       "    </tr>\n",
       "    <tr>\n",
       "      <td>1</td>\n",
       "      <td>₹100</td>\n",
       "      <td>Ice Cream, Desserts</td>\n",
       "      <td>30 minutes</td>\n",
       "      <td>Sector 3, Marathalli</td>\n",
       "      <td>₹50</td>\n",
       "      <td>3.5</td>\n",
       "      <td>ID_2882</td>\n",
       "      <td>4</td>\n",
       "      <td>11</td>\n",
       "    </tr>\n",
       "    <tr>\n",
       "      <td>2</td>\n",
       "      <td>₹150</td>\n",
       "      <td>Italian, Street Food, Fast Food</td>\n",
       "      <td>65 minutes</td>\n",
       "      <td>Mumbai Central</td>\n",
       "      <td>₹50</td>\n",
       "      <td>3.6</td>\n",
       "      <td>ID_1595</td>\n",
       "      <td>30</td>\n",
       "      <td>99</td>\n",
       "    </tr>\n",
       "    <tr>\n",
       "      <td>3</td>\n",
       "      <td>₹250</td>\n",
       "      <td>Mughlai, North Indian, Chinese</td>\n",
       "      <td>30 minutes</td>\n",
       "      <td>Sector 1, Noida</td>\n",
       "      <td>₹99</td>\n",
       "      <td>3.7</td>\n",
       "      <td>ID_5929</td>\n",
       "      <td>95</td>\n",
       "      <td>176</td>\n",
       "    </tr>\n",
       "    <tr>\n",
       "      <td>4</td>\n",
       "      <td>₹200</td>\n",
       "      <td>Cafe, Beverages</td>\n",
       "      <td>65 minutes</td>\n",
       "      <td>Rmz Centennial, I Gate, Whitefield</td>\n",
       "      <td>₹99</td>\n",
       "      <td>3.2</td>\n",
       "      <td>ID_6123</td>\n",
       "      <td>235</td>\n",
       "      <td>521</td>\n",
       "    </tr>\n",
       "  </tbody>\n",
       "</table>\n",
       "</div>"
      ],
      "text/plain": [
       "  Average_Cost                                Cuisines Delivery_Time  \\\n",
       "0         ₹200  Fast Food, Rolls, Burger, Salad, Wraps    30 minutes   \n",
       "1         ₹100                     Ice Cream, Desserts    30 minutes   \n",
       "2         ₹150         Italian, Street Food, Fast Food    65 minutes   \n",
       "3         ₹250          Mughlai, North Indian, Chinese    30 minutes   \n",
       "4         ₹200                         Cafe, Beverages    65 minutes   \n",
       "\n",
       "                              Location Minimum_Order Rating Restaurant  \\\n",
       "0  FTI College, Law College Road, Pune           ₹50    3.5    ID_6321   \n",
       "1                 Sector 3, Marathalli           ₹50    3.5    ID_2882   \n",
       "2                       Mumbai Central           ₹50    3.6    ID_1595   \n",
       "3                      Sector 1, Noida           ₹99    3.7    ID_5929   \n",
       "4   Rmz Centennial, I Gate, Whitefield           ₹99    3.2    ID_6123   \n",
       "\n",
       "  Reviews Votes  \n",
       "0       4    12  \n",
       "1       4    11  \n",
       "2      30    99  \n",
       "3      95   176  \n",
       "4     235   521  "
      ]
     },
     "execution_count": 6,
     "metadata": {},
     "output_type": "execute_result"
    }
   ],
   "source": [
    "data.head()"
   ]
  },
  {
   "cell_type": "markdown",
   "metadata": {},
   "source": [
    "# EDA"
   ]
  },
  {
   "cell_type": "code",
   "execution_count": 7,
   "metadata": {
    "scrolled": true
   },
   "outputs": [
    {
     "ename": "IndexError",
     "evalue": "index -1 is out of bounds for axis 0 with size 0",
     "output_type": "error",
     "traceback": [
      "\u001b[1;31m---------------------------------------------------------------------------\u001b[0m",
      "\u001b[1;31mIndexError\u001b[0m                                Traceback (most recent call last)",
      "\u001b[1;32m<ipython-input-7-9f33636b51d6>\u001b[0m in \u001b[0;36m<module>\u001b[1;34m\u001b[0m\n\u001b[1;32m----> 1\u001b[1;33m \u001b[0msns\u001b[0m\u001b[1;33m.\u001b[0m\u001b[0mpairplot\u001b[0m\u001b[1;33m(\u001b[0m\u001b[0mdata\u001b[0m\u001b[1;33m)\u001b[0m\u001b[1;33m\u001b[0m\u001b[1;33m\u001b[0m\u001b[0m\n\u001b[0m",
      "\u001b[1;32m~\\Anaconda3\\lib\\site-packages\\seaborn\\axisgrid.py\u001b[0m in \u001b[0;36mpairplot\u001b[1;34m(data, hue, hue_order, palette, vars, x_vars, y_vars, kind, diag_kind, markers, height, aspect, dropna, plot_kws, diag_kws, grid_kws, size)\u001b[0m\n\u001b[0;32m   2082\u001b[0m                     \u001b[0mhue_order\u001b[0m\u001b[1;33m=\u001b[0m\u001b[0mhue_order\u001b[0m\u001b[1;33m,\u001b[0m \u001b[0mpalette\u001b[0m\u001b[1;33m=\u001b[0m\u001b[0mpalette\u001b[0m\u001b[1;33m,\u001b[0m\u001b[1;33m\u001b[0m\u001b[1;33m\u001b[0m\u001b[0m\n\u001b[0;32m   2083\u001b[0m                     \u001b[0mdiag_sharey\u001b[0m\u001b[1;33m=\u001b[0m\u001b[0mdiag_sharey\u001b[0m\u001b[1;33m,\u001b[0m\u001b[1;33m\u001b[0m\u001b[1;33m\u001b[0m\u001b[0m\n\u001b[1;32m-> 2084\u001b[1;33m                     height=height, aspect=aspect, dropna=dropna, **grid_kws)\n\u001b[0m\u001b[0;32m   2085\u001b[0m \u001b[1;33m\u001b[0m\u001b[0m\n\u001b[0;32m   2086\u001b[0m     \u001b[1;31m# Add the markers here as PairGrid has figured out how many levels of the\u001b[0m\u001b[1;33m\u001b[0m\u001b[1;33m\u001b[0m\u001b[1;33m\u001b[0m\u001b[0m\n",
      "\u001b[1;32m~\\Anaconda3\\lib\\site-packages\\seaborn\\axisgrid.py\u001b[0m in \u001b[0;36m__init__\u001b[1;34m(self, data, hue, hue_order, palette, hue_kws, vars, x_vars, y_vars, diag_sharey, height, aspect, despine, dropna, size)\u001b[0m\n\u001b[0;32m   1279\u001b[0m \u001b[1;33m\u001b[0m\u001b[0m\n\u001b[0;32m   1280\u001b[0m         \u001b[1;31m# Label the axes\u001b[0m\u001b[1;33m\u001b[0m\u001b[1;33m\u001b[0m\u001b[1;33m\u001b[0m\u001b[0m\n\u001b[1;32m-> 1281\u001b[1;33m         \u001b[0mself\u001b[0m\u001b[1;33m.\u001b[0m\u001b[0m_add_axis_labels\u001b[0m\u001b[1;33m(\u001b[0m\u001b[1;33m)\u001b[0m\u001b[1;33m\u001b[0m\u001b[1;33m\u001b[0m\u001b[0m\n\u001b[0m\u001b[0;32m   1282\u001b[0m \u001b[1;33m\u001b[0m\u001b[0m\n\u001b[0;32m   1283\u001b[0m         \u001b[1;31m# Sort out the hue variable\u001b[0m\u001b[1;33m\u001b[0m\u001b[1;33m\u001b[0m\u001b[1;33m\u001b[0m\u001b[0m\n",
      "\u001b[1;32m~\\Anaconda3\\lib\\site-packages\\seaborn\\axisgrid.py\u001b[0m in \u001b[0;36m_add_axis_labels\u001b[1;34m(self)\u001b[0m\n\u001b[0;32m   1516\u001b[0m     \u001b[1;32mdef\u001b[0m \u001b[0m_add_axis_labels\u001b[0m\u001b[1;33m(\u001b[0m\u001b[0mself\u001b[0m\u001b[1;33m)\u001b[0m\u001b[1;33m:\u001b[0m\u001b[1;33m\u001b[0m\u001b[1;33m\u001b[0m\u001b[0m\n\u001b[0;32m   1517\u001b[0m         \u001b[1;34m\"\"\"Add labels to the left and bottom Axes.\"\"\"\u001b[0m\u001b[1;33m\u001b[0m\u001b[1;33m\u001b[0m\u001b[0m\n\u001b[1;32m-> 1518\u001b[1;33m         \u001b[1;32mfor\u001b[0m \u001b[0max\u001b[0m\u001b[1;33m,\u001b[0m \u001b[0mlabel\u001b[0m \u001b[1;32min\u001b[0m \u001b[0mzip\u001b[0m\u001b[1;33m(\u001b[0m\u001b[0mself\u001b[0m\u001b[1;33m.\u001b[0m\u001b[0maxes\u001b[0m\u001b[1;33m[\u001b[0m\u001b[1;33m-\u001b[0m\u001b[1;36m1\u001b[0m\u001b[1;33m,\u001b[0m \u001b[1;33m:\u001b[0m\u001b[1;33m]\u001b[0m\u001b[1;33m,\u001b[0m \u001b[0mself\u001b[0m\u001b[1;33m.\u001b[0m\u001b[0mx_vars\u001b[0m\u001b[1;33m)\u001b[0m\u001b[1;33m:\u001b[0m\u001b[1;33m\u001b[0m\u001b[1;33m\u001b[0m\u001b[0m\n\u001b[0m\u001b[0;32m   1519\u001b[0m             \u001b[0max\u001b[0m\u001b[1;33m.\u001b[0m\u001b[0mset_xlabel\u001b[0m\u001b[1;33m(\u001b[0m\u001b[0mlabel\u001b[0m\u001b[1;33m)\u001b[0m\u001b[1;33m\u001b[0m\u001b[1;33m\u001b[0m\u001b[0m\n\u001b[0;32m   1520\u001b[0m         \u001b[1;32mfor\u001b[0m \u001b[0max\u001b[0m\u001b[1;33m,\u001b[0m \u001b[0mlabel\u001b[0m \u001b[1;32min\u001b[0m \u001b[0mzip\u001b[0m\u001b[1;33m(\u001b[0m\u001b[0mself\u001b[0m\u001b[1;33m.\u001b[0m\u001b[0maxes\u001b[0m\u001b[1;33m[\u001b[0m\u001b[1;33m:\u001b[0m\u001b[1;33m,\u001b[0m \u001b[1;36m0\u001b[0m\u001b[1;33m]\u001b[0m\u001b[1;33m,\u001b[0m \u001b[0mself\u001b[0m\u001b[1;33m.\u001b[0m\u001b[0my_vars\u001b[0m\u001b[1;33m)\u001b[0m\u001b[1;33m:\u001b[0m\u001b[1;33m\u001b[0m\u001b[1;33m\u001b[0m\u001b[0m\n",
      "\u001b[1;31mIndexError\u001b[0m: index -1 is out of bounds for axis 0 with size 0"
     ]
    },
    {
     "data": {
      "text/plain": [
       "<Figure size 0x0 with 0 Axes>"
      ]
     },
     "metadata": {},
     "output_type": "display_data"
    }
   ],
   "source": [
    "sns.pairplot(data)"
   ]
  },
  {
   "cell_type": "code",
   "execution_count": 7,
   "metadata": {},
   "outputs": [
    {
     "data": {
      "text/plain": [
       "(13868, 9)"
      ]
     },
     "execution_count": 7,
     "metadata": {},
     "output_type": "execute_result"
    }
   ],
   "source": [
    "data.shape"
   ]
  },
  {
   "cell_type": "code",
   "execution_count": 8,
   "metadata": {},
   "outputs": [
    {
     "data": {
      "text/plain": [
       "(11094, 9)"
      ]
     },
     "execution_count": 8,
     "metadata": {},
     "output_type": "execute_result"
    }
   ],
   "source": [
    "data_train.shape"
   ]
  },
  {
   "cell_type": "code",
   "execution_count": 9,
   "metadata": {},
   "outputs": [
    {
     "data": {
      "text/plain": [
       "(2774, 8)"
      ]
     },
     "execution_count": 9,
     "metadata": {},
     "output_type": "execute_result"
    }
   ],
   "source": [
    "data_test.shape"
   ]
  },
  {
   "cell_type": "code",
   "execution_count": 10,
   "metadata": {},
   "outputs": [
    {
     "data": {
      "text/plain": [
       "0"
      ]
     },
     "execution_count": 10,
     "metadata": {},
     "output_type": "execute_result"
    }
   ],
   "source": [
    "data.duplicated().sum()"
   ]
  },
  {
   "cell_type": "code",
   "execution_count": 11,
   "metadata": {},
   "outputs": [
    {
     "data": {
      "text/plain": [
       "Average_Cost        0\n",
       "Cuisines            0\n",
       "Delivery_Time    2774\n",
       "Location            0\n",
       "Minimum_Order       0\n",
       "Rating              0\n",
       "Restaurant          0\n",
       "Reviews             0\n",
       "Votes               0\n",
       "dtype: int64"
      ]
     },
     "execution_count": 11,
     "metadata": {},
     "output_type": "execute_result"
    }
   ],
   "source": [
    "data.isna().sum()"
   ]
  },
  {
   "cell_type": "code",
   "execution_count": 12,
   "metadata": {},
   "outputs": [
    {
     "name": "stdout",
     "output_type": "stream",
     "text": [
      "<class 'pandas.core.frame.DataFrame'>\n",
      "Int64Index: 13868 entries, 0 to 2773\n",
      "Data columns (total 9 columns):\n",
      "Average_Cost     13868 non-null object\n",
      "Cuisines         13868 non-null object\n",
      "Delivery_Time    11094 non-null object\n",
      "Location         13868 non-null object\n",
      "Minimum_Order    13868 non-null object\n",
      "Rating           13868 non-null object\n",
      "Restaurant       13868 non-null object\n",
      "Reviews          13868 non-null object\n",
      "Votes            13868 non-null object\n",
      "dtypes: object(9)\n",
      "memory usage: 1.1+ MB\n"
     ]
    }
   ],
   "source": [
    "data.info()"
   ]
  },
  {
   "cell_type": "code",
   "execution_count": 13,
   "metadata": {},
   "outputs": [
    {
     "data": {
      "text/plain": [
       "Index(['Average_Cost', 'Cuisines', 'Delivery_Time', 'Location',\n",
       "       'Minimum_Order', 'Rating', 'Restaurant', 'Reviews', 'Votes'],\n",
       "      dtype='object')"
      ]
     },
     "execution_count": 13,
     "metadata": {},
     "output_type": "execute_result"
    }
   ],
   "source": [
    "data.columns"
   ]
  },
  {
   "cell_type": "markdown",
   "metadata": {},
   "source": [
    "# Average Cost"
   ]
  },
  {
   "cell_type": "code",
   "execution_count": 14,
   "metadata": {},
   "outputs": [
    {
     "data": {
      "text/plain": [
       "₹200      4061\n",
       "₹100      3221\n",
       "₹150      3051\n",
       "₹250      1104\n",
       "₹300       710\n",
       "₹350       354\n",
       "₹400       346\n",
       "₹50        337\n",
       "₹600       184\n",
       "₹500       116\n",
       "₹550        73\n",
       "₹450        72\n",
       "₹650        63\n",
       "₹800        50\n",
       "₹750        41\n",
       "₹700        19\n",
       "₹1,000      16\n",
       "₹850        16\n",
       "₹900        15\n",
       "₹1,200      10\n",
       "₹950         4\n",
       "₹1,400       1\n",
       "₹1,150       1\n",
       "for          1\n",
       "₹2,050       1\n",
       "₹1,100       1\n",
       "Name: Average_Cost, dtype: int64"
      ]
     },
     "execution_count": 14,
     "metadata": {},
     "output_type": "execute_result"
    }
   ],
   "source": [
    "data[\"Average_Cost\"].value_counts()"
   ]
  },
  {
   "cell_type": "code",
   "execution_count": 15,
   "metadata": {},
   "outputs": [
    {
     "data": {
      "text/plain": [
       "<matplotlib.axes._subplots.AxesSubplot at 0x256127625c8>"
      ]
     },
     "execution_count": 15,
     "metadata": {},
     "output_type": "execute_result"
    },
    {
     "data": {
      "image/png": "[encoded data removed]",
      "text/plain": [
       "<Figure size 432x288 with 1 Axes>"
      ]
     },
     "metadata": {
      "needs_background": "light"
     },
     "output_type": "display_data"
    }
   ],
   "source": [
    "data[\"Average_Cost\"].value_counts().plot(kind='hist')"
   ]
  },
  {
   "cell_type": "code",
   "execution_count": 35,
   "metadata": {},
   "outputs": [],
   "source": [
    "def remove_commas(x):\n",
    "    x.replace(\",\",\"\")\n",
    "    return x"
   ]
  },
  {
   "cell_type": "code",
   "execution_count": 36,
   "metadata": {},
   "outputs": [],
   "source": [
    "def remove_symbol(x):\n",
    "    x.replace(\"₹\",\"\")\n",
    "    return x"
   ]
  },
  {
   "cell_type": "markdown",
   "metadata": {},
   "source": [
    "# Replacing commas and rupees symbol"
   ]
  },
  {
   "cell_type": "code",
   "execution_count": 16,
   "metadata": {},
   "outputs": [],
   "source": [
    "data[\"Average_Cost\"]=data[\"Average_Cost\"].apply(lambda x:x.replace(\",\",\"\"))"
   ]
  },
  {
   "cell_type": "code",
   "execution_count": 17,
   "metadata": {},
   "outputs": [],
   "source": [
    "data[\"Average_Cost\"]=data[\"Average_Cost\"].apply(lambda x:x.replace(\"₹\",\"\"))"
   ]
  },
  {
   "cell_type": "code",
   "execution_count": 18,
   "metadata": {},
   "outputs": [
    {
     "data": {
      "text/html": [
       "<div>\n",
       "<style scoped>\n",
       "    .dataframe tbody tr th:only-of-type {\n",
       "        vertical-align: middle;\n",
       "    }\n",
       "\n",
       "    .dataframe tbody tr th {\n",
       "        vertical-align: top;\n",
       "    }\n",
       "\n",
       "    .dataframe thead th {\n",
       "        text-align: right;\n",
       "    }\n",
       "</style>\n",
       "<table border=\"1\" class=\"dataframe\">\n",
       "  <thead>\n",
       "    <tr style=\"text-align: right;\">\n",
       "      <th></th>\n",
       "      <th>Average_Cost</th>\n",
       "      <th>Cuisines</th>\n",
       "      <th>Delivery_Time</th>\n",
       "      <th>Location</th>\n",
       "      <th>Minimum_Order</th>\n",
       "      <th>Rating</th>\n",
       "      <th>Restaurant</th>\n",
       "      <th>Reviews</th>\n",
       "      <th>Votes</th>\n",
       "    </tr>\n",
       "  </thead>\n",
       "  <tbody>\n",
       "    <tr>\n",
       "      <td>6297</td>\n",
       "      <td>for</td>\n",
       "      <td>Fast Food</td>\n",
       "      <td>30 minutes</td>\n",
       "      <td>Pune University</td>\n",
       "      <td>₹50</td>\n",
       "      <td>NEW</td>\n",
       "      <td>ID_6472</td>\n",
       "      <td>-</td>\n",
       "      <td>-</td>\n",
       "    </tr>\n",
       "  </tbody>\n",
       "</table>\n",
       "</div>"
      ],
      "text/plain": [
       "     Average_Cost   Cuisines Delivery_Time         Location Minimum_Order  \\\n",
       "6297          for  Fast Food    30 minutes  Pune University           ₹50   \n",
       "\n",
       "     Rating Restaurant Reviews Votes  \n",
       "6297    NEW    ID_6472       -     -  "
      ]
     },
     "execution_count": 18,
     "metadata": {},
     "output_type": "execute_result"
    }
   ],
   "source": [
    "data[data[\"Average_Cost\"]=='for']"
   ]
  },
  {
   "cell_type": "markdown",
   "metadata": {},
   "source": [
    "# Removing the 'for' value in Average Cost"
   ]
  },
  {
   "cell_type": "code",
   "execution_count": 19,
   "metadata": {},
   "outputs": [],
   "source": [
    "data.drop(index=6297,inplace=True)"
   ]
  },
  {
   "cell_type": "code",
   "execution_count": 20,
   "metadata": {},
   "outputs": [],
   "source": [
    "data[\"Average_Cost\"]=data[\"Average_Cost\"].astype(int)"
   ]
  },
  {
   "cell_type": "code",
   "execution_count": 21,
   "metadata": {},
   "outputs": [
    {
     "name": "stdout",
     "output_type": "stream",
     "text": [
      "<class 'pandas.core.frame.DataFrame'>\n",
      "Int64Index: 13867 entries, 0 to 2773\n",
      "Data columns (total 9 columns):\n",
      "Average_Cost     13867 non-null int32\n",
      "Cuisines         13867 non-null object\n",
      "Delivery_Time    11093 non-null object\n",
      "Location         13867 non-null object\n",
      "Minimum_Order    13867 non-null object\n",
      "Rating           13867 non-null object\n",
      "Restaurant       13867 non-null object\n",
      "Reviews          13867 non-null object\n",
      "Votes            13867 non-null object\n",
      "dtypes: int32(1), object(8)\n",
      "memory usage: 1.0+ MB\n"
     ]
    }
   ],
   "source": [
    "data.info()"
   ]
  },
  {
   "cell_type": "markdown",
   "metadata": {},
   "source": [
    "# Cuisines"
   ]
  },
  {
   "cell_type": "code",
   "execution_count": 22,
   "metadata": {},
   "outputs": [
    {
     "data": {
      "text/plain": [
       "North Indian                             1076\n",
       "North Indian, Chinese                     786\n",
       "Fast Food                                 552\n",
       "South Indian                              336\n",
       "Chinese                                   303\n",
       "                                         ... \n",
       "Kerala, Chinese, South Indian               1\n",
       "North Indian, Mughlai, Chinese, Rolls       1\n",
       "Fast Food, Biryani, North Indian            1\n",
       "North Indian, Italian, Fast Food            1\n",
       "Biryani, Kebab, Healthy Food                1\n",
       "Name: Cuisines, Length: 2392, dtype: int64"
      ]
     },
     "execution_count": 22,
     "metadata": {},
     "output_type": "execute_result"
    }
   ],
   "source": [
    "data[\"Cuisines\"].value_counts()"
   ]
  },
  {
   "cell_type": "code",
   "execution_count": 23,
   "metadata": {},
   "outputs": [
    {
     "data": {
      "text/plain": [
       "<matplotlib.axes._subplots.AxesSubplot at 0x256179e63c8>"
      ]
     },
     "execution_count": 23,
     "metadata": {},
     "output_type": "execute_result"
    },
    {
     "data": {
      "image/png": "[encoded data removed]",
      "text/plain": [
       "<Figure size 432x288 with 1 Axes>"
      ]
     },
     "metadata": {
      "needs_background": "light"
     },
     "output_type": "display_data"
    }
   ],
   "source": [
    "data[\"Cuisines\"].value_counts().plot(kind='hist')"
   ]
  },
  {
   "cell_type": "markdown",
   "metadata": {},
   "source": [
    "# Converting cuisines to the number of cuisines"
   ]
  },
  {
   "cell_type": "code",
   "execution_count": 24,
   "metadata": {},
   "outputs": [],
   "source": [
    "data['Cuisines']=data['Cuisines'].apply(lambda x:len(x.split(\",\"))).astype(int)"
   ]
  },
  {
   "cell_type": "code",
   "execution_count": 25,
   "metadata": {},
   "outputs": [
    {
     "data": {
      "text/plain": [
       "2    4907\n",
       "1    3784\n",
       "3    3066\n",
       "4    1316\n",
       "5     498\n",
       "6     156\n",
       "7      85\n",
       "8      55\n",
       "Name: Cuisines, dtype: int64"
      ]
     },
     "execution_count": 25,
     "metadata": {},
     "output_type": "execute_result"
    }
   ],
   "source": [
    "data[\"Cuisines\"].value_counts()"
   ]
  },
  {
   "cell_type": "code",
   "execution_count": 26,
   "metadata": {},
   "outputs": [
    {
     "name": "stdout",
     "output_type": "stream",
     "text": [
      "<class 'pandas.core.frame.DataFrame'>\n",
      "Int64Index: 13867 entries, 0 to 2773\n",
      "Data columns (total 9 columns):\n",
      "Average_Cost     13867 non-null int32\n",
      "Cuisines         13867 non-null int32\n",
      "Delivery_Time    11093 non-null object\n",
      "Location         13867 non-null object\n",
      "Minimum_Order    13867 non-null object\n",
      "Rating           13867 non-null object\n",
      "Restaurant       13867 non-null object\n",
      "Reviews          13867 non-null object\n",
      "Votes            13867 non-null object\n",
      "dtypes: int32(2), object(7)\n",
      "memory usage: 975.0+ KB\n"
     ]
    }
   ],
   "source": [
    "data.info()"
   ]
  },
  {
   "cell_type": "code",
   "execution_count": 27,
   "metadata": {},
   "outputs": [
    {
     "data": {
      "text/html": [
       "<div>\n",
       "<style scoped>\n",
       "    .dataframe tbody tr th:only-of-type {\n",
       "        vertical-align: middle;\n",
       "    }\n",
       "\n",
       "    .dataframe tbody tr th {\n",
       "        vertical-align: top;\n",
       "    }\n",
       "\n",
       "    .dataframe thead th {\n",
       "        text-align: right;\n",
       "    }\n",
       "</style>\n",
       "<table border=\"1\" class=\"dataframe\">\n",
       "  <thead>\n",
       "    <tr style=\"text-align: right;\">\n",
       "      <th></th>\n",
       "      <th>Average_Cost</th>\n",
       "      <th>Cuisines</th>\n",
       "      <th>Delivery_Time</th>\n",
       "      <th>Location</th>\n",
       "      <th>Minimum_Order</th>\n",
       "      <th>Rating</th>\n",
       "      <th>Restaurant</th>\n",
       "      <th>Reviews</th>\n",
       "      <th>Votes</th>\n",
       "    </tr>\n",
       "  </thead>\n",
       "  <tbody>\n",
       "    <tr>\n",
       "      <td>0</td>\n",
       "      <td>200</td>\n",
       "      <td>5</td>\n",
       "      <td>30 minutes</td>\n",
       "      <td>FTI College, Law College Road, Pune</td>\n",
       "      <td>₹50</td>\n",
       "      <td>3.5</td>\n",
       "      <td>ID_6321</td>\n",
       "      <td>4</td>\n",
       "      <td>12</td>\n",
       "    </tr>\n",
       "    <tr>\n",
       "      <td>1</td>\n",
       "      <td>100</td>\n",
       "      <td>2</td>\n",
       "      <td>30 minutes</td>\n",
       "      <td>Sector 3, Marathalli</td>\n",
       "      <td>₹50</td>\n",
       "      <td>3.5</td>\n",
       "      <td>ID_2882</td>\n",
       "      <td>4</td>\n",
       "      <td>11</td>\n",
       "    </tr>\n",
       "    <tr>\n",
       "      <td>2</td>\n",
       "      <td>150</td>\n",
       "      <td>3</td>\n",
       "      <td>65 minutes</td>\n",
       "      <td>Mumbai Central</td>\n",
       "      <td>₹50</td>\n",
       "      <td>3.6</td>\n",
       "      <td>ID_1595</td>\n",
       "      <td>30</td>\n",
       "      <td>99</td>\n",
       "    </tr>\n",
       "    <tr>\n",
       "      <td>3</td>\n",
       "      <td>250</td>\n",
       "      <td>3</td>\n",
       "      <td>30 minutes</td>\n",
       "      <td>Sector 1, Noida</td>\n",
       "      <td>₹99</td>\n",
       "      <td>3.7</td>\n",
       "      <td>ID_5929</td>\n",
       "      <td>95</td>\n",
       "      <td>176</td>\n",
       "    </tr>\n",
       "    <tr>\n",
       "      <td>4</td>\n",
       "      <td>200</td>\n",
       "      <td>2</td>\n",
       "      <td>65 minutes</td>\n",
       "      <td>Rmz Centennial, I Gate, Whitefield</td>\n",
       "      <td>₹99</td>\n",
       "      <td>3.2</td>\n",
       "      <td>ID_6123</td>\n",
       "      <td>235</td>\n",
       "      <td>521</td>\n",
       "    </tr>\n",
       "  </tbody>\n",
       "</table>\n",
       "</div>"
      ],
      "text/plain": [
       "   Average_Cost  Cuisines Delivery_Time                             Location  \\\n",
       "0           200         5    30 minutes  FTI College, Law College Road, Pune   \n",
       "1           100         2    30 minutes                 Sector 3, Marathalli   \n",
       "2           150         3    65 minutes                       Mumbai Central   \n",
       "3           250         3    30 minutes                      Sector 1, Noida   \n",
       "4           200         2    65 minutes   Rmz Centennial, I Gate, Whitefield   \n",
       "\n",
       "  Minimum_Order Rating Restaurant Reviews Votes  \n",
       "0           ₹50    3.5    ID_6321       4    12  \n",
       "1           ₹50    3.5    ID_2882       4    11  \n",
       "2           ₹50    3.6    ID_1595      30    99  \n",
       "3           ₹99    3.7    ID_5929      95   176  \n",
       "4           ₹99    3.2    ID_6123     235   521  "
      ]
     },
     "execution_count": 27,
     "metadata": {},
     "output_type": "execute_result"
    }
   ],
   "source": [
    "data.head()"
   ]
  },
  {
   "cell_type": "markdown",
   "metadata": {},
   "source": [
    "# Location"
   ]
  },
  {
   "cell_type": "code",
   "execution_count": 28,
   "metadata": {},
   "outputs": [
    {
     "data": {
      "text/plain": [
       "Mico Layout, Stage 2, BTM Layout,Bangalore          1158\n",
       "D-Block, Sector 63, Noida                           1027\n",
       "Sector 1, Noida                                      990\n",
       "FTI College, Law College Road, Pune                  734\n",
       "Delhi University-GTB Nagar                           699\n",
       "Sector 14, Noida                                     630\n",
       "Laxman Vihar Industrial Area, Sector 3A, Gurgoan     611\n",
       "Delhi Administration Flats, Timarpur                 602\n",
       "Rmz Centennial, I Gate, Whitefield                   585\n",
       "Mumbai Central                                       578\n",
       "MG Road, Pune                                        509\n",
       "Delhi High Court, India Gate                         504\n",
       "Nathan Road, Mangaldas Road, Pune                    476\n",
       "Sandhurst Road, Mumbai CST Area                      463\n",
       "Sector 3, Marathalli                                 444\n",
       "Majestic                                             411\n",
       "Delhi Cantt.                                         397\n",
       "Yerawada, Pune, Maharashtra                          379\n",
       "Dockyard Road, Mumbai CST Area                       362\n",
       "Pune University                                      343\n",
       "Babarpur, New Delhi, Delhi                           337\n",
       "Sector 63A,Gurgaon                                   323\n",
       "Moulali, Kolkata                                     173\n",
       "Chandni Chowk, Kolkata                               156\n",
       "Raja Bazar, Kolkata                                  138\n",
       "Tejas Nagar Colony, Wadala West, Mumbai              133\n",
       "Tiretti, Kolkata                                     116\n",
       "Gora Bazar, Rajbari, North Dumdum, Kolkata            95\n",
       "Hyderabad Public School, Begumpet                     93\n",
       "Musi Nagar, Malakpet, Hyderabad                       91\n",
       "Noorkhan Bazaar, Malakpet, Hyderabad                  79\n",
       "Panjetan Colony, Malakpet, Hyderabad                  73\n",
       "Chatta Bazaar, Malakpet, Hyderabad                    67\n",
       "Jaya Nagar, Saidabad, Hyderabad                       61\n",
       "BTM Layout 1, Electronic City                         30\n",
       "Name: Location, dtype: int64"
      ]
     },
     "execution_count": 28,
     "metadata": {},
     "output_type": "execute_result"
    }
   ],
   "source": [
    "data[\"Location\"].value_counts()"
   ]
  },
  {
   "cell_type": "code",
   "execution_count": 29,
   "metadata": {},
   "outputs": [
    {
     "data": {
      "text/plain": [
       "25"
      ]
     },
     "execution_count": 29,
     "metadata": {},
     "output_type": "execute_result"
    }
   ],
   "source": [
    "len(data[\"Average_Cost\"].value_counts())"
   ]
  },
  {
   "cell_type": "code",
   "execution_count": 30,
   "metadata": {},
   "outputs": [
    {
     "data": {
      "text/plain": [
       "<matplotlib.axes._subplots.AxesSubplot at 0x256179ee608>"
      ]
     },
     "execution_count": 30,
     "metadata": {},
     "output_type": "execute_result"
    },
    {
     "data": {
      "image/png": "[encoded data removed]",
      "text/plain": [
       "<Figure size 432x288 with 1 Axes>"
      ]
     },
     "metadata": {
      "needs_background": "light"
     },
     "output_type": "display_data"
    }
   ],
   "source": [
    "data[\"Location\"].value_counts().plot(kind='hist')"
   ]
  },
  {
   "cell_type": "markdown",
   "metadata": {},
   "source": [
    "# Minimum Order"
   ]
  },
  {
   "cell_type": "code",
   "execution_count": 31,
   "metadata": {},
   "outputs": [
    {
     "data": {
      "text/plain": [
       "₹50     12673\n",
       "₹99       956\n",
       "₹0        188\n",
       "₹199       13\n",
       "₹200       10\n",
       "₹299        3\n",
       "₹350        3\n",
       "₹59         3\n",
       "₹300        2\n",
       "₹89         2\n",
       "₹79         2\n",
       "₹90         2\n",
       "₹500        2\n",
       "₹450        2\n",
       "₹400        1\n",
       "₹399        1\n",
       "₹149        1\n",
       "₹250        1\n",
       "₹150        1\n",
       "₹240        1\n",
       "Name: Minimum_Order, dtype: int64"
      ]
     },
     "execution_count": 31,
     "metadata": {},
     "output_type": "execute_result"
    }
   ],
   "source": [
    "data[\"Minimum_Order\"].value_counts()"
   ]
  },
  {
   "cell_type": "code",
   "execution_count": 32,
   "metadata": {},
   "outputs": [],
   "source": [
    "data[\"Minimum_Order\"]=data[\"Minimum_Order\"].apply(lambda x:x.replace(\"₹\",\"\")).astype(int)"
   ]
  },
  {
   "cell_type": "code",
   "execution_count": 33,
   "metadata": {},
   "outputs": [
    {
     "name": "stdout",
     "output_type": "stream",
     "text": [
      "<class 'pandas.core.frame.DataFrame'>\n",
      "Int64Index: 13867 entries, 0 to 2773\n",
      "Data columns (total 9 columns):\n",
      "Average_Cost     13867 non-null int32\n",
      "Cuisines         13867 non-null int32\n",
      "Delivery_Time    11093 non-null object\n",
      "Location         13867 non-null object\n",
      "Minimum_Order    13867 non-null int32\n",
      "Rating           13867 non-null object\n",
      "Restaurant       13867 non-null object\n",
      "Reviews          13867 non-null object\n",
      "Votes            13867 non-null object\n",
      "dtypes: int32(3), object(6)\n",
      "memory usage: 920.9+ KB\n"
     ]
    }
   ],
   "source": [
    "data.info()"
   ]
  },
  {
   "cell_type": "markdown",
   "metadata": {},
   "source": [
    "# Rating"
   ]
  },
  {
   "cell_type": "code",
   "execution_count": 34,
   "metadata": {
    "scrolled": true
   },
   "outputs": [
    {
     "data": {
      "text/plain": [
       "-                     1496\n",
       "3.7                   1081\n",
       "3.6                   1069\n",
       "3.5                   1015\n",
       "3.8                    983\n",
       "3.9                    965\n",
       "NEW                    957\n",
       "3.4                    903\n",
       "3.3                    828\n",
       "4.0                    755\n",
       "3.2                    640\n",
       "4.1                    574\n",
       "3.1                    531\n",
       "3.0                    367\n",
       "4.2                    342\n",
       "4.3                    299\n",
       "2.9                    256\n",
       "2.8                    198\n",
       "4.4                    171\n",
       "2.7                     98\n",
       "4.5                     96\n",
       "2.6                     51\n",
       "4.6                     48\n",
       "4.7                     42\n",
       "2.5                     33\n",
       "2.4                     18\n",
       "4.8                     16\n",
       "Opening Soon            14\n",
       "2.3                      8\n",
       "4.9                      8\n",
       "2.1                      2\n",
       "Temporarily Closed       2\n",
       "2.2                      1\n",
       "Name: Rating, dtype: int64"
      ]
     },
     "execution_count": 34,
     "metadata": {},
     "output_type": "execute_result"
    }
   ],
   "source": [
    "data[\"Rating\"].value_counts()"
   ]
  },
  {
   "cell_type": "code",
   "execution_count": 35,
   "metadata": {},
   "outputs": [],
   "source": [
    "data[\"Rating\"]=data[\"Rating\"].replace({'-':0.0,'NEW':0.0,'Opening Soon':0.0,'Temporarily Closed':0.0})"
   ]
  },
  {
   "cell_type": "code",
   "execution_count": 36,
   "metadata": {},
   "outputs": [],
   "source": [
    "data[\"Rating\"]=data[\"Rating\"].astype(float)"
   ]
  },
  {
   "cell_type": "code",
   "execution_count": 37,
   "metadata": {},
   "outputs": [],
   "source": [
    "data[\"Rating\"]=data[\"Rating\"].replace({0.0:np.nan})"
   ]
  },
  {
   "cell_type": "markdown",
   "metadata": {},
   "source": [
    "## replacing the null values in rating with the mean value because if we replace the null values with 0 the data will be biased towards 0"
   ]
  },
  {
   "cell_type": "code",
   "execution_count": 38,
   "metadata": {},
   "outputs": [],
   "source": [
    "data[\"Rating\"].fillna(round((data[\"Rating\"].mean()),1),inplace=True)"
   ]
  },
  {
   "cell_type": "code",
   "execution_count": 39,
   "metadata": {},
   "outputs": [
    {
     "name": "stdout",
     "output_type": "stream",
     "text": [
      "<class 'pandas.core.frame.DataFrame'>\n",
      "Int64Index: 13867 entries, 0 to 2773\n",
      "Data columns (total 9 columns):\n",
      "Average_Cost     13867 non-null int32\n",
      "Cuisines         13867 non-null int32\n",
      "Delivery_Time    11093 non-null object\n",
      "Location         13867 non-null object\n",
      "Minimum_Order    13867 non-null int32\n",
      "Rating           13867 non-null float64\n",
      "Restaurant       13867 non-null object\n",
      "Reviews          13867 non-null object\n",
      "Votes            13867 non-null object\n",
      "dtypes: float64(1), int32(3), object(5)\n",
      "memory usage: 920.9+ KB\n"
     ]
    }
   ],
   "source": [
    "data.info()"
   ]
  },
  {
   "cell_type": "markdown",
   "metadata": {},
   "source": [
    "# Restaurant"
   ]
  },
  {
   "cell_type": "code",
   "execution_count": 40,
   "metadata": {},
   "outputs": [
    {
     "data": {
      "text/plain": [
       "ID_5538    26\n",
       "ID_7184    25\n",
       "ID_2483    24\n",
       "ID_7295    23\n",
       "ID_1209    23\n",
       "           ..\n",
       "ID_5294     1\n",
       "ID_7715     1\n",
       "ID_3090     1\n",
       "ID_1736     1\n",
       "ID_7336     1\n",
       "Name: Restaurant, Length: 8661, dtype: int64"
      ]
     },
     "execution_count": 40,
     "metadata": {},
     "output_type": "execute_result"
    }
   ],
   "source": [
    "data[\"Restaurant\"].value_counts()"
   ]
  },
  {
   "cell_type": "markdown",
   "metadata": {},
   "source": [
    "# Reviews"
   ]
  },
  {
   "cell_type": "code",
   "execution_count": 41,
   "metadata": {
    "scrolled": true
   },
   "outputs": [
    {
     "data": {
      "text/plain": [
       "-       2904\n",
       "2        551\n",
       "1        483\n",
       "3        466\n",
       "4        428\n",
       "        ... \n",
       "1890       1\n",
       "1520       1\n",
       "603        1\n",
       "540        1\n",
       "2303       1\n",
       "Name: Reviews, Length: 811, dtype: int64"
      ]
     },
     "execution_count": 41,
     "metadata": {},
     "output_type": "execute_result"
    }
   ],
   "source": [
    "data[\"Reviews\"].value_counts()"
   ]
  },
  {
   "cell_type": "code",
   "execution_count": 42,
   "metadata": {},
   "outputs": [],
   "source": [
    "data[\"Reviews\"]=data[\"Reviews\"].replace({'-':0})"
   ]
  },
  {
   "cell_type": "code",
   "execution_count": 43,
   "metadata": {},
   "outputs": [],
   "source": [
    "data[\"Reviews\"]=data[\"Reviews\"].astype(int)"
   ]
  },
  {
   "cell_type": "code",
   "execution_count": 44,
   "metadata": {},
   "outputs": [],
   "source": [
    "data[\"Reviews\"]=data[\"Reviews\"].replace({0:np.nan})"
   ]
  },
  {
   "cell_type": "markdown",
   "metadata": {},
   "source": [
    "## replacing the null values in reviews with the mean value because if we replace the null values with 0 the data will be biased towards 0"
   ]
  },
  {
   "cell_type": "code",
   "execution_count": 45,
   "metadata": {},
   "outputs": [],
   "source": [
    "data[\"Reviews\"].fillna(int(data[\"Reviews\"].mean()),inplace=True)"
   ]
  },
  {
   "cell_type": "code",
   "execution_count": 46,
   "metadata": {},
   "outputs": [
    {
     "name": "stdout",
     "output_type": "stream",
     "text": [
      "<class 'pandas.core.frame.DataFrame'>\n",
      "Int64Index: 13867 entries, 0 to 2773\n",
      "Data columns (total 9 columns):\n",
      "Average_Cost     13867 non-null int32\n",
      "Cuisines         13867 non-null int32\n",
      "Delivery_Time    11093 non-null object\n",
      "Location         13867 non-null object\n",
      "Minimum_Order    13867 non-null int32\n",
      "Rating           13867 non-null float64\n",
      "Restaurant       13867 non-null object\n",
      "Reviews          13867 non-null float64\n",
      "Votes            13867 non-null object\n",
      "dtypes: float64(2), int32(3), object(4)\n",
      "memory usage: 920.9+ KB\n"
     ]
    }
   ],
   "source": [
    "data.info()"
   ]
  },
  {
   "cell_type": "code",
   "execution_count": 47,
   "metadata": {
    "scrolled": true
   },
   "outputs": [
    {
     "data": {
      "text/plain": [
       "-       2615\n",
       "4        298\n",
       "6        255\n",
       "7        242\n",
       "9        238\n",
       "        ... \n",
       "1801       1\n",
       "1053       1\n",
       "4883       1\n",
       "7062       1\n",
       "1159       1\n",
       "Name: Votes, Length: 1181, dtype: int64"
      ]
     },
     "execution_count": 47,
     "metadata": {},
     "output_type": "execute_result"
    }
   ],
   "source": [
    "data[\"Votes\"].value_counts()"
   ]
  },
  {
   "cell_type": "code",
   "execution_count": 48,
   "metadata": {},
   "outputs": [],
   "source": [
    "data[\"Votes\"]=data[\"Votes\"].replace({'-':0})"
   ]
  },
  {
   "cell_type": "code",
   "execution_count": 49,
   "metadata": {},
   "outputs": [],
   "source": [
    "data[\"Votes\"]=data[\"Votes\"].astype(int)"
   ]
  },
  {
   "cell_type": "markdown",
   "metadata": {},
   "source": [
    "## replacing the null values in votes with the mean value because if we replace the null values with 0 the data will be biased towards 0."
   ]
  },
  {
   "cell_type": "code",
   "execution_count": 50,
   "metadata": {},
   "outputs": [],
   "source": [
    "data[\"Votes\"]=data[\"Votes\"].replace({0:np.nan})"
   ]
  },
  {
   "cell_type": "code",
   "execution_count": 51,
   "metadata": {},
   "outputs": [],
   "source": [
    "data[\"Votes\"].fillna(int(data[\"Votes\"].mean()),inplace=True)"
   ]
  },
  {
   "cell_type": "code",
   "execution_count": 52,
   "metadata": {},
   "outputs": [
    {
     "name": "stdout",
     "output_type": "stream",
     "text": [
      "<class 'pandas.core.frame.DataFrame'>\n",
      "Int64Index: 13867 entries, 0 to 2773\n",
      "Data columns (total 9 columns):\n",
      "Average_Cost     13867 non-null int32\n",
      "Cuisines         13867 non-null int32\n",
      "Delivery_Time    11093 non-null object\n",
      "Location         13867 non-null object\n",
      "Minimum_Order    13867 non-null int32\n",
      "Rating           13867 non-null float64\n",
      "Restaurant       13867 non-null object\n",
      "Reviews          13867 non-null float64\n",
      "Votes            13867 non-null float64\n",
      "dtypes: float64(3), int32(3), object(3)\n",
      "memory usage: 920.9+ KB\n"
     ]
    }
   ],
   "source": [
    "data.info()"
   ]
  },
  {
   "cell_type": "markdown",
   "metadata": {},
   "source": [
    "# Delivery Time"
   ]
  },
  {
   "cell_type": "code",
   "execution_count": 53,
   "metadata": {},
   "outputs": [
    {
     "data": {
      "text/plain": [
       "30 minutes     7405\n",
       "45 minutes     2665\n",
       "65 minutes      923\n",
       "120 minutes      62\n",
       "20 minutes       20\n",
       "80 minutes       14\n",
       "10 minutes        4\n",
       "Name: Delivery_Time, dtype: int64"
      ]
     },
     "execution_count": 53,
     "metadata": {},
     "output_type": "execute_result"
    }
   ],
   "source": [
    "data[\"Delivery_Time\"].value_counts()"
   ]
  },
  {
   "cell_type": "markdown",
   "metadata": {},
   "source": [
    "# PreProcessing"
   ]
  },
  {
   "cell_type": "markdown",
   "metadata": {},
   "source": [
    "## label encoding the delivery time"
   ]
  },
  {
   "cell_type": "code",
   "execution_count": 54,
   "metadata": {},
   "outputs": [],
   "source": [
    "from sklearn.preprocessing import LabelEncoder"
   ]
  },
  {
   "cell_type": "code",
   "execution_count": 55,
   "metadata": {},
   "outputs": [],
   "source": [
    "label=LabelEncoder()"
   ]
  },
  {
   "cell_type": "code",
   "execution_count": 56,
   "metadata": {},
   "outputs": [],
   "source": [
    "data[\"Delivery_Time_Encoded\"]=label.fit_transform(data[\"Delivery_Time\"].astype(str))"
   ]
  },
  {
   "cell_type": "code",
   "execution_count": 57,
   "metadata": {
    "scrolled": true
   },
   "outputs": [],
   "source": [
    "data[\"Delivery_Time\"]=data[\"Delivery_Time_Encoded\"]"
   ]
  },
  {
   "cell_type": "code",
   "execution_count": 58,
   "metadata": {},
   "outputs": [],
   "source": [
    "del(data[\"Delivery_Time_Encoded\"])"
   ]
  },
  {
   "cell_type": "markdown",
   "metadata": {},
   "source": [
    "## Data visualization"
   ]
  },
  {
   "cell_type": "code",
   "execution_count": 59,
   "metadata": {},
   "outputs": [
    {
     "data": {
      "text/html": [
       "<div>\n",
       "<style scoped>\n",
       "    .dataframe tbody tr th:only-of-type {\n",
       "        vertical-align: middle;\n",
       "    }\n",
       "\n",
       "    .dataframe tbody tr th {\n",
       "        vertical-align: top;\n",
       "    }\n",
       "\n",
       "    .dataframe thead th {\n",
       "        text-align: right;\n",
       "    }\n",
       "</style>\n",
       "<table border=\"1\" class=\"dataframe\">\n",
       "  <thead>\n",
       "    <tr style=\"text-align: right;\">\n",
       "      <th></th>\n",
       "      <th>Average_Cost</th>\n",
       "      <th>Cuisines</th>\n",
       "      <th>Delivery_Time</th>\n",
       "      <th>Minimum_Order</th>\n",
       "      <th>Rating</th>\n",
       "      <th>Reviews</th>\n",
       "      <th>Votes</th>\n",
       "    </tr>\n",
       "  </thead>\n",
       "  <tbody>\n",
       "    <tr>\n",
       "      <td>Average_Cost</td>\n",
       "      <td>1.000000</td>\n",
       "      <td>0.386355</td>\n",
       "      <td>0.052612</td>\n",
       "      <td>0.118514</td>\n",
       "      <td>0.342759</td>\n",
       "      <td>0.442033</td>\n",
       "      <td>0.428197</td>\n",
       "    </tr>\n",
       "    <tr>\n",
       "      <td>Cuisines</td>\n",
       "      <td>0.386355</td>\n",
       "      <td>1.000000</td>\n",
       "      <td>0.041714</td>\n",
       "      <td>0.050132</td>\n",
       "      <td>0.216991</td>\n",
       "      <td>0.241169</td>\n",
       "      <td>0.247811</td>\n",
       "    </tr>\n",
       "    <tr>\n",
       "      <td>Delivery_Time</td>\n",
       "      <td>0.052612</td>\n",
       "      <td>0.041714</td>\n",
       "      <td>1.000000</td>\n",
       "      <td>0.061798</td>\n",
       "      <td>0.045520</td>\n",
       "      <td>0.053412</td>\n",
       "      <td>0.065535</td>\n",
       "    </tr>\n",
       "    <tr>\n",
       "      <td>Minimum_Order</td>\n",
       "      <td>0.118514</td>\n",
       "      <td>0.050132</td>\n",
       "      <td>0.061798</td>\n",
       "      <td>1.000000</td>\n",
       "      <td>0.061335</td>\n",
       "      <td>0.116939</td>\n",
       "      <td>0.119984</td>\n",
       "    </tr>\n",
       "    <tr>\n",
       "      <td>Rating</td>\n",
       "      <td>0.342759</td>\n",
       "      <td>0.216991</td>\n",
       "      <td>0.045520</td>\n",
       "      <td>0.061335</td>\n",
       "      <td>1.000000</td>\n",
       "      <td>0.422392</td>\n",
       "      <td>0.444313</td>\n",
       "    </tr>\n",
       "    <tr>\n",
       "      <td>Reviews</td>\n",
       "      <td>0.442033</td>\n",
       "      <td>0.241169</td>\n",
       "      <td>0.053412</td>\n",
       "      <td>0.116939</td>\n",
       "      <td>0.422392</td>\n",
       "      <td>1.000000</td>\n",
       "      <td>0.961863</td>\n",
       "    </tr>\n",
       "    <tr>\n",
       "      <td>Votes</td>\n",
       "      <td>0.428197</td>\n",
       "      <td>0.247811</td>\n",
       "      <td>0.065535</td>\n",
       "      <td>0.119984</td>\n",
       "      <td>0.444313</td>\n",
       "      <td>0.961863</td>\n",
       "      <td>1.000000</td>\n",
       "    </tr>\n",
       "  </tbody>\n",
       "</table>\n",
       "</div>"
      ],
      "text/plain": [
       "               Average_Cost  Cuisines  Delivery_Time  Minimum_Order    Rating  \\\n",
       "Average_Cost       1.000000  0.386355       0.052612       0.118514  0.342759   \n",
       "Cuisines           0.386355  1.000000       0.041714       0.050132  0.216991   \n",
       "Delivery_Time      0.052612  0.041714       1.000000       0.061798  0.045520   \n",
       "Minimum_Order      0.118514  0.050132       0.061798       1.000000  0.061335   \n",
       "Rating             0.342759  0.216991       0.045520       0.061335  1.000000   \n",
       "Reviews            0.442033  0.241169       0.053412       0.116939  0.422392   \n",
       "Votes              0.428197  0.247811       0.065535       0.119984  0.444313   \n",
       "\n",
       "                Reviews     Votes  \n",
       "Average_Cost   0.442033  0.428197  \n",
       "Cuisines       0.241169  0.247811  \n",
       "Delivery_Time  0.053412  0.065535  \n",
       "Minimum_Order  0.116939  0.119984  \n",
       "Rating         0.422392  0.444313  \n",
       "Reviews        1.000000  0.961863  \n",
       "Votes          0.961863  1.000000  "
      ]
     },
     "execution_count": 59,
     "metadata": {},
     "output_type": "execute_result"
    }
   ],
   "source": [
    "data.corr()"
   ]
  },
  {
   "cell_type": "code",
   "execution_count": 60,
   "metadata": {},
   "outputs": [
    {
     "data": {
      "text/plain": [
       "<seaborn.axisgrid.PairGrid at 0x25617cf1b08>"
      ]
     },
     "execution_count": 60,
     "metadata": {},
     "output_type": "execute_result"
    },
    {
     "data": {
      "image/png": "[encoded data removed]",
      "text/plain": [
       "<Figure size 1260x1260 with 56 Axes>"
      ]
     },
     "metadata": {
      "needs_background": "light"
     },
     "output_type": "display_data"
    }
   ],
   "source": [
    "sns.pairplot(data)"
   ]
  },
  {
   "cell_type": "code",
   "execution_count": 61,
   "metadata": {},
   "outputs": [
    {
     "data": {
      "text/plain": [
       "<matplotlib.axes._subplots.AxesSubplot at 0x2561a51afc8>"
      ]
     },
     "execution_count": 61,
     "metadata": {},
     "output_type": "execute_result"
    },
    {
     "data": {
      "image/png": "[encoded data removed]",
      "text/plain": [
       "<Figure size 432x288 with 2 Axes>"
      ]
     },
     "metadata": {
      "needs_background": "light"
     },
     "output_type": "display_data"
    }
   ],
   "source": [
    "sns.heatmap(data.corr(),annot=True)"
   ]
  },
  {
   "cell_type": "markdown",
   "metadata": {},
   "source": [
    "# One hot encode the Location Values"
   ]
  },
  {
   "cell_type": "code",
   "execution_count": 47,
   "metadata": {},
   "outputs": [
    {
     "data": {
      "text/html": [
       "<div>\n",
       "<style scoped>\n",
       "    .dataframe tbody tr th:only-of-type {\n",
       "        vertical-align: middle;\n",
       "    }\n",
       "\n",
       "    .dataframe tbody tr th {\n",
       "        vertical-align: top;\n",
       "    }\n",
       "\n",
       "    .dataframe thead th {\n",
       "        text-align: right;\n",
       "    }\n",
       "</style>\n",
       "<table border=\"1\" class=\"dataframe\">\n",
       "  <thead>\n",
       "    <tr style=\"text-align: right;\">\n",
       "      <th></th>\n",
       "      <th>Average_Cost</th>\n",
       "      <th>Cuisines</th>\n",
       "      <th>Delivery_Time</th>\n",
       "      <th>Location</th>\n",
       "      <th>Minimum_Order</th>\n",
       "      <th>Rating</th>\n",
       "      <th>Restaurant</th>\n",
       "      <th>Reviews</th>\n",
       "      <th>Votes</th>\n",
       "    </tr>\n",
       "  </thead>\n",
       "  <tbody>\n",
       "    <tr>\n",
       "      <td>0</td>\n",
       "      <td>200</td>\n",
       "      <td>5</td>\n",
       "      <td>3</td>\n",
       "      <td>FTI College, Law College Road, Pune</td>\n",
       "      <td>50</td>\n",
       "      <td>3.5</td>\n",
       "      <td>ID_6321</td>\n",
       "      <td>4.0</td>\n",
       "      <td>12.0</td>\n",
       "    </tr>\n",
       "    <tr>\n",
       "      <td>1</td>\n",
       "      <td>100</td>\n",
       "      <td>2</td>\n",
       "      <td>3</td>\n",
       "      <td>Sector 3, Marathalli</td>\n",
       "      <td>50</td>\n",
       "      <td>3.5</td>\n",
       "      <td>ID_2882</td>\n",
       "      <td>4.0</td>\n",
       "      <td>11.0</td>\n",
       "    </tr>\n",
       "    <tr>\n",
       "      <td>2</td>\n",
       "      <td>150</td>\n",
       "      <td>3</td>\n",
       "      <td>5</td>\n",
       "      <td>Mumbai Central</td>\n",
       "      <td>50</td>\n",
       "      <td>3.6</td>\n",
       "      <td>ID_1595</td>\n",
       "      <td>30.0</td>\n",
       "      <td>99.0</td>\n",
       "    </tr>\n",
       "    <tr>\n",
       "      <td>3</td>\n",
       "      <td>250</td>\n",
       "      <td>3</td>\n",
       "      <td>3</td>\n",
       "      <td>Sector 1, Noida</td>\n",
       "      <td>99</td>\n",
       "      <td>3.7</td>\n",
       "      <td>ID_5929</td>\n",
       "      <td>95.0</td>\n",
       "      <td>176.0</td>\n",
       "    </tr>\n",
       "    <tr>\n",
       "      <td>4</td>\n",
       "      <td>200</td>\n",
       "      <td>2</td>\n",
       "      <td>5</td>\n",
       "      <td>Rmz Centennial, I Gate, Whitefield</td>\n",
       "      <td>99</td>\n",
       "      <td>3.2</td>\n",
       "      <td>ID_6123</td>\n",
       "      <td>235.0</td>\n",
       "      <td>521.0</td>\n",
       "    </tr>\n",
       "  </tbody>\n",
       "</table>\n",
       "</div>"
      ],
      "text/plain": [
       "   Average_Cost  Cuisines  Delivery_Time                             Location  \\\n",
       "0           200         5              3  FTI College, Law College Road, Pune   \n",
       "1           100         2              3                 Sector 3, Marathalli   \n",
       "2           150         3              5                       Mumbai Central   \n",
       "3           250         3              3                      Sector 1, Noida   \n",
       "4           200         2              5   Rmz Centennial, I Gate, Whitefield   \n",
       "\n",
       "   Minimum_Order  Rating Restaurant  Reviews  Votes  \n",
       "0             50     3.5    ID_6321      4.0   12.0  \n",
       "1             50     3.5    ID_2882      4.0   11.0  \n",
       "2             50     3.6    ID_1595     30.0   99.0  \n",
       "3             99     3.7    ID_5929     95.0  176.0  \n",
       "4             99     3.2    ID_6123    235.0  521.0  "
      ]
     },
     "execution_count": 47,
     "metadata": {},
     "output_type": "execute_result"
    }
   ],
   "source": [
    "data.head()"
   ]
  },
  {
   "cell_type": "code",
   "execution_count": 49,
   "metadata": {},
   "outputs": [],
   "source": [
    "cat_col=data.select_dtypes(exclude=np.number)"
   ]
  },
  {
   "cell_type": "code",
   "execution_count": 50,
   "metadata": {},
   "outputs": [],
   "source": [
    "num_col=data.select_dtypes(include=np.number)"
   ]
  },
  {
   "cell_type": "code",
   "execution_count": 52,
   "metadata": {},
   "outputs": [],
   "source": [
    "cat_col=cat_col.drop(columns={'Restaurant'})"
   ]
  },
  {
   "cell_type": "code",
   "execution_count": 56,
   "metadata": {},
   "outputs": [],
   "source": [
    "cat_col_processed=pd.get_dummies(cat_col)"
   ]
  },
  {
   "cell_type": "code",
   "execution_count": 59,
   "metadata": {},
   "outputs": [],
   "source": [
    "df=pd.concat([cat_col_processed,num_col],axis='columns')"
   ]
  },
  {
   "cell_type": "markdown",
   "metadata": {},
   "source": [
    "# Dropping the Location columns since it has much unique addresses"
   ]
  },
  {
   "cell_type": "code",
   "execution_count": null,
   "metadata": {},
   "outputs": [],
   "source": [
    "data.drop(columns={\"Location\"},inplace=True)"
   ]
  },
  {
   "cell_type": "markdown",
   "metadata": {},
   "source": [
    "# Splitting the train and test data"
   ]
  },
  {
   "cell_type": "code",
   "execution_count": 73,
   "metadata": {},
   "outputs": [],
   "source": [
    "train_df=data[data[\"Delivery_Time\"]!=7]"
   ]
  },
  {
   "cell_type": "code",
   "execution_count": 74,
   "metadata": {},
   "outputs": [],
   "source": [
    "test_df=data[data[\"Delivery_Time\"]==7]"
   ]
  },
  {
   "cell_type": "markdown",
   "metadata": {},
   "source": [
    "## Removing delivery time from test data"
   ]
  },
  {
   "cell_type": "code",
   "execution_count": 75,
   "metadata": {},
   "outputs": [],
   "source": [
    "del(test_df[\"Delivery_Time\"])"
   ]
  },
  {
   "cell_type": "markdown",
   "metadata": {},
   "source": [
    "## X and Y for the model"
   ]
  },
  {
   "cell_type": "code",
   "execution_count": 76,
   "metadata": {},
   "outputs": [
    {
     "data": {
      "text/plain": [
       "Index(['Average_Cost', 'Cuisines', 'Delivery_Time', 'Minimum_Order', 'Rating',\n",
       "       'Restaurant', 'Reviews', 'Votes'],\n",
       "      dtype='object')"
      ]
     },
     "execution_count": 76,
     "metadata": {},
     "output_type": "execute_result"
    }
   ],
   "source": [
    "data.columns"
   ]
  },
  {
   "cell_type": "code",
   "execution_count": 77,
   "metadata": {},
   "outputs": [],
   "source": [
    "X=train_df.drop(columns={\"Delivery_Time\",\"Restaurant\"})"
   ]
  },
  {
   "cell_type": "code",
   "execution_count": 78,
   "metadata": {},
   "outputs": [],
   "source": [
    "y=train_df[\"Delivery_Time\"]"
   ]
  },
  {
   "cell_type": "code",
   "execution_count": 79,
   "metadata": {},
   "outputs": [
    {
     "data": {
      "text/html": [
       "<div>\n",
       "<style scoped>\n",
       "    .dataframe tbody tr th:only-of-type {\n",
       "        vertical-align: middle;\n",
       "    }\n",
       "\n",
       "    .dataframe tbody tr th {\n",
       "        vertical-align: top;\n",
       "    }\n",
       "\n",
       "    .dataframe thead th {\n",
       "        text-align: right;\n",
       "    }\n",
       "</style>\n",
       "<table border=\"1\" class=\"dataframe\">\n",
       "  <thead>\n",
       "    <tr style=\"text-align: right;\">\n",
       "      <th></th>\n",
       "      <th>Average_Cost</th>\n",
       "      <th>Cuisines</th>\n",
       "      <th>Minimum_Order</th>\n",
       "      <th>Rating</th>\n",
       "      <th>Reviews</th>\n",
       "      <th>Votes</th>\n",
       "    </tr>\n",
       "  </thead>\n",
       "  <tbody>\n",
       "    <tr>\n",
       "      <td>0</td>\n",
       "      <td>200</td>\n",
       "      <td>5</td>\n",
       "      <td>50</td>\n",
       "      <td>3.5</td>\n",
       "      <td>4.0</td>\n",
       "      <td>12.0</td>\n",
       "    </tr>\n",
       "    <tr>\n",
       "      <td>1</td>\n",
       "      <td>100</td>\n",
       "      <td>2</td>\n",
       "      <td>50</td>\n",
       "      <td>3.5</td>\n",
       "      <td>4.0</td>\n",
       "      <td>11.0</td>\n",
       "    </tr>\n",
       "    <tr>\n",
       "      <td>2</td>\n",
       "      <td>150</td>\n",
       "      <td>3</td>\n",
       "      <td>50</td>\n",
       "      <td>3.6</td>\n",
       "      <td>30.0</td>\n",
       "      <td>99.0</td>\n",
       "    </tr>\n",
       "    <tr>\n",
       "      <td>3</td>\n",
       "      <td>250</td>\n",
       "      <td>3</td>\n",
       "      <td>99</td>\n",
       "      <td>3.7</td>\n",
       "      <td>95.0</td>\n",
       "      <td>176.0</td>\n",
       "    </tr>\n",
       "    <tr>\n",
       "      <td>4</td>\n",
       "      <td>200</td>\n",
       "      <td>2</td>\n",
       "      <td>99</td>\n",
       "      <td>3.2</td>\n",
       "      <td>235.0</td>\n",
       "      <td>521.0</td>\n",
       "    </tr>\n",
       "  </tbody>\n",
       "</table>\n",
       "</div>"
      ],
      "text/plain": [
       "   Average_Cost  Cuisines  Minimum_Order  Rating  Reviews  Votes\n",
       "0           200         5             50     3.5      4.0   12.0\n",
       "1           100         2             50     3.5      4.0   11.0\n",
       "2           150         3             50     3.6     30.0   99.0\n",
       "3           250         3             99     3.7     95.0  176.0\n",
       "4           200         2             99     3.2    235.0  521.0"
      ]
     },
     "execution_count": 79,
     "metadata": {},
     "output_type": "execute_result"
    }
   ],
   "source": [
    "X.head()"
   ]
  },
  {
   "cell_type": "markdown",
   "metadata": {},
   "source": [
    "# Train Test Split"
   ]
  },
  {
   "cell_type": "code",
   "execution_count": 80,
   "metadata": {},
   "outputs": [],
   "source": [
    "from sklearn.model_selection import train_test_split\n",
    "\n",
    "train_X, test_X, train_y, test_y = train_test_split(X, y, test_size=0.3, random_state=99)"
   ]
  },
  {
   "cell_type": "code",
   "execution_count": 81,
   "metadata": {},
   "outputs": [
    {
     "data": {
      "text/plain": [
       "((7765, 6), (3328, 6), (7765,), (3328,))"
      ]
     },
     "execution_count": 81,
     "metadata": {},
     "output_type": "execute_result"
    }
   ],
   "source": [
    "train_X.shape, test_X.shape, train_y.shape, test_y.shape"
   ]
  },
  {
   "cell_type": "markdown",
   "metadata": {},
   "source": [
    "# Model Building"
   ]
  },
  {
   "cell_type": "markdown",
   "metadata": {},
   "source": [
    "## Logistic Regression"
   ]
  },
  {
   "cell_type": "code",
   "execution_count": 82,
   "metadata": {},
   "outputs": [],
   "source": [
    "from sklearn.linear_model import LogisticRegression\n",
    "from sklearn.metrics import accuracy_score,classification_report,confusion_matrix"
   ]
  },
  {
   "cell_type": "code",
   "execution_count": 83,
   "metadata": {},
   "outputs": [],
   "source": [
    "log=LogisticRegression()"
   ]
  },
  {
   "cell_type": "code",
   "execution_count": 84,
   "metadata": {},
   "outputs": [
    {
     "data": {
      "text/plain": [
       "LogisticRegression(C=1.0, class_weight=None, dual=False, fit_intercept=True,\n",
       "                   intercept_scaling=1, l1_ratio=None, max_iter=100,\n",
       "                   multi_class='auto', n_jobs=None, penalty='l2',\n",
       "                   random_state=None, solver='lbfgs', tol=0.0001, verbose=0,\n",
       "                   warm_start=False)"
      ]
     },
     "execution_count": 84,
     "metadata": {},
     "output_type": "execute_result"
    }
   ],
   "source": [
    "log.fit(train_X,train_y)"
   ]
  },
  {
   "cell_type": "code",
   "execution_count": 88,
   "metadata": {},
   "outputs": [],
   "source": [
    "train_pred_log=log.predict(train_X)"
   ]
  },
  {
   "cell_type": "code",
   "execution_count": 92,
   "metadata": {},
   "outputs": [],
   "source": [
    "test_pred_log=log.predict(test_X)"
   ]
  },
  {
   "cell_type": "code",
   "execution_count": 91,
   "metadata": {},
   "outputs": [
    {
     "data": {
      "text/plain": [
       "0.678686413393432"
      ]
     },
     "execution_count": 91,
     "metadata": {},
     "output_type": "execute_result"
    }
   ],
   "source": [
    "accuracy_score(train_y,train_pred_log)"
   ]
  },
  {
   "cell_type": "code",
   "execution_count": 93,
   "metadata": {},
   "outputs": [
    {
     "data": {
      "text/plain": [
       "0.66796875"
      ]
     },
     "execution_count": 93,
     "metadata": {},
     "output_type": "execute_result"
    }
   ],
   "source": [
    "accuracy_score(test_y,test_pred_log)"
   ]
  },
  {
   "cell_type": "markdown",
   "metadata": {},
   "source": [
    "# Random Forest"
   ]
  },
  {
   "cell_type": "code",
   "execution_count": 94,
   "metadata": {},
   "outputs": [],
   "source": [
    "from sklearn.ensemble import RandomForestClassifier"
   ]
  },
  {
   "cell_type": "code",
   "execution_count": 95,
   "metadata": {},
   "outputs": [],
   "source": [
    "rfc=RandomForestClassifier(max_depth=10,n_estimators=500,min_samples_split=15)"
   ]
  },
  {
   "cell_type": "code",
   "execution_count": 96,
   "metadata": {},
   "outputs": [
    {
     "data": {
      "text/plain": [
       "RandomForestClassifier(bootstrap=True, ccp_alpha=0.0, class_weight=None,\n",
       "                       criterion='gini', max_depth=10, max_features='auto',\n",
       "                       max_leaf_nodes=None, max_samples=None,\n",
       "                       min_impurity_decrease=0.0, min_impurity_split=None,\n",
       "                       min_samples_leaf=1, min_samples_split=15,\n",
       "                       min_weight_fraction_leaf=0.0, n_estimators=500,\n",
       "                       n_jobs=None, oob_score=False, random_state=None,\n",
       "                       verbose=0, warm_start=False)"
      ]
     },
     "execution_count": 96,
     "metadata": {},
     "output_type": "execute_result"
    }
   ],
   "source": [
    "rfc.fit(train_X,train_y)"
   ]
  },
  {
   "cell_type": "code",
   "execution_count": 97,
   "metadata": {},
   "outputs": [],
   "source": [
    "train_pred_rfc=rfc.predict(train_X)"
   ]
  },
  {
   "cell_type": "code",
   "execution_count": 98,
   "metadata": {},
   "outputs": [],
   "source": [
    "test_pred_rfc=rfc.predict(test_X)"
   ]
  },
  {
   "cell_type": "code",
   "execution_count": 99,
   "metadata": {},
   "outputs": [
    {
     "data": {
      "text/plain": [
       "0.7907276239536382"
      ]
     },
     "execution_count": 99,
     "metadata": {},
     "output_type": "execute_result"
    }
   ],
   "source": [
    "accuracy_score(train_y,train_pred_rfc)"
   ]
  },
  {
   "cell_type": "code",
   "execution_count": 100,
   "metadata": {},
   "outputs": [
    {
     "data": {
      "text/plain": [
       "0.7289663461538461"
      ]
     },
     "execution_count": 100,
     "metadata": {},
     "output_type": "execute_result"
    }
   ],
   "source": [
    "accuracy_score(test_y,test_pred_rfc)"
   ]
  },
  {
   "cell_type": "markdown",
   "metadata": {},
   "source": [
    "## Grid search"
   ]
  },
  {
   "cell_type": "code",
   "execution_count": 101,
   "metadata": {},
   "outputs": [],
   "source": [
    "from sklearn.model_selection import GridSearchCV"
   ]
  },
  {
   "cell_type": "code",
   "execution_count": 108,
   "metadata": {},
   "outputs": [],
   "source": [
    "max_depth=[int(x) for x in np.linspace(10,30,8)]"
   ]
  },
  {
   "cell_type": "code",
   "execution_count": 109,
   "metadata": {},
   "outputs": [],
   "source": [
    "min_samples_split=[int(x) for x in np.linspace (15,45,10)]"
   ]
  },
  {
   "cell_type": "code",
   "execution_count": 111,
   "metadata": {},
   "outputs": [],
   "source": [
    "min_samples_leaf=[int(x) for x in np.linspace(0,10,5)]"
   ]
  },
  {
   "cell_type": "code",
   "execution_count": 112,
   "metadata": {},
   "outputs": [],
   "source": [
    "param_grid={\"max_depth\":max_depth,\n",
    "           \"min_samples_split\":min_samples_split,\n",
    "           \"min_samples_leaf\":min_samples_leaf}"
   ]
  },
  {
   "cell_type": "code",
   "execution_count": 114,
   "metadata": {},
   "outputs": [],
   "source": [
    "grid=GridSearchCV(estimator=rfc,param_grid=param_grid,n_jobs=5,verbose=10)"
   ]
  },
  {
   "cell_type": "code",
   "execution_count": 115,
   "metadata": {
    "scrolled": true
   },
   "outputs": [
    {
     "name": "stdout",
     "output_type": "stream",
     "text": [
      "Fitting 5 folds for each of 400 candidates, totalling 2000 fits\n"
     ]
    },
    {
     "name": "stderr",
     "output_type": "stream",
     "text": [
      "[Parallel(n_jobs=5)]: Using backend LokyBackend with 5 concurrent workers.\n",
      "[Parallel(n_jobs=5)]: Done   3 tasks      | elapsed:    9.0s\n",
      "[Parallel(n_jobs=5)]: Done   8 tasks      | elapsed:   10.2s\n",
      "[Parallel(n_jobs=5)]: Done  15 tasks      | elapsed:   12.0s\n",
      "[Parallel(n_jobs=5)]: Done  22 tasks      | elapsed:   13.7s\n",
      "[Parallel(n_jobs=5)]: Done  31 tasks      | elapsed:   16.0s\n",
      "[Parallel(n_jobs=5)]: Done  40 tasks      | elapsed:   18.0s\n",
      "[Parallel(n_jobs=5)]: Done  51 tasks      | elapsed:   29.7s\n",
      "[Parallel(n_jobs=5)]: Done  62 tasks      | elapsed:   49.8s\n",
      "[Parallel(n_jobs=5)]: Done  75 tasks      | elapsed:  1.2min\n",
      "[Parallel(n_jobs=5)]: Done  88 tasks      | elapsed:  1.7min\n",
      "[Parallel(n_jobs=5)]: Done 103 tasks      | elapsed:  2.1min\n",
      "[Parallel(n_jobs=5)]: Done 118 tasks      | elapsed:  2.6min\n",
      "[Parallel(n_jobs=5)]: Done 135 tasks      | elapsed:  3.1min\n",
      "[Parallel(n_jobs=5)]: Done 152 tasks      | elapsed:  3.8min\n",
      "[Parallel(n_jobs=5)]: Done 171 tasks      | elapsed:  4.4min\n",
      "[Parallel(n_jobs=5)]: Done 190 tasks      | elapsed:  4.9min\n",
      "[Parallel(n_jobs=5)]: Done 211 tasks      | elapsed:  5.7min\n",
      "[Parallel(n_jobs=5)]: Done 255 tasks      | elapsed:  6.8min\n",
      "[Parallel(n_jobs=5)]: Done 278 tasks      | elapsed:  6.9min\n",
      "[Parallel(n_jobs=5)]: Done 303 tasks      | elapsed:  7.2min\n",
      "[Parallel(n_jobs=5)]: Done 328 tasks      | elapsed:  8.0min\n",
      "[Parallel(n_jobs=5)]: Done 355 tasks      | elapsed:  8.9min\n",
      "[Parallel(n_jobs=5)]: Done 382 tasks      | elapsed:  9.9min\n",
      "[Parallel(n_jobs=5)]: Done 411 tasks      | elapsed: 10.9min\n",
      "[Parallel(n_jobs=5)]: Done 440 tasks      | elapsed: 11.8min\n",
      "[Parallel(n_jobs=5)]: Done 471 tasks      | elapsed: 12.9min\n",
      "[Parallel(n_jobs=5)]: Done 502 tasks      | elapsed: 13.8min\n",
      "[Parallel(n_jobs=5)]: Done 535 tasks      | elapsed: 13.9min\n",
      "[Parallel(n_jobs=5)]: Done 568 tasks      | elapsed: 14.7min\n",
      "[Parallel(n_jobs=5)]: Done 603 tasks      | elapsed: 16.0min\n",
      "[Parallel(n_jobs=5)]: Done 675 tasks      | elapsed: 18.4min\n",
      "[Parallel(n_jobs=5)]: Done 712 tasks      | elapsed: 19.9min\n",
      "[Parallel(n_jobs=5)]: Done 751 tasks      | elapsed: 21.1min\n",
      "[Parallel(n_jobs=5)]: Done 790 tasks      | elapsed: 21.2min\n",
      "[Parallel(n_jobs=5)]: Done 831 tasks      | elapsed: 22.6min\n",
      "[Parallel(n_jobs=5)]: Done 872 tasks      | elapsed: 24.1min\n",
      "[Parallel(n_jobs=5)]: Done 915 tasks      | elapsed: 25.6min\n",
      "[Parallel(n_jobs=5)]: Done 958 tasks      | elapsed: 27.1min\n",
      "[Parallel(n_jobs=5)]: Done 1003 tasks      | elapsed: 28.5min\n",
      "[Parallel(n_jobs=5)]: Done 1048 tasks      | elapsed: 28.7min\n",
      "[Parallel(n_jobs=5)]: Done 1095 tasks      | elapsed: 30.4min\n",
      "[Parallel(n_jobs=5)]: Done 1142 tasks      | elapsed: 32.2min\n",
      "[Parallel(n_jobs=5)]: Done 1191 tasks      | elapsed: 34.0min\n",
      "[Parallel(n_jobs=5)]: Done 1240 tasks      | elapsed: 35.6min\n",
      "[Parallel(n_jobs=5)]: Done 1291 tasks      | elapsed: 36.0min\n",
      "[Parallel(n_jobs=5)]: Done 1342 tasks      | elapsed: 37.8min\n",
      "[Parallel(n_jobs=5)]: Done 1395 tasks      | elapsed: 39.6min\n",
      "[Parallel(n_jobs=5)]: Done 1448 tasks      | elapsed: 41.6min\n",
      "[Parallel(n_jobs=5)]: Done 1503 tasks      | elapsed: 43.3min\n",
      "[Parallel(n_jobs=5)]: Done 1558 tasks      | elapsed: 43.9min\n",
      "[Parallel(n_jobs=5)]: Done 1615 tasks      | elapsed: 46.0min\n",
      "[Parallel(n_jobs=5)]: Done 1672 tasks      | elapsed: 48.2min\n",
      "[Parallel(n_jobs=5)]: Done 1731 tasks      | elapsed: 50.2min\n",
      "[Parallel(n_jobs=5)]: Done 1790 tasks      | elapsed: 50.8min\n",
      "[Parallel(n_jobs=5)]: Done 1851 tasks      | elapsed: 53.0min\n",
      "[Parallel(n_jobs=5)]: Done 1912 tasks      | elapsed: 55.2min\n",
      "[Parallel(n_jobs=5)]: Done 1975 tasks      | elapsed: 57.3min\n",
      "[Parallel(n_jobs=5)]: Done 2000 out of 2000 | elapsed: 58.1min finished\n"
     ]
    },
    {
     "data": {
      "text/plain": [
       "GridSearchCV(cv=None, error_score=nan,\n",
       "             estimator=RandomForestClassifier(bootstrap=True, ccp_alpha=0.0,\n",
       "                                              class_weight=None,\n",
       "                                              criterion='gini', max_depth=10,\n",
       "                                              max_features='auto',\n",
       "                                              max_leaf_nodes=None,\n",
       "                                              max_samples=None,\n",
       "                                              min_impurity_decrease=0.0,\n",
       "                                              min_impurity_split=None,\n",
       "                                              min_samples_leaf=1,\n",
       "                                              min_samples_split=15,\n",
       "                                              min_weight_fraction_leaf=0.0,\n",
       "                                              n_estimators=500, n_jobs=None,\n",
       "                                              oob_score=False,\n",
       "                                              random_state=None, verbose=0,\n",
       "                                              warm_start=False),\n",
       "             iid='deprecated', n_jobs=5,\n",
       "             param_grid={'max_depth': [10, 12, 15, 18, 21, 24, 27, 30],\n",
       "                         'min_samples_leaf': [0, 2, 5, 7, 10],\n",
       "                         'min_samples_split': [15, 18, 21, 25, 28, 31, 35, 38,\n",
       "                                               41, 45]},\n",
       "             pre_dispatch='2*n_jobs', refit=True, return_train_score=False,\n",
       "             scoring=None, verbose=10)"
      ]
     },
     "execution_count": 115,
     "metadata": {},
     "output_type": "execute_result"
    }
   ],
   "source": [
    "grid.fit(train_X,train_y)"
   ]
  },
  {
   "cell_type": "code",
   "execution_count": 116,
   "metadata": {},
   "outputs": [
    {
     "data": {
      "text/plain": [
       "RandomForestClassifier(bootstrap=True, ccp_alpha=0.0, class_weight=None,\n",
       "                       criterion='gini', max_depth=27, max_features='auto',\n",
       "                       max_leaf_nodes=None, max_samples=None,\n",
       "                       min_impurity_decrease=0.0, min_impurity_split=None,\n",
       "                       min_samples_leaf=2, min_samples_split=15,\n",
       "                       min_weight_fraction_leaf=0.0, n_estimators=500,\n",
       "                       n_jobs=None, oob_score=False, random_state=None,\n",
       "                       verbose=0, warm_start=False)"
      ]
     },
     "execution_count": 116,
     "metadata": {},
     "output_type": "execute_result"
    }
   ],
   "source": [
    "grid.best_estimator_"
   ]
  },
  {
   "cell_type": "code",
   "execution_count": 289,
   "metadata": {},
   "outputs": [],
   "source": [
    "rfc1=RandomForestClassifier(n_estimators=150,max_depth=25)"
   ]
  },
  {
   "cell_type": "code",
   "execution_count": 290,
   "metadata": {},
   "outputs": [
    {
     "data": {
      "text/plain": [
       "RandomForestClassifier(bootstrap=True, ccp_alpha=0.0, class_weight=None,\n",
       "                       criterion='gini', max_depth=25, max_features='auto',\n",
       "                       max_leaf_nodes=None, max_samples=None,\n",
       "                       min_impurity_decrease=0.0, min_impurity_split=None,\n",
       "                       min_samples_leaf=1, min_samples_split=2,\n",
       "                       min_weight_fraction_leaf=0.0, n_estimators=150,\n",
       "                       n_jobs=None, oob_score=False, random_state=None,\n",
       "                       verbose=0, warm_start=False)"
      ]
     },
     "execution_count": 290,
     "metadata": {},
     "output_type": "execute_result"
    }
   ],
   "source": [
    "rfc1.fit(train_X.drop(columns={\"Cuisines\"}),train_y.drop(columns={\"Cuisines\"}))"
   ]
  },
  {
   "cell_type": "code",
   "execution_count": 291,
   "metadata": {},
   "outputs": [],
   "source": [
    "train_pred_rfc1=rfc1.predict(train_X.drop(columns={\"Cuisines\"}))"
   ]
  },
  {
   "cell_type": "code",
   "execution_count": 292,
   "metadata": {},
   "outputs": [],
   "source": [
    "test_pred_rfc1=rfc1.predict(test_X.drop(columns={\"Cuisines\"}))"
   ]
  },
  {
   "cell_type": "code",
   "execution_count": 293,
   "metadata": {},
   "outputs": [
    {
     "data": {
      "text/plain": [
       "0.9826142949130715"
      ]
     },
     "execution_count": 293,
     "metadata": {},
     "output_type": "execute_result"
    }
   ],
   "source": [
    "accuracy_score(train_y.drop(columns={\"Cuisines\"}),train_pred_rfc1)"
   ]
  },
  {
   "cell_type": "code",
   "execution_count": 294,
   "metadata": {},
   "outputs": [
    {
     "data": {
      "text/plain": [
       "0.7626201923076923"
      ]
     },
     "execution_count": 294,
     "metadata": {},
     "output_type": "execute_result"
    }
   ],
   "source": [
    "accuracy_score(test_y.drop(columns={\"Cuisines\"}),test_pred_rfc1)"
   ]
  },
  {
   "cell_type": "code",
   "execution_count": 272,
   "metadata": {},
   "outputs": [
    {
     "data": {
      "text/plain": [
       "Index(['Average_Cost', 'Cuisines', 'Minimum_Order', 'Rating', 'Restaurant',\n",
       "       'Reviews', 'Votes'],\n",
       "      dtype='object')"
      ]
     },
     "execution_count": 272,
     "metadata": {},
     "output_type": "execute_result"
    }
   ],
   "source": [
    "test_df.columns"
   ]
  },
  {
   "cell_type": "code",
   "execution_count": 239,
   "metadata": {},
   "outputs": [],
   "source": [
    "result_pred_rfc=rfc1.predict(test_df.drop(columns={\"Restaurant\",\"Cuisines\"}))"
   ]
  },
  {
   "cell_type": "code",
   "execution_count": 240,
   "metadata": {},
   "outputs": [],
   "source": [
    "result_Dataframe_rfc=pd.DataFrame(label.inverse_transform(result_pred_rfc),columns={\"Delivery_Time\"})"
   ]
  },
  {
   "cell_type": "code",
   "execution_count": 241,
   "metadata": {},
   "outputs": [],
   "source": [
    "result_Dataframe_rfc.to_excel(\"RFCPrediction.xlsx\",index=False)"
   ]
  },
  {
   "cell_type": "markdown",
   "metadata": {},
   "source": [
    "# GradientBoost Classifier"
   ]
  },
  {
   "cell_type": "code",
   "execution_count": 126,
   "metadata": {},
   "outputs": [],
   "source": [
    "from sklearn.ensemble import GradientBoostingClassifier"
   ]
  },
  {
   "cell_type": "code",
   "execution_count": 273,
   "metadata": {},
   "outputs": [],
   "source": [
    "gb=GradientBoostingClassifier( max_depth=25)"
   ]
  },
  {
   "cell_type": "code",
   "execution_count": 274,
   "metadata": {},
   "outputs": [
    {
     "data": {
      "text/plain": [
       "GradientBoostingClassifier(ccp_alpha=0.0, criterion='friedman_mse', init=None,\n",
       "                           learning_rate=0.1, loss='deviance', max_depth=25,\n",
       "                           max_features=None, max_leaf_nodes=None,\n",
       "                           min_impurity_decrease=0.0, min_impurity_split=None,\n",
       "                           min_samples_leaf=1, min_samples_split=2,\n",
       "                           min_weight_fraction_leaf=0.0, n_estimators=100,\n",
       "                           n_iter_no_change=None, presort='deprecated',\n",
       "                           random_state=None, subsample=1.0, tol=0.0001,\n",
       "                           validation_fraction=0.1, verbose=0,\n",
       "                           warm_start=False)"
      ]
     },
     "execution_count": 274,
     "metadata": {},
     "output_type": "execute_result"
    }
   ],
   "source": [
    "gb.fit(train_X.drop(columns={\"Reviews\"}),train_y.drop(columns={\"Reviews\"}))"
   ]
  },
  {
   "cell_type": "code",
   "execution_count": 275,
   "metadata": {},
   "outputs": [],
   "source": [
    "train_pred_gb=gb.predict(train_X.drop(columns={\"Reviews\"}))\n",
    "\n",
    "test_pred_gb=gb.predict(test_X.drop(columns={\"Reviews\"}))\n",
    "\n"
   ]
  },
  {
   "cell_type": "code",
   "execution_count": 276,
   "metadata": {},
   "outputs": [
    {
     "data": {
      "text/plain": [
       "0.9723116548615582"
      ]
     },
     "execution_count": 276,
     "metadata": {},
     "output_type": "execute_result"
    }
   ],
   "source": [
    "accuracy_score(train_y.drop(columns={\"Reviews\"}),train_pred_gb)\n",
    "\n"
   ]
  },
  {
   "cell_type": "code",
   "execution_count": 277,
   "metadata": {},
   "outputs": [
    {
     "data": {
      "text/plain": [
       "0.7346754807692307"
      ]
     },
     "execution_count": 277,
     "metadata": {},
     "output_type": "execute_result"
    }
   ],
   "source": [
    "accuracy_score(test_y.drop(columns={\"Reviews\"}),test_pred_gb)"
   ]
  },
  {
   "cell_type": "markdown",
   "metadata": {},
   "source": [
    "# XGBoost"
   ]
  },
  {
   "cell_type": "code",
   "execution_count": 132,
   "metadata": {},
   "outputs": [],
   "source": [
    "import xgboost as xgb"
   ]
  },
  {
   "cell_type": "code",
   "execution_count": 210,
   "metadata": {},
   "outputs": [],
   "source": [
    "xgb_model=xgb.XGBClassifier(max_depth=55)"
   ]
  },
  {
   "cell_type": "code",
   "execution_count": 216,
   "metadata": {},
   "outputs": [
    {
     "data": {
      "text/plain": [
       "XGBClassifier(base_score=0.5, booster='gbtree', colsample_bylevel=1,\n",
       "              colsample_bynode=1, colsample_bytree=1, gamma=0,\n",
       "              learning_rate=0.1, max_delta_step=0, max_depth=55,\n",
       "              min_child_weight=1, missing=None, n_estimators=100, n_jobs=1,\n",
       "              nthread=None, objective='multi:softprob', random_state=0,\n",
       "              reg_alpha=0, reg_lambda=1, scale_pos_weight=1, seed=None,\n",
       "              silent=None, subsample=1, verbosity=1)"
      ]
     },
     "execution_count": 216,
     "metadata": {},
     "output_type": "execute_result"
    }
   ],
   "source": [
    "xgb_model.fit(train_X.drop(columns={\"Cuisines\"}),train_y.drop(columns={\"Cuisines\"}))"
   ]
  },
  {
   "cell_type": "code",
   "execution_count": 217,
   "metadata": {},
   "outputs": [],
   "source": [
    "train_pred_xgb=xgb_model.predict(train_X.drop(columns={\"Cuisines\"}))"
   ]
  },
  {
   "cell_type": "code",
   "execution_count": 218,
   "metadata": {},
   "outputs": [],
   "source": [
    "test_pred_xgb=xgb_model.predict(test_X.drop(columns={\"Cuisines\"}))"
   ]
  },
  {
   "cell_type": "code",
   "execution_count": 219,
   "metadata": {},
   "outputs": [
    {
     "data": {
      "text/plain": [
       "0.9815840309079201"
      ]
     },
     "execution_count": 219,
     "metadata": {},
     "output_type": "execute_result"
    }
   ],
   "source": [
    "accuracy_score(train_y.drop(columns={\"Cuisines\"}),train_pred_xgb)"
   ]
  },
  {
   "cell_type": "code",
   "execution_count": 220,
   "metadata": {},
   "outputs": [
    {
     "data": {
      "text/plain": [
       "0.7584134615384616"
      ]
     },
     "execution_count": 220,
     "metadata": {},
     "output_type": "execute_result"
    }
   ],
   "source": [
    "accuracy_score(test_y.drop(columns={\"Cuisines\"}),test_pred_xgb)"
   ]
  },
  {
   "cell_type": "code",
   "execution_count": 159,
   "metadata": {},
   "outputs": [
    {
     "data": {
      "text/plain": [
       "array([[   0,    0,    0,    1,    0,    0,    0],\n",
       "       [   0,   37,    0,    3,    1,    0,    0],\n",
       "       [   0,    0,   13,    1,    0,    0,    0],\n",
       "       [   0,    0,    0, 5215,    6,    0,    0],\n",
       "       [   0,    0,    0,   68, 1795,    0,    0],\n",
       "       [   0,    0,    0,   16,    2,  599,    0],\n",
       "       [   0,    0,    0,    0,    0,    0,    8]], dtype=int64)"
      ]
     },
     "execution_count": 159,
     "metadata": {},
     "output_type": "execute_result"
    }
   ],
   "source": [
    "confusion_matrix(train_y,train_pred_xgb)"
   ]
  },
  {
   "cell_type": "code",
   "execution_count": null,
   "metadata": {},
   "outputs": [],
   "source": []
  },
  {
   "cell_type": "code",
   "execution_count": 160,
   "metadata": {},
   "outputs": [],
   "source": [
    "result_pred_xgb=xgb_model.predict(test_df.drop(columns={\"Restaurant\"}))"
   ]
  },
  {
   "cell_type": "code",
   "execution_count": 157,
   "metadata": {},
   "outputs": [],
   "source": [
    "result_Dataframe_xgb=pd.DataFrame(label.inverse_transform(result_pred_xgb),columns={\"Delivery_Time\"})"
   ]
  },
  {
   "cell_type": "code",
   "execution_count": 158,
   "metadata": {},
   "outputs": [],
   "source": [
    "result_Dataframe_xgb.to_excel(\"XGBoostPrediction.xlsx\",index=False)"
   ]
  },
  {
   "cell_type": "markdown",
   "metadata": {},
   "source": [
    "# CatBoost"
   ]
  },
  {
   "cell_type": "code",
   "execution_count": 142,
   "metadata": {
    "scrolled": true
   },
   "outputs": [
    {
     "name": "stdout",
     "output_type": "stream",
     "text": [
      "Collecting catboost\n",
      "  Downloading https://files.pythonhosted.org/packages/fb/b1/767ee13e26ffa437e11419620ef99edc0854496ba39f9a0b5fb1681a9f96/catboost-0.20.2-cp37-none-win_amd64.whl (63.1MB)\n",
      "Collecting graphviz (from catboost)\n",
      "  Downloading https://files.pythonhosted.org/packages/f5/74/dbed754c0abd63768d3a7a7b472da35b08ac442cf87d73d5850a6f32391e/graphviz-0.13.2-py2.py3-none-any.whl\n",
      "Requirement already satisfied: pandas>=0.24.0 in c:\\users\\dell\\anaconda3\\lib\\site-packages (from catboost) (0.25.1)\n",
      "Collecting plotly (from catboost)\n",
      "  Downloading https://files.pythonhosted.org/packages/8e/ce/6ea5683c47b682bffad39ad41d10913141b560b1b875a90dbc6abe3f4fa9/plotly-4.4.1-py2.py3-none-any.whl (7.3MB)\n",
      "Requirement already satisfied: matplotlib in c:\\users\\dell\\anaconda3\\lib\\site-packages (from catboost) (3.1.1)\n",
      "Requirement already satisfied: numpy>=1.16.0 in c:\\users\\dell\\anaconda3\\lib\\site-packages (from catboost) (1.16.5)\n",
      "Requirement already satisfied: scipy in c:\\users\\dell\\anaconda3\\lib\\site-packages (from catboost) (1.3.1)\n",
      "Requirement already satisfied: six in c:\\users\\dell\\anaconda3\\lib\\site-packages (from catboost) (1.12.0)\n",
      "Requirement already satisfied: python-dateutil>=2.6.1 in c:\\users\\dell\\anaconda3\\lib\\site-packages (from pandas>=0.24.0->catboost) (2.8.0)\n",
      "Requirement already satisfied: pytz>=2017.2 in c:\\users\\dell\\anaconda3\\lib\\site-packages (from pandas>=0.24.0->catboost) (2019.3)\n",
      "Collecting retrying>=1.3.3 (from plotly->catboost)\n",
      "  Downloading https://files.pythonhosted.org/packages/44/ef/beae4b4ef80902f22e3af073397f079c96969c69b2c7d52a57ea9ae61c9d/retrying-1.3.3.tar.gz\n",
      "Requirement already satisfied: cycler>=0.10 in c:\\users\\dell\\anaconda3\\lib\\site-packages (from matplotlib->catboost) (0.10.0)\n",
      "Requirement already satisfied: kiwisolver>=1.0.1 in c:\\users\\dell\\anaconda3\\lib\\site-packages (from matplotlib->catboost) (1.1.0)\n",
      "Requirement already satisfied: pyparsing!=2.0.4,!=2.1.2,!=2.1.6,>=2.0.1 in c:\\users\\dell\\anaconda3\\lib\\site-packages (from matplotlib->catboost) (2.4.2)\n",
      "Requirement already satisfied: setuptools in c:\\users\\dell\\anaconda3\\lib\\site-packages (from kiwisolver>=1.0.1->matplotlib->catboost) (41.4.0)\n",
      "Building wheels for collected packages: retrying\n",
      "  Building wheel for retrying (setup.py): started\n",
      "  Building wheel for retrying (setup.py): finished with status 'done'\n",
      "  Created wheel for retrying: filename=retrying-1.3.3-cp37-none-any.whl size=11435 sha256=65aab1d9fb96774e955ff9ac135a8dd8e49166e8f6762ec2362b4809dc474ebe\n",
      "  Stored in directory: C:\\Users\\Dell\\AppData\\Local\\Temp\\pip-ephem-wheel-cache-4i45faoc\\wheels\\d7\\a9\\33\\acc7b709e2a35caa7d4cae442f6fe6fbf2c43f80823d46460c\n",
      "Successfully built retrying\n",
      "Installing collected packages: graphviz, retrying, plotly, catboost\n",
      "Successfully installed catboost-0.20.2 graphviz-0.13.2 plotly-4.4.1 retrying-1.3.3\n",
      "Note: you may need to restart the kernel to use updated packages.\n"
     ]
    }
   ],
   "source": [
    "pip install catboost --no-cache-dir"
   ]
  },
  {
   "cell_type": "code",
   "execution_count": 143,
   "metadata": {},
   "outputs": [],
   "source": [
    "from catboost import CatBoostClassifier"
   ]
  },
  {
   "cell_type": "code",
   "execution_count": 144,
   "metadata": {},
   "outputs": [],
   "source": [
    "cat=CatBoostClassifier()"
   ]
  },
  {
   "cell_type": "code",
   "execution_count": 278,
   "metadata": {},
   "outputs": [
    {
     "name": "stdout",
     "output_type": "stream",
     "text": [
      "0:\tlearn: 1.8530237\ttotal: 45.4ms\tremaining: 45.4s\n",
      "1:\tlearn: 1.7743778\ttotal: 82.5ms\tremaining: 41.1s\n",
      "2:\tlearn: 1.7073020\ttotal: 121ms\tremaining: 40.2s\n",
      "3:\tlearn: 1.6449900\ttotal: 154ms\tremaining: 38.3s\n",
      "4:\tlearn: 1.5911628\ttotal: 177ms\tremaining: 35.3s\n",
      "5:\tlearn: 1.5405623\ttotal: 197ms\tremaining: 32.7s\n",
      "6:\tlearn: 1.4941261\ttotal: 223ms\tremaining: 31.7s\n",
      "7:\tlearn: 1.4523360\ttotal: 243ms\tremaining: 30.1s\n",
      "8:\tlearn: 1.4151103\ttotal: 274ms\tremaining: 30.2s\n",
      "9:\tlearn: 1.3795741\ttotal: 310ms\tremaining: 30.7s\n",
      "10:\tlearn: 1.3466447\ttotal: 401ms\tremaining: 36.1s\n",
      "11:\tlearn: 1.3158621\ttotal: 442ms\tremaining: 36.4s\n",
      "12:\tlearn: 1.2875479\ttotal: 495ms\tremaining: 37.6s\n",
      "13:\tlearn: 1.2607491\ttotal: 638ms\tremaining: 44.9s\n",
      "14:\tlearn: 1.2355827\ttotal: 677ms\tremaining: 44.4s\n",
      "15:\tlearn: 1.2125143\ttotal: 769ms\tremaining: 47.3s\n",
      "16:\tlearn: 1.1902857\ttotal: 913ms\tremaining: 52.8s\n",
      "17:\tlearn: 1.1692638\ttotal: 1.03s\tremaining: 56s\n",
      "18:\tlearn: 1.1492049\ttotal: 1.1s\tremaining: 56.8s\n",
      "19:\tlearn: 1.1308836\ttotal: 1.16s\tremaining: 56.8s\n",
      "20:\tlearn: 1.1130672\ttotal: 1.24s\tremaining: 57.6s\n",
      "21:\tlearn: 1.0961792\ttotal: 1.34s\tremaining: 59.8s\n",
      "22:\tlearn: 1.0803238\ttotal: 1.43s\tremaining: 1m\n",
      "23:\tlearn: 1.0650538\ttotal: 1.48s\tremaining: 1m\n",
      "24:\tlearn: 1.0511450\ttotal: 1.61s\tremaining: 1m 2s\n",
      "25:\tlearn: 1.0371544\ttotal: 1.71s\tremaining: 1m 4s\n",
      "26:\tlearn: 1.0239897\ttotal: 1.78s\tremaining: 1m 4s\n",
      "27:\tlearn: 1.0114882\ttotal: 1.82s\tremaining: 1m 3s\n",
      "28:\tlearn: 0.9992848\ttotal: 1.93s\tremaining: 1m 4s\n",
      "29:\tlearn: 0.9875035\ttotal: 1.96s\tremaining: 1m 3s\n",
      "30:\tlearn: 0.9763518\ttotal: 2.14s\tremaining: 1m 7s\n",
      "31:\tlearn: 0.9655946\ttotal: 2.22s\tremaining: 1m 7s\n",
      "32:\tlearn: 0.9557595\ttotal: 2.28s\tremaining: 1m 6s\n",
      "33:\tlearn: 0.9461655\ttotal: 2.31s\tremaining: 1m 5s\n",
      "34:\tlearn: 0.9370813\ttotal: 2.34s\tremaining: 1m 4s\n",
      "35:\tlearn: 0.9284386\ttotal: 2.36s\tremaining: 1m 3s\n",
      "36:\tlearn: 0.9198486\ttotal: 2.4s\tremaining: 1m 2s\n",
      "37:\tlearn: 0.9116326\ttotal: 2.47s\tremaining: 1m 2s\n",
      "38:\tlearn: 0.9040693\ttotal: 2.52s\tremaining: 1m 2s\n",
      "39:\tlearn: 0.8964974\ttotal: 2.62s\tremaining: 1m 2s\n",
      "40:\tlearn: 0.8893490\ttotal: 2.67s\tremaining: 1m 2s\n",
      "41:\tlearn: 0.8822059\ttotal: 2.69s\tremaining: 1m 1s\n",
      "42:\tlearn: 0.8756690\ttotal: 2.71s\tremaining: 1m\n",
      "43:\tlearn: 0.8690671\ttotal: 2.75s\tremaining: 59.7s\n",
      "44:\tlearn: 0.8626569\ttotal: 2.84s\tremaining: 1m\n",
      "45:\tlearn: 0.8568599\ttotal: 2.91s\tremaining: 1m\n",
      "46:\tlearn: 0.8509727\ttotal: 2.95s\tremaining: 59.8s\n",
      "47:\tlearn: 0.8449853\ttotal: 3.02s\tremaining: 59.9s\n",
      "48:\tlearn: 0.8393341\ttotal: 3.09s\tremaining: 1m\n",
      "49:\tlearn: 0.8339445\ttotal: 3.13s\tremaining: 59.4s\n",
      "50:\tlearn: 0.8288563\ttotal: 3.19s\tremaining: 59.4s\n",
      "51:\tlearn: 0.8238258\ttotal: 3.25s\tremaining: 59.4s\n",
      "52:\tlearn: 0.8190277\ttotal: 3.28s\tremaining: 58.6s\n",
      "53:\tlearn: 0.8144854\ttotal: 3.34s\tremaining: 58.5s\n",
      "54:\tlearn: 0.8102445\ttotal: 3.41s\tremaining: 58.6s\n",
      "55:\tlearn: 0.8060159\ttotal: 3.47s\tremaining: 58.5s\n",
      "56:\tlearn: 0.8021062\ttotal: 3.51s\tremaining: 58.1s\n",
      "57:\tlearn: 0.7980897\ttotal: 3.53s\tremaining: 57.3s\n",
      "58:\tlearn: 0.7941263\ttotal: 3.6s\tremaining: 57.4s\n",
      "59:\tlearn: 0.7904705\ttotal: 3.7s\tremaining: 58s\n",
      "60:\tlearn: 0.7867793\ttotal: 3.72s\tremaining: 57.3s\n",
      "61:\tlearn: 0.7833501\ttotal: 3.81s\tremaining: 57.6s\n",
      "62:\tlearn: 0.7800938\ttotal: 3.88s\tremaining: 57.7s\n",
      "63:\tlearn: 0.7770191\ttotal: 3.93s\tremaining: 57.5s\n",
      "64:\tlearn: 0.7739408\ttotal: 3.97s\tremaining: 57.1s\n",
      "65:\tlearn: 0.7708450\ttotal: 4.05s\tremaining: 57.3s\n",
      "66:\tlearn: 0.7679916\ttotal: 4.08s\tremaining: 56.8s\n",
      "67:\tlearn: 0.7652142\ttotal: 4.11s\tremaining: 56.4s\n",
      "68:\tlearn: 0.7623989\ttotal: 4.16s\tremaining: 56.1s\n",
      "69:\tlearn: 0.7596571\ttotal: 4.24s\tremaining: 56.3s\n",
      "70:\tlearn: 0.7571485\ttotal: 4.37s\tremaining: 57.2s\n",
      "71:\tlearn: 0.7546875\ttotal: 4.47s\tremaining: 57.7s\n",
      "72:\tlearn: 0.7522370\ttotal: 4.5s\tremaining: 57.2s\n",
      "73:\tlearn: 0.7497899\ttotal: 4.53s\tremaining: 56.7s\n",
      "74:\tlearn: 0.7473870\ttotal: 4.58s\tremaining: 56.5s\n",
      "75:\tlearn: 0.7451962\ttotal: 4.63s\tremaining: 56.3s\n",
      "76:\tlearn: 0.7429623\ttotal: 4.71s\tremaining: 56.4s\n",
      "77:\tlearn: 0.7409173\ttotal: 4.74s\tremaining: 56s\n",
      "78:\tlearn: 0.7389717\ttotal: 4.79s\tremaining: 55.9s\n",
      "79:\tlearn: 0.7370924\ttotal: 4.85s\tremaining: 55.8s\n",
      "80:\tlearn: 0.7352696\ttotal: 4.96s\tremaining: 56.3s\n",
      "81:\tlearn: 0.7334509\ttotal: 4.99s\tremaining: 55.8s\n",
      "82:\tlearn: 0.7317317\ttotal: 5.06s\tremaining: 55.9s\n",
      "83:\tlearn: 0.7299918\ttotal: 5.26s\tremaining: 57.4s\n",
      "84:\tlearn: 0.7283316\ttotal: 5.36s\tremaining: 57.7s\n",
      "85:\tlearn: 0.7268595\ttotal: 5.42s\tremaining: 57.6s\n",
      "86:\tlearn: 0.7253854\ttotal: 5.44s\tremaining: 57.1s\n",
      "87:\tlearn: 0.7238188\ttotal: 5.48s\tremaining: 56.8s\n",
      "88:\tlearn: 0.7222080\ttotal: 5.61s\tremaining: 57.4s\n",
      "89:\tlearn: 0.7207917\ttotal: 5.67s\tremaining: 57.3s\n",
      "90:\tlearn: 0.7194344\ttotal: 5.77s\tremaining: 57.6s\n",
      "91:\tlearn: 0.7181261\ttotal: 5.84s\tremaining: 57.6s\n",
      "92:\tlearn: 0.7168618\ttotal: 5.86s\tremaining: 57.2s\n",
      "93:\tlearn: 0.7155409\ttotal: 5.94s\tremaining: 57.3s\n",
      "94:\tlearn: 0.7142235\ttotal: 6.13s\tremaining: 58.4s\n",
      "95:\tlearn: 0.7130168\ttotal: 6.17s\tremaining: 58.1s\n",
      "96:\tlearn: 0.7118825\ttotal: 6.27s\tremaining: 58.4s\n",
      "97:\tlearn: 0.7105949\ttotal: 6.31s\tremaining: 58s\n",
      "98:\tlearn: 0.7092380\ttotal: 6.38s\tremaining: 58.1s\n",
      "99:\tlearn: 0.7083081\ttotal: 6.46s\tremaining: 58.1s\n",
      "100:\tlearn: 0.7072040\ttotal: 6.5s\tremaining: 57.9s\n",
      "101:\tlearn: 0.7060425\ttotal: 6.53s\tremaining: 57.5s\n",
      "102:\tlearn: 0.7050335\ttotal: 6.57s\tremaining: 57.2s\n",
      "103:\tlearn: 0.7040376\ttotal: 6.7s\tremaining: 57.7s\n",
      "104:\tlearn: 0.7031553\ttotal: 6.82s\tremaining: 58.1s\n",
      "105:\tlearn: 0.7021401\ttotal: 6.87s\tremaining: 57.9s\n",
      "106:\tlearn: 0.7012731\ttotal: 7.01s\tremaining: 58.5s\n",
      "107:\tlearn: 0.7003488\ttotal: 7.16s\tremaining: 59.1s\n",
      "108:\tlearn: 0.6993569\ttotal: 7.2s\tremaining: 58.9s\n",
      "109:\tlearn: 0.6985323\ttotal: 7.24s\tremaining: 58.6s\n",
      "110:\tlearn: 0.6977109\ttotal: 7.43s\tremaining: 59.5s\n",
      "111:\tlearn: 0.6968323\ttotal: 7.54s\tremaining: 59.8s\n",
      "112:\tlearn: 0.6959455\ttotal: 7.58s\tremaining: 59.5s\n",
      "113:\tlearn: 0.6952690\ttotal: 7.62s\tremaining: 59.2s\n",
      "114:\tlearn: 0.6945772\ttotal: 7.66s\tremaining: 59s\n",
      "115:\tlearn: 0.6939497\ttotal: 7.72s\tremaining: 58.9s\n",
      "116:\tlearn: 0.6932927\ttotal: 7.79s\tremaining: 58.8s\n",
      "117:\tlearn: 0.6925627\ttotal: 7.9s\tremaining: 59.1s\n",
      "118:\tlearn: 0.6918707\ttotal: 8.03s\tremaining: 59.4s\n",
      "119:\tlearn: 0.6913470\ttotal: 8.05s\tremaining: 59s\n",
      "120:\tlearn: 0.6907546\ttotal: 8.07s\tremaining: 58.6s\n",
      "121:\tlearn: 0.6901795\ttotal: 8.11s\tremaining: 58.3s\n",
      "122:\tlearn: 0.6896100\ttotal: 8.17s\tremaining: 58.2s\n",
      "123:\tlearn: 0.6889393\ttotal: 8.25s\tremaining: 58.3s\n",
      "124:\tlearn: 0.6882907\ttotal: 8.29s\tremaining: 58s\n",
      "125:\tlearn: 0.6876926\ttotal: 8.45s\tremaining: 58.6s\n",
      "126:\tlearn: 0.6870464\ttotal: 8.57s\tremaining: 58.9s\n",
      "127:\tlearn: 0.6864453\ttotal: 8.69s\tremaining: 59.2s\n",
      "128:\tlearn: 0.6858502\ttotal: 8.75s\tremaining: 59.1s\n",
      "129:\tlearn: 0.6853167\ttotal: 8.8s\tremaining: 58.9s\n",
      "130:\tlearn: 0.6847578\ttotal: 8.89s\tremaining: 59s\n",
      "131:\tlearn: 0.6841323\ttotal: 8.94s\tremaining: 58.8s\n",
      "132:\tlearn: 0.6836536\ttotal: 8.99s\tremaining: 58.6s\n",
      "133:\tlearn: 0.6831293\ttotal: 9.04s\tremaining: 58.4s\n",
      "134:\tlearn: 0.6826034\ttotal: 9.1s\tremaining: 58.3s\n",
      "135:\tlearn: 0.6821676\ttotal: 9.16s\tremaining: 58.2s\n",
      "136:\tlearn: 0.6816919\ttotal: 9.22s\tremaining: 58.1s\n",
      "137:\tlearn: 0.6811598\ttotal: 9.26s\tremaining: 57.9s\n",
      "138:\tlearn: 0.6806816\ttotal: 9.29s\tremaining: 57.5s\n",
      "139:\tlearn: 0.6803161\ttotal: 9.3s\tremaining: 57.2s\n",
      "140:\tlearn: 0.6799554\ttotal: 9.32s\tremaining: 56.8s\n",
      "141:\tlearn: 0.6796591\ttotal: 9.34s\tremaining: 56.4s\n",
      "142:\tlearn: 0.6791994\ttotal: 9.37s\tremaining: 56.1s\n",
      "143:\tlearn: 0.6788794\ttotal: 9.4s\tremaining: 55.9s\n",
      "144:\tlearn: 0.6784239\ttotal: 9.47s\tremaining: 55.8s\n",
      "145:\tlearn: 0.6781055\ttotal: 9.5s\tremaining: 55.5s\n",
      "146:\tlearn: 0.6776784\ttotal: 9.52s\tremaining: 55.2s\n",
      "147:\tlearn: 0.6773665\ttotal: 9.54s\tremaining: 54.9s\n",
      "148:\tlearn: 0.6770393\ttotal: 9.58s\tremaining: 54.7s\n",
      "149:\tlearn: 0.6766512\ttotal: 9.64s\tremaining: 54.6s\n",
      "150:\tlearn: 0.6763601\ttotal: 9.67s\tremaining: 54.4s\n",
      "151:\tlearn: 0.6760356\ttotal: 9.7s\tremaining: 54.1s\n",
      "152:\tlearn: 0.6756940\ttotal: 9.73s\tremaining: 53.9s\n",
      "153:\tlearn: 0.6754010\ttotal: 9.8s\tremaining: 53.8s\n",
      "154:\tlearn: 0.6749658\ttotal: 9.82s\tremaining: 53.5s\n",
      "155:\tlearn: 0.6745439\ttotal: 9.84s\tremaining: 53.3s\n",
      "156:\tlearn: 0.6741925\ttotal: 9.86s\tremaining: 53s\n",
      "157:\tlearn: 0.6739760\ttotal: 9.88s\tremaining: 52.7s\n",
      "158:\tlearn: 0.6736631\ttotal: 9.9s\tremaining: 52.4s\n",
      "159:\tlearn: 0.6733208\ttotal: 9.92s\tremaining: 52.1s\n",
      "160:\tlearn: 0.6730744\ttotal: 9.95s\tremaining: 51.9s\n",
      "161:\tlearn: 0.6726786\ttotal: 10s\tremaining: 51.8s\n",
      "162:\tlearn: 0.6724526\ttotal: 10s\tremaining: 51.6s\n",
      "163:\tlearn: 0.6721623\ttotal: 10.1s\tremaining: 51.3s\n"
     ]
    },
    {
     "name": "stdout",
     "output_type": "stream",
     "text": [
      "164:\tlearn: 0.6719584\ttotal: 10.1s\tremaining: 51.2s\n",
      "165:\tlearn: 0.6716524\ttotal: 10.2s\tremaining: 51.3s\n",
      "166:\tlearn: 0.6714186\ttotal: 10.3s\tremaining: 51.2s\n",
      "167:\tlearn: 0.6712047\ttotal: 10.3s\tremaining: 51.1s\n",
      "168:\tlearn: 0.6710002\ttotal: 10.4s\tremaining: 51s\n",
      "169:\tlearn: 0.6708164\ttotal: 10.4s\tremaining: 50.7s\n",
      "170:\tlearn: 0.6705373\ttotal: 10.4s\tremaining: 50.4s\n",
      "171:\tlearn: 0.6702490\ttotal: 10.4s\tremaining: 50.2s\n",
      "172:\tlearn: 0.6698466\ttotal: 10.4s\tremaining: 49.9s\n",
      "173:\tlearn: 0.6696330\ttotal: 10.5s\tremaining: 49.8s\n",
      "174:\tlearn: 0.6693583\ttotal: 10.5s\tremaining: 49.7s\n",
      "175:\tlearn: 0.6691381\ttotal: 10.6s\tremaining: 49.5s\n",
      "176:\tlearn: 0.6689409\ttotal: 10.6s\tremaining: 49.3s\n",
      "177:\tlearn: 0.6685294\ttotal: 10.6s\tremaining: 49.1s\n",
      "178:\tlearn: 0.6682036\ttotal: 10.6s\tremaining: 48.8s\n",
      "179:\tlearn: 0.6678960\ttotal: 10.7s\tremaining: 49s\n",
      "180:\tlearn: 0.6676704\ttotal: 10.8s\tremaining: 48.7s\n",
      "181:\tlearn: 0.6674872\ttotal: 10.8s\tremaining: 48.5s\n",
      "182:\tlearn: 0.6671030\ttotal: 10.8s\tremaining: 48.3s\n",
      "183:\tlearn: 0.6668983\ttotal: 10.8s\tremaining: 48s\n",
      "184:\tlearn: 0.6665773\ttotal: 10.8s\tremaining: 47.8s\n",
      "185:\tlearn: 0.6664099\ttotal: 10.9s\tremaining: 47.6s\n",
      "186:\tlearn: 0.6661752\ttotal: 10.9s\tremaining: 47.6s\n",
      "187:\tlearn: 0.6659977\ttotal: 11s\tremaining: 47.4s\n",
      "188:\tlearn: 0.6657946\ttotal: 11s\tremaining: 47.2s\n",
      "189:\tlearn: 0.6655859\ttotal: 11s\tremaining: 47s\n",
      "190:\tlearn: 0.6653872\ttotal: 11s\tremaining: 46.8s\n",
      "191:\tlearn: 0.6650446\ttotal: 11.1s\tremaining: 46.9s\n",
      "192:\tlearn: 0.6649027\ttotal: 11.2s\tremaining: 46.7s\n",
      "193:\tlearn: 0.6647288\ttotal: 11.2s\tremaining: 46.5s\n",
      "194:\tlearn: 0.6646479\ttotal: 11.2s\tremaining: 46.3s\n",
      "195:\tlearn: 0.6644318\ttotal: 11.2s\tremaining: 46.1s\n",
      "196:\tlearn: 0.6642026\ttotal: 11.3s\tremaining: 46.1s\n",
      "197:\tlearn: 0.6640521\ttotal: 11.3s\tremaining: 46s\n",
      "198:\tlearn: 0.6639647\ttotal: 11.4s\tremaining: 45.8s\n",
      "199:\tlearn: 0.6638176\ttotal: 11.4s\tremaining: 45.5s\n",
      "200:\tlearn: 0.6636586\ttotal: 11.4s\tremaining: 45.3s\n",
      "201:\tlearn: 0.6635454\ttotal: 11.4s\tremaining: 45.1s\n",
      "202:\tlearn: 0.6632948\ttotal: 11.5s\tremaining: 45.3s\n",
      "203:\tlearn: 0.6631712\ttotal: 11.6s\tremaining: 45.2s\n",
      "204:\tlearn: 0.6630290\ttotal: 11.7s\tremaining: 45.3s\n",
      "205:\tlearn: 0.6629170\ttotal: 11.7s\tremaining: 45.3s\n",
      "206:\tlearn: 0.6627049\ttotal: 11.8s\tremaining: 45.2s\n",
      "207:\tlearn: 0.6624227\ttotal: 11.8s\tremaining: 45s\n",
      "208:\tlearn: 0.6623279\ttotal: 11.8s\tremaining: 44.8s\n",
      "209:\tlearn: 0.6620698\ttotal: 11.9s\tremaining: 44.7s\n",
      "210:\tlearn: 0.6617036\ttotal: 11.9s\tremaining: 44.7s\n",
      "211:\tlearn: 0.6615364\ttotal: 12s\tremaining: 44.5s\n",
      "212:\tlearn: 0.6613149\ttotal: 12s\tremaining: 44.4s\n",
      "213:\tlearn: 0.6611114\ttotal: 12.1s\tremaining: 44.3s\n",
      "214:\tlearn: 0.6610203\ttotal: 12.1s\tremaining: 44.2s\n",
      "215:\tlearn: 0.6608692\ttotal: 12.2s\tremaining: 44.2s\n",
      "216:\tlearn: 0.6607054\ttotal: 12.2s\tremaining: 44s\n",
      "217:\tlearn: 0.6606155\ttotal: 12.2s\tremaining: 43.9s\n",
      "218:\tlearn: 0.6603697\ttotal: 12.3s\tremaining: 43.7s\n",
      "219:\tlearn: 0.6600284\ttotal: 12.3s\tremaining: 43.6s\n",
      "220:\tlearn: 0.6599047\ttotal: 12.4s\tremaining: 43.6s\n",
      "221:\tlearn: 0.6596274\ttotal: 12.4s\tremaining: 43.4s\n",
      "222:\tlearn: 0.6594253\ttotal: 12.4s\tremaining: 43.2s\n",
      "223:\tlearn: 0.6592204\ttotal: 12.4s\tremaining: 43.1s\n",
      "224:\tlearn: 0.6590053\ttotal: 12.4s\tremaining: 42.9s\n",
      "225:\tlearn: 0.6588151\ttotal: 12.5s\tremaining: 43s\n",
      "226:\tlearn: 0.6586362\ttotal: 12.6s\tremaining: 42.8s\n",
      "227:\tlearn: 0.6584828\ttotal: 12.6s\tremaining: 42.6s\n",
      "228:\tlearn: 0.6583746\ttotal: 12.6s\tremaining: 42.4s\n",
      "229:\tlearn: 0.6581505\ttotal: 12.6s\tremaining: 42.3s\n",
      "230:\tlearn: 0.6579878\ttotal: 12.6s\tremaining: 42.1s\n",
      "231:\tlearn: 0.6577347\ttotal: 12.7s\tremaining: 42.2s\n",
      "232:\tlearn: 0.6574727\ttotal: 12.8s\tremaining: 42.1s\n",
      "233:\tlearn: 0.6572929\ttotal: 12.8s\tremaining: 42s\n",
      "234:\tlearn: 0.6570436\ttotal: 12.8s\tremaining: 41.8s\n",
      "235:\tlearn: 0.6569289\ttotal: 13s\tremaining: 42s\n",
      "236:\tlearn: 0.6567687\ttotal: 13s\tremaining: 41.8s\n",
      "237:\tlearn: 0.6565906\ttotal: 13s\tremaining: 41.7s\n",
      "238:\tlearn: 0.6564987\ttotal: 13s\tremaining: 41.5s\n",
      "239:\tlearn: 0.6563164\ttotal: 13.1s\tremaining: 41.5s\n",
      "240:\tlearn: 0.6561465\ttotal: 13.2s\tremaining: 41.5s\n",
      "241:\tlearn: 0.6560060\ttotal: 13.2s\tremaining: 41.3s\n",
      "242:\tlearn: 0.6558732\ttotal: 13.2s\tremaining: 41.2s\n",
      "243:\tlearn: 0.6557340\ttotal: 13.2s\tremaining: 41s\n",
      "244:\tlearn: 0.6554639\ttotal: 13.3s\tremaining: 40.9s\n",
      "245:\tlearn: 0.6552705\ttotal: 13.4s\tremaining: 40.9s\n",
      "246:\tlearn: 0.6551790\ttotal: 13.4s\tremaining: 40.8s\n",
      "247:\tlearn: 0.6550269\ttotal: 13.4s\tremaining: 40.6s\n",
      "248:\tlearn: 0.6548703\ttotal: 13.5s\tremaining: 40.6s\n",
      "249:\tlearn: 0.6546629\ttotal: 13.6s\tremaining: 40.7s\n",
      "250:\tlearn: 0.6543673\ttotal: 13.6s\tremaining: 40.6s\n",
      "251:\tlearn: 0.6542815\ttotal: 13.6s\tremaining: 40.4s\n",
      "252:\tlearn: 0.6541277\ttotal: 13.6s\tremaining: 40.3s\n",
      "253:\tlearn: 0.6540219\ttotal: 13.7s\tremaining: 40.2s\n",
      "254:\tlearn: 0.6538457\ttotal: 13.7s\tremaining: 40.1s\n",
      "255:\tlearn: 0.6536500\ttotal: 13.8s\tremaining: 40.1s\n",
      "256:\tlearn: 0.6534717\ttotal: 13.8s\tremaining: 40s\n",
      "257:\tlearn: 0.6533654\ttotal: 13.8s\tremaining: 39.8s\n",
      "258:\tlearn: 0.6531854\ttotal: 13.9s\tremaining: 39.7s\n",
      "259:\tlearn: 0.6530297\ttotal: 13.9s\tremaining: 39.5s\n",
      "260:\tlearn: 0.6529126\ttotal: 13.9s\tremaining: 39.5s\n",
      "261:\tlearn: 0.6528094\ttotal: 14s\tremaining: 39.5s\n",
      "262:\tlearn: 0.6524860\ttotal: 14.1s\tremaining: 39.4s\n",
      "263:\tlearn: 0.6523891\ttotal: 14.1s\tremaining: 39.3s\n",
      "264:\tlearn: 0.6522852\ttotal: 14.1s\tremaining: 39.1s\n",
      "265:\tlearn: 0.6521546\ttotal: 14.2s\tremaining: 39s\n",
      "266:\tlearn: 0.6520616\ttotal: 14.2s\tremaining: 39s\n",
      "267:\tlearn: 0.6519286\ttotal: 14.2s\tremaining: 38.9s\n",
      "268:\tlearn: 0.6518002\ttotal: 14.3s\tremaining: 38.7s\n",
      "269:\tlearn: 0.6516314\ttotal: 14.3s\tremaining: 38.6s\n",
      "270:\tlearn: 0.6514720\ttotal: 14.3s\tremaining: 38.5s\n",
      "271:\tlearn: 0.6512526\ttotal: 14.4s\tremaining: 38.5s\n",
      "272:\tlearn: 0.6511361\ttotal: 14.4s\tremaining: 38.4s\n",
      "273:\tlearn: 0.6509611\ttotal: 14.4s\tremaining: 38.2s\n",
      "274:\tlearn: 0.6507594\ttotal: 14.5s\tremaining: 38.1s\n",
      "275:\tlearn: 0.6506675\ttotal: 14.5s\tremaining: 38.2s\n",
      "276:\tlearn: 0.6505127\ttotal: 14.6s\tremaining: 38.1s\n",
      "277:\tlearn: 0.6504114\ttotal: 14.6s\tremaining: 37.9s\n",
      "278:\tlearn: 0.6503275\ttotal: 14.6s\tremaining: 37.8s\n",
      "279:\tlearn: 0.6502373\ttotal: 14.7s\tremaining: 37.7s\n",
      "280:\tlearn: 0.6501300\ttotal: 14.7s\tremaining: 37.6s\n",
      "281:\tlearn: 0.6499670\ttotal: 14.7s\tremaining: 37.6s\n",
      "282:\tlearn: 0.6499032\ttotal: 14.8s\tremaining: 37.4s\n",
      "283:\tlearn: 0.6497568\ttotal: 14.8s\tremaining: 37.3s\n",
      "284:\tlearn: 0.6495781\ttotal: 14.8s\tremaining: 37.2s\n",
      "285:\tlearn: 0.6493453\ttotal: 15s\tremaining: 37.4s\n",
      "286:\tlearn: 0.6492492\ttotal: 15s\tremaining: 37.2s\n",
      "287:\tlearn: 0.6490898\ttotal: 15s\tremaining: 37.1s\n",
      "288:\tlearn: 0.6489375\ttotal: 15s\tremaining: 37s\n",
      "289:\tlearn: 0.6488287\ttotal: 15.1s\tremaining: 36.9s\n",
      "290:\tlearn: 0.6486884\ttotal: 15.1s\tremaining: 36.9s\n",
      "291:\tlearn: 0.6484629\ttotal: 15.2s\tremaining: 36.8s\n",
      "292:\tlearn: 0.6483241\ttotal: 15.2s\tremaining: 36.7s\n",
      "293:\tlearn: 0.6481245\ttotal: 15.3s\tremaining: 36.7s\n",
      "294:\tlearn: 0.6480784\ttotal: 15.3s\tremaining: 36.6s\n",
      "295:\tlearn: 0.6479302\ttotal: 15.4s\tremaining: 36.5s\n",
      "296:\tlearn: 0.6478206\ttotal: 15.4s\tremaining: 36.4s\n",
      "297:\tlearn: 0.6477010\ttotal: 15.4s\tremaining: 36.3s\n",
      "298:\tlearn: 0.6474796\ttotal: 15.5s\tremaining: 36.4s\n",
      "299:\tlearn: 0.6473138\ttotal: 15.5s\tremaining: 36.2s\n",
      "300:\tlearn: 0.6472008\ttotal: 15.5s\tremaining: 36.1s\n",
      "301:\tlearn: 0.6470156\ttotal: 15.6s\tremaining: 36s\n",
      "302:\tlearn: 0.6469302\ttotal: 15.6s\tremaining: 36s\n",
      "303:\tlearn: 0.6467829\ttotal: 15.7s\tremaining: 35.9s\n",
      "304:\tlearn: 0.6466397\ttotal: 15.7s\tremaining: 35.8s\n",
      "305:\tlearn: 0.6464749\ttotal: 15.7s\tremaining: 35.7s\n",
      "306:\tlearn: 0.6463518\ttotal: 15.8s\tremaining: 35.6s\n",
      "307:\tlearn: 0.6462500\ttotal: 15.8s\tremaining: 35.5s\n",
      "308:\tlearn: 0.6461057\ttotal: 15.8s\tremaining: 35.4s\n",
      "309:\tlearn: 0.6458626\ttotal: 15.9s\tremaining: 35.4s\n",
      "310:\tlearn: 0.6457637\ttotal: 15.9s\tremaining: 35.3s\n",
      "311:\tlearn: 0.6456687\ttotal: 16s\tremaining: 35.2s\n",
      "312:\tlearn: 0.6455944\ttotal: 16.1s\tremaining: 35.3s\n",
      "313:\tlearn: 0.6454196\ttotal: 16.1s\tremaining: 35.2s\n",
      "314:\tlearn: 0.6452664\ttotal: 16.1s\tremaining: 35.1s\n",
      "315:\tlearn: 0.6451451\ttotal: 16.2s\tremaining: 35s\n",
      "316:\tlearn: 0.6448492\ttotal: 16.2s\tremaining: 34.9s\n",
      "317:\tlearn: 0.6445430\ttotal: 16.3s\tremaining: 34.9s\n",
      "318:\tlearn: 0.6444697\ttotal: 16.3s\tremaining: 34.8s\n",
      "319:\tlearn: 0.6443769\ttotal: 16.3s\tremaining: 34.6s\n",
      "320:\tlearn: 0.6442446\ttotal: 16.4s\tremaining: 34.7s\n",
      "321:\tlearn: 0.6441108\ttotal: 16.4s\tremaining: 34.6s\n",
      "322:\tlearn: 0.6438886\ttotal: 16.5s\tremaining: 34.5s\n"
     ]
    },
    {
     "name": "stdout",
     "output_type": "stream",
     "text": [
      "323:\tlearn: 0.6435657\ttotal: 16.5s\tremaining: 34.5s\n",
      "324:\tlearn: 0.6434892\ttotal: 16.5s\tremaining: 34.4s\n",
      "325:\tlearn: 0.6434000\ttotal: 16.6s\tremaining: 34.3s\n",
      "326:\tlearn: 0.6431275\ttotal: 16.6s\tremaining: 34.3s\n",
      "327:\tlearn: 0.6429976\ttotal: 16.7s\tremaining: 34.2s\n",
      "328:\tlearn: 0.6429217\ttotal: 16.7s\tremaining: 34s\n",
      "329:\tlearn: 0.6428348\ttotal: 16.8s\tremaining: 34.1s\n",
      "330:\tlearn: 0.6425802\ttotal: 16.8s\tremaining: 34s\n",
      "331:\tlearn: 0.6424714\ttotal: 16.9s\tremaining: 33.9s\n",
      "332:\tlearn: 0.6423374\ttotal: 16.9s\tremaining: 33.8s\n",
      "333:\tlearn: 0.6422635\ttotal: 17s\tremaining: 33.8s\n",
      "334:\tlearn: 0.6420589\ttotal: 17s\tremaining: 33.7s\n",
      "335:\tlearn: 0.6419954\ttotal: 17s\tremaining: 33.6s\n",
      "336:\tlearn: 0.6419139\ttotal: 17s\tremaining: 33.5s\n",
      "337:\tlearn: 0.6418191\ttotal: 17.1s\tremaining: 33.4s\n",
      "338:\tlearn: 0.6416827\ttotal: 17.1s\tremaining: 33.4s\n",
      "339:\tlearn: 0.6415072\ttotal: 17.2s\tremaining: 33.3s\n",
      "340:\tlearn: 0.6414219\ttotal: 17.2s\tremaining: 33.2s\n",
      "341:\tlearn: 0.6413223\ttotal: 17.2s\tremaining: 33.1s\n",
      "342:\tlearn: 0.6411345\ttotal: 17.3s\tremaining: 33s\n",
      "343:\tlearn: 0.6410195\ttotal: 17.3s\tremaining: 33s\n",
      "344:\tlearn: 0.6408062\ttotal: 17.4s\tremaining: 33s\n",
      "345:\tlearn: 0.6407495\ttotal: 17.4s\tremaining: 32.9s\n",
      "346:\tlearn: 0.6406246\ttotal: 17.5s\tremaining: 32.8s\n",
      "347:\tlearn: 0.6404663\ttotal: 17.6s\tremaining: 32.9s\n",
      "348:\tlearn: 0.6403346\ttotal: 17.6s\tremaining: 32.8s\n",
      "349:\tlearn: 0.6401776\ttotal: 17.6s\tremaining: 32.7s\n",
      "350:\tlearn: 0.6400483\ttotal: 17.7s\tremaining: 32.6s\n",
      "351:\tlearn: 0.6397854\ttotal: 17.8s\tremaining: 32.7s\n",
      "352:\tlearn: 0.6396999\ttotal: 17.8s\tremaining: 32.6s\n",
      "353:\tlearn: 0.6395136\ttotal: 17.8s\tremaining: 32.6s\n",
      "354:\tlearn: 0.6393116\ttotal: 17.9s\tremaining: 32.6s\n",
      "355:\tlearn: 0.6390992\ttotal: 18s\tremaining: 32.5s\n",
      "356:\tlearn: 0.6389990\ttotal: 18s\tremaining: 32.4s\n",
      "357:\tlearn: 0.6389201\ttotal: 18s\tremaining: 32.3s\n",
      "358:\tlearn: 0.6386128\ttotal: 18.1s\tremaining: 32.3s\n",
      "359:\tlearn: 0.6384155\ttotal: 18.2s\tremaining: 32.3s\n",
      "360:\tlearn: 0.6382841\ttotal: 18.2s\tremaining: 32.2s\n",
      "361:\tlearn: 0.6381950\ttotal: 18.2s\tremaining: 32.1s\n",
      "362:\tlearn: 0.6380903\ttotal: 18.3s\tremaining: 32s\n",
      "363:\tlearn: 0.6378025\ttotal: 18.3s\tremaining: 32s\n",
      "364:\tlearn: 0.6375471\ttotal: 18.4s\tremaining: 32s\n",
      "365:\tlearn: 0.6373027\ttotal: 18.5s\tremaining: 32s\n",
      "366:\tlearn: 0.6371687\ttotal: 18.5s\tremaining: 31.9s\n",
      "367:\tlearn: 0.6369510\ttotal: 18.6s\tremaining: 31.9s\n",
      "368:\tlearn: 0.6367701\ttotal: 18.6s\tremaining: 31.8s\n",
      "369:\tlearn: 0.6366896\ttotal: 18.6s\tremaining: 31.7s\n",
      "370:\tlearn: 0.6365668\ttotal: 18.7s\tremaining: 31.6s\n",
      "371:\tlearn: 0.6362902\ttotal: 18.7s\tremaining: 31.5s\n",
      "372:\tlearn: 0.6360413\ttotal: 18.8s\tremaining: 31.5s\n",
      "373:\tlearn: 0.6359713\ttotal: 18.8s\tremaining: 31.5s\n",
      "374:\tlearn: 0.6359063\ttotal: 18.8s\tremaining: 31.4s\n",
      "375:\tlearn: 0.6357578\ttotal: 18.9s\tremaining: 31.3s\n",
      "376:\tlearn: 0.6356846\ttotal: 19s\tremaining: 31.4s\n",
      "377:\tlearn: 0.6356030\ttotal: 19s\tremaining: 31.3s\n",
      "378:\tlearn: 0.6355074\ttotal: 19.1s\tremaining: 31.3s\n",
      "379:\tlearn: 0.6353737\ttotal: 19.1s\tremaining: 31.2s\n",
      "380:\tlearn: 0.6352534\ttotal: 19.2s\tremaining: 31.2s\n",
      "381:\tlearn: 0.6351953\ttotal: 19.2s\tremaining: 31.1s\n",
      "382:\tlearn: 0.6349444\ttotal: 19.2s\tremaining: 31s\n",
      "383:\tlearn: 0.6347945\ttotal: 19.3s\tremaining: 31s\n",
      "384:\tlearn: 0.6347279\ttotal: 19.4s\tremaining: 30.9s\n",
      "385:\tlearn: 0.6345437\ttotal: 19.4s\tremaining: 30.8s\n",
      "386:\tlearn: 0.6343403\ttotal: 19.4s\tremaining: 30.7s\n",
      "387:\tlearn: 0.6342491\ttotal: 19.5s\tremaining: 30.8s\n",
      "388:\tlearn: 0.6342233\ttotal: 19.6s\tremaining: 30.7s\n",
      "389:\tlearn: 0.6339785\ttotal: 19.6s\tremaining: 30.6s\n",
      "390:\tlearn: 0.6338384\ttotal: 19.6s\tremaining: 30.6s\n",
      "391:\tlearn: 0.6337435\ttotal: 19.7s\tremaining: 30.6s\n",
      "392:\tlearn: 0.6336434\ttotal: 19.7s\tremaining: 30.5s\n",
      "393:\tlearn: 0.6334156\ttotal: 19.8s\tremaining: 30.5s\n",
      "394:\tlearn: 0.6333372\ttotal: 19.9s\tremaining: 30.5s\n",
      "395:\tlearn: 0.6332181\ttotal: 19.9s\tremaining: 30.4s\n",
      "396:\tlearn: 0.6330073\ttotal: 20s\tremaining: 30.3s\n",
      "397:\tlearn: 0.6328706\ttotal: 20.1s\tremaining: 30.4s\n",
      "398:\tlearn: 0.6327486\ttotal: 20.1s\tremaining: 30.3s\n",
      "399:\tlearn: 0.6326092\ttotal: 20.1s\tremaining: 30.2s\n",
      "400:\tlearn: 0.6325341\ttotal: 20.2s\tremaining: 30.1s\n",
      "401:\tlearn: 0.6324074\ttotal: 20.3s\tremaining: 30.2s\n",
      "402:\tlearn: 0.6323141\ttotal: 20.3s\tremaining: 30.1s\n",
      "403:\tlearn: 0.6321943\ttotal: 20.4s\tremaining: 30s\n",
      "404:\tlearn: 0.6321026\ttotal: 20.4s\tremaining: 30s\n",
      "405:\tlearn: 0.6318938\ttotal: 20.5s\tremaining: 30s\n",
      "406:\tlearn: 0.6318174\ttotal: 20.5s\tremaining: 29.9s\n",
      "407:\tlearn: 0.6317587\ttotal: 20.6s\tremaining: 29.9s\n",
      "408:\tlearn: 0.6316366\ttotal: 20.6s\tremaining: 29.8s\n",
      "409:\tlearn: 0.6315527\ttotal: 20.7s\tremaining: 29.7s\n",
      "410:\tlearn: 0.6314144\ttotal: 20.7s\tremaining: 29.6s\n",
      "411:\tlearn: 0.6313396\ttotal: 20.8s\tremaining: 29.6s\n",
      "412:\tlearn: 0.6311960\ttotal: 20.8s\tremaining: 29.6s\n",
      "413:\tlearn: 0.6310745\ttotal: 20.8s\tremaining: 29.5s\n",
      "414:\tlearn: 0.6309472\ttotal: 20.9s\tremaining: 29.4s\n",
      "415:\tlearn: 0.6308273\ttotal: 21s\tremaining: 29.5s\n",
      "416:\tlearn: 0.6306160\ttotal: 21.1s\tremaining: 29.5s\n",
      "417:\tlearn: 0.6303507\ttotal: 21.2s\tremaining: 29.5s\n",
      "418:\tlearn: 0.6301927\ttotal: 21.2s\tremaining: 29.5s\n",
      "419:\tlearn: 0.6299417\ttotal: 21.3s\tremaining: 29.4s\n",
      "420:\tlearn: 0.6298823\ttotal: 21.3s\tremaining: 29.3s\n",
      "421:\tlearn: 0.6298095\ttotal: 21.3s\tremaining: 29.2s\n",
      "422:\tlearn: 0.6296996\ttotal: 21.4s\tremaining: 29.2s\n",
      "423:\tlearn: 0.6296168\ttotal: 21.5s\tremaining: 29.2s\n",
      "424:\tlearn: 0.6293974\ttotal: 21.5s\tremaining: 29.1s\n",
      "425:\tlearn: 0.6291886\ttotal: 21.7s\tremaining: 29.2s\n",
      "426:\tlearn: 0.6290743\ttotal: 21.7s\tremaining: 29.1s\n",
      "427:\tlearn: 0.6288173\ttotal: 21.7s\tremaining: 29s\n",
      "428:\tlearn: 0.6286649\ttotal: 21.8s\tremaining: 29s\n",
      "429:\tlearn: 0.6285148\ttotal: 21.9s\tremaining: 29s\n",
      "430:\tlearn: 0.6282783\ttotal: 21.9s\tremaining: 28.9s\n",
      "431:\tlearn: 0.6281746\ttotal: 22.1s\tremaining: 29s\n",
      "432:\tlearn: 0.6279946\ttotal: 22.1s\tremaining: 28.9s\n",
      "433:\tlearn: 0.6277658\ttotal: 22.2s\tremaining: 29s\n",
      "434:\tlearn: 0.6276960\ttotal: 22.3s\tremaining: 28.9s\n",
      "435:\tlearn: 0.6276093\ttotal: 22.3s\tremaining: 28.9s\n",
      "436:\tlearn: 0.6275365\ttotal: 22.4s\tremaining: 28.9s\n",
      "437:\tlearn: 0.6274586\ttotal: 22.5s\tremaining: 28.8s\n",
      "438:\tlearn: 0.6272809\ttotal: 22.5s\tremaining: 28.7s\n",
      "439:\tlearn: 0.6272146\ttotal: 22.5s\tremaining: 28.7s\n",
      "440:\tlearn: 0.6271418\ttotal: 22.7s\tremaining: 28.7s\n",
      "441:\tlearn: 0.6269927\ttotal: 22.7s\tremaining: 28.6s\n",
      "442:\tlearn: 0.6267543\ttotal: 22.7s\tremaining: 28.6s\n",
      "443:\tlearn: 0.6265588\ttotal: 22.8s\tremaining: 28.5s\n",
      "444:\tlearn: 0.6263143\ttotal: 22.9s\tremaining: 28.5s\n",
      "445:\tlearn: 0.6262439\ttotal: 22.9s\tremaining: 28.5s\n",
      "446:\tlearn: 0.6260799\ttotal: 23.1s\tremaining: 28.5s\n",
      "447:\tlearn: 0.6259493\ttotal: 23.1s\tremaining: 28.5s\n",
      "448:\tlearn: 0.6259233\ttotal: 23.1s\tremaining: 28.4s\n",
      "449:\tlearn: 0.6258302\ttotal: 23.2s\tremaining: 28.4s\n",
      "450:\tlearn: 0.6255760\ttotal: 23.3s\tremaining: 28.4s\n",
      "451:\tlearn: 0.6255209\ttotal: 23.4s\tremaining: 28.4s\n",
      "452:\tlearn: 0.6254394\ttotal: 23.5s\tremaining: 28.3s\n",
      "453:\tlearn: 0.6253391\ttotal: 23.5s\tremaining: 28.3s\n",
      "454:\tlearn: 0.6252431\ttotal: 23.5s\tremaining: 28.2s\n",
      "455:\tlearn: 0.6250825\ttotal: 23.7s\tremaining: 28.3s\n",
      "456:\tlearn: 0.6250197\ttotal: 23.7s\tremaining: 28.2s\n",
      "457:\tlearn: 0.6248932\ttotal: 23.8s\tremaining: 28.2s\n",
      "458:\tlearn: 0.6247697\ttotal: 23.9s\tremaining: 28.1s\n",
      "459:\tlearn: 0.6246466\ttotal: 23.9s\tremaining: 28.1s\n",
      "460:\tlearn: 0.6245541\ttotal: 24s\tremaining: 28.1s\n",
      "461:\tlearn: 0.6244963\ttotal: 24.2s\tremaining: 28.2s\n",
      "462:\tlearn: 0.6243493\ttotal: 24.2s\tremaining: 28.1s\n",
      "463:\tlearn: 0.6242697\ttotal: 24.3s\tremaining: 28.1s\n",
      "464:\tlearn: 0.6242210\ttotal: 24.4s\tremaining: 28s\n",
      "465:\tlearn: 0.6241126\ttotal: 24.4s\tremaining: 28s\n",
      "466:\tlearn: 0.6240119\ttotal: 24.5s\tremaining: 28s\n",
      "467:\tlearn: 0.6238618\ttotal: 24.5s\tremaining: 27.9s\n",
      "468:\tlearn: 0.6237302\ttotal: 24.6s\tremaining: 27.8s\n",
      "469:\tlearn: 0.6236223\ttotal: 24.6s\tremaining: 27.8s\n",
      "470:\tlearn: 0.6235841\ttotal: 24.8s\tremaining: 27.8s\n",
      "471:\tlearn: 0.6233731\ttotal: 24.8s\tremaining: 27.7s\n",
      "472:\tlearn: 0.6232942\ttotal: 24.9s\tremaining: 27.7s\n",
      "473:\tlearn: 0.6231258\ttotal: 25s\tremaining: 27.7s\n",
      "474:\tlearn: 0.6230469\ttotal: 25s\tremaining: 27.6s\n",
      "475:\tlearn: 0.6228644\ttotal: 25s\tremaining: 27.6s\n",
      "476:\tlearn: 0.6227841\ttotal: 25.1s\tremaining: 27.5s\n",
      "477:\tlearn: 0.6227111\ttotal: 25.1s\tremaining: 27.4s\n",
      "478:\tlearn: 0.6226429\ttotal: 25.2s\tremaining: 27.4s\n",
      "479:\tlearn: 0.6224481\ttotal: 25.3s\tremaining: 27.4s\n",
      "480:\tlearn: 0.6222712\ttotal: 25.4s\tremaining: 27.4s\n",
      "481:\tlearn: 0.6221167\ttotal: 25.4s\tremaining: 27.3s\n",
      "482:\tlearn: 0.6219457\ttotal: 25.5s\tremaining: 27.3s\n"
     ]
    },
    {
     "name": "stdout",
     "output_type": "stream",
     "text": [
      "483:\tlearn: 0.6217825\ttotal: 25.6s\tremaining: 27.3s\n",
      "484:\tlearn: 0.6216893\ttotal: 25.6s\tremaining: 27.2s\n",
      "485:\tlearn: 0.6215072\ttotal: 25.7s\tremaining: 27.1s\n",
      "486:\tlearn: 0.6212967\ttotal: 25.7s\tremaining: 27.1s\n",
      "487:\tlearn: 0.6211476\ttotal: 25.8s\tremaining: 27s\n",
      "488:\tlearn: 0.6210375\ttotal: 25.8s\tremaining: 27s\n",
      "489:\tlearn: 0.6208592\ttotal: 25.8s\tremaining: 26.9s\n",
      "490:\tlearn: 0.6206050\ttotal: 25.9s\tremaining: 26.8s\n",
      "491:\tlearn: 0.6205498\ttotal: 25.9s\tremaining: 26.7s\n",
      "492:\tlearn: 0.6204444\ttotal: 26s\tremaining: 26.7s\n",
      "493:\tlearn: 0.6203638\ttotal: 26s\tremaining: 26.6s\n",
      "494:\tlearn: 0.6202891\ttotal: 26s\tremaining: 26.6s\n",
      "495:\tlearn: 0.6202072\ttotal: 26.1s\tremaining: 26.5s\n",
      "496:\tlearn: 0.6200822\ttotal: 26.1s\tremaining: 26.4s\n",
      "497:\tlearn: 0.6199533\ttotal: 26.2s\tremaining: 26.4s\n",
      "498:\tlearn: 0.6198607\ttotal: 26.2s\tremaining: 26.3s\n",
      "499:\tlearn: 0.6197404\ttotal: 26.2s\tremaining: 26.2s\n",
      "500:\tlearn: 0.6195877\ttotal: 26.3s\tremaining: 26.2s\n",
      "501:\tlearn: 0.6194424\ttotal: 26.4s\tremaining: 26.1s\n",
      "502:\tlearn: 0.6193173\ttotal: 26.4s\tremaining: 26.1s\n",
      "503:\tlearn: 0.6192488\ttotal: 26.4s\tremaining: 26s\n",
      "504:\tlearn: 0.6190860\ttotal: 26.4s\tremaining: 25.9s\n",
      "505:\tlearn: 0.6189582\ttotal: 26.5s\tremaining: 25.9s\n",
      "506:\tlearn: 0.6188872\ttotal: 26.5s\tremaining: 25.8s\n",
      "507:\tlearn: 0.6187713\ttotal: 26.5s\tremaining: 25.7s\n",
      "508:\tlearn: 0.6186349\ttotal: 26.6s\tremaining: 25.6s\n",
      "509:\tlearn: 0.6184369\ttotal: 26.6s\tremaining: 25.5s\n",
      "510:\tlearn: 0.6183181\ttotal: 26.6s\tremaining: 25.5s\n",
      "511:\tlearn: 0.6181539\ttotal: 26.6s\tremaining: 25.4s\n",
      "512:\tlearn: 0.6180916\ttotal: 26.7s\tremaining: 25.3s\n",
      "513:\tlearn: 0.6180319\ttotal: 26.7s\tremaining: 25.3s\n",
      "514:\tlearn: 0.6179730\ttotal: 26.7s\tremaining: 25.2s\n",
      "515:\tlearn: 0.6178436\ttotal: 26.8s\tremaining: 25.1s\n",
      "516:\tlearn: 0.6177012\ttotal: 26.8s\tremaining: 25s\n",
      "517:\tlearn: 0.6175593\ttotal: 26.8s\tremaining: 24.9s\n",
      "518:\tlearn: 0.6175025\ttotal: 26.9s\tremaining: 24.9s\n",
      "519:\tlearn: 0.6173737\ttotal: 26.9s\tremaining: 24.8s\n",
      "520:\tlearn: 0.6172720\ttotal: 26.9s\tremaining: 24.8s\n",
      "521:\tlearn: 0.6172034\ttotal: 27s\tremaining: 24.7s\n",
      "522:\tlearn: 0.6170127\ttotal: 27s\tremaining: 24.6s\n",
      "523:\tlearn: 0.6167666\ttotal: 27s\tremaining: 24.5s\n",
      "524:\tlearn: 0.6166784\ttotal: 27s\tremaining: 24.5s\n",
      "525:\tlearn: 0.6166006\ttotal: 27.1s\tremaining: 24.4s\n",
      "526:\tlearn: 0.6164506\ttotal: 27.2s\tremaining: 24.4s\n",
      "527:\tlearn: 0.6163461\ttotal: 27.3s\tremaining: 24.4s\n",
      "528:\tlearn: 0.6161386\ttotal: 27.3s\tremaining: 24.3s\n",
      "529:\tlearn: 0.6159273\ttotal: 27.3s\tremaining: 24.2s\n",
      "530:\tlearn: 0.6156826\ttotal: 27.4s\tremaining: 24.2s\n",
      "531:\tlearn: 0.6156189\ttotal: 27.4s\tremaining: 24.1s\n",
      "532:\tlearn: 0.6155512\ttotal: 27.5s\tremaining: 24.1s\n",
      "533:\tlearn: 0.6154896\ttotal: 27.5s\tremaining: 24s\n",
      "534:\tlearn: 0.6152925\ttotal: 27.5s\tremaining: 23.9s\n",
      "535:\tlearn: 0.6152017\ttotal: 27.5s\tremaining: 23.8s\n",
      "536:\tlearn: 0.6150598\ttotal: 27.6s\tremaining: 23.8s\n",
      "537:\tlearn: 0.6149367\ttotal: 27.6s\tremaining: 23.7s\n",
      "538:\tlearn: 0.6148200\ttotal: 27.7s\tremaining: 23.7s\n",
      "539:\tlearn: 0.6146941\ttotal: 27.7s\tremaining: 23.6s\n",
      "540:\tlearn: 0.6146046\ttotal: 27.7s\tremaining: 23.5s\n",
      "541:\tlearn: 0.6145144\ttotal: 27.7s\tremaining: 23.4s\n",
      "542:\tlearn: 0.6143948\ttotal: 27.8s\tremaining: 23.4s\n",
      "543:\tlearn: 0.6142889\ttotal: 27.9s\tremaining: 23.4s\n",
      "544:\tlearn: 0.6141633\ttotal: 27.9s\tremaining: 23.3s\n",
      "545:\tlearn: 0.6140132\ttotal: 27.9s\tremaining: 23.2s\n",
      "546:\tlearn: 0.6139741\ttotal: 28s\tremaining: 23.2s\n",
      "547:\tlearn: 0.6138063\ttotal: 28.1s\tremaining: 23.2s\n",
      "548:\tlearn: 0.6136584\ttotal: 28.1s\tremaining: 23.1s\n",
      "549:\tlearn: 0.6134768\ttotal: 28.2s\tremaining: 23.1s\n",
      "550:\tlearn: 0.6133990\ttotal: 28.3s\tremaining: 23s\n",
      "551:\tlearn: 0.6132634\ttotal: 28.3s\tremaining: 23s\n",
      "552:\tlearn: 0.6131617\ttotal: 28.4s\tremaining: 23s\n",
      "553:\tlearn: 0.6130753\ttotal: 28.4s\tremaining: 22.9s\n",
      "554:\tlearn: 0.6130054\ttotal: 28.5s\tremaining: 22.8s\n",
      "555:\tlearn: 0.6128732\ttotal: 28.5s\tremaining: 22.8s\n",
      "556:\tlearn: 0.6128321\ttotal: 28.6s\tremaining: 22.7s\n",
      "557:\tlearn: 0.6126598\ttotal: 28.6s\tremaining: 22.7s\n",
      "558:\tlearn: 0.6125346\ttotal: 28.7s\tremaining: 22.6s\n",
      "559:\tlearn: 0.6124470\ttotal: 28.7s\tremaining: 22.6s\n",
      "560:\tlearn: 0.6123204\ttotal: 28.8s\tremaining: 22.5s\n",
      "561:\tlearn: 0.6121794\ttotal: 28.8s\tremaining: 22.5s\n",
      "562:\tlearn: 0.6121159\ttotal: 28.8s\tremaining: 22.4s\n",
      "563:\tlearn: 0.6119882\ttotal: 28.9s\tremaining: 22.3s\n",
      "564:\tlearn: 0.6117761\ttotal: 28.9s\tremaining: 22.2s\n",
      "565:\tlearn: 0.6116208\ttotal: 28.9s\tremaining: 22.2s\n",
      "566:\tlearn: 0.6115069\ttotal: 28.9s\tremaining: 22.1s\n",
      "567:\tlearn: 0.6114377\ttotal: 29s\tremaining: 22s\n",
      "568:\tlearn: 0.6113875\ttotal: 29s\tremaining: 22s\n",
      "569:\tlearn: 0.6112689\ttotal: 29.1s\tremaining: 21.9s\n",
      "570:\tlearn: 0.6111495\ttotal: 29.1s\tremaining: 21.9s\n",
      "571:\tlearn: 0.6110366\ttotal: 29.1s\tremaining: 21.8s\n",
      "572:\tlearn: 0.6109001\ttotal: 29.2s\tremaining: 21.8s\n",
      "573:\tlearn: 0.6107853\ttotal: 29.2s\tremaining: 21.7s\n",
      "574:\tlearn: 0.6106926\ttotal: 29.3s\tremaining: 21.6s\n",
      "575:\tlearn: 0.6105235\ttotal: 29.3s\tremaining: 21.6s\n",
      "576:\tlearn: 0.6103845\ttotal: 29.4s\tremaining: 21.5s\n",
      "577:\tlearn: 0.6102768\ttotal: 29.4s\tremaining: 21.5s\n",
      "578:\tlearn: 0.6102103\ttotal: 29.4s\tremaining: 21.4s\n",
      "579:\tlearn: 0.6101707\ttotal: 29.4s\tremaining: 21.3s\n",
      "580:\tlearn: 0.6101044\ttotal: 29.5s\tremaining: 21.3s\n",
      "581:\tlearn: 0.6098790\ttotal: 29.6s\tremaining: 21.3s\n",
      "582:\tlearn: 0.6097978\ttotal: 29.6s\tremaining: 21.2s\n",
      "583:\tlearn: 0.6096511\ttotal: 29.7s\tremaining: 21.2s\n",
      "584:\tlearn: 0.6096130\ttotal: 29.8s\tremaining: 21.1s\n",
      "585:\tlearn: 0.6094606\ttotal: 29.8s\tremaining: 21.1s\n",
      "586:\tlearn: 0.6093921\ttotal: 29.8s\tremaining: 21s\n",
      "587:\tlearn: 0.6093294\ttotal: 29.8s\tremaining: 20.9s\n",
      "588:\tlearn: 0.6091499\ttotal: 30s\tremaining: 20.9s\n",
      "589:\tlearn: 0.6090996\ttotal: 30s\tremaining: 20.8s\n",
      "590:\tlearn: 0.6090383\ttotal: 30.1s\tremaining: 20.8s\n",
      "591:\tlearn: 0.6089456\ttotal: 30.2s\tremaining: 20.8s\n",
      "592:\tlearn: 0.6087941\ttotal: 30.2s\tremaining: 20.7s\n",
      "593:\tlearn: 0.6087392\ttotal: 30.2s\tremaining: 20.7s\n",
      "594:\tlearn: 0.6086580\ttotal: 30.3s\tremaining: 20.7s\n",
      "595:\tlearn: 0.6085374\ttotal: 30.4s\tremaining: 20.6s\n",
      "596:\tlearn: 0.6084570\ttotal: 30.4s\tremaining: 20.5s\n",
      "597:\tlearn: 0.6083489\ttotal: 30.4s\tremaining: 20.5s\n",
      "598:\tlearn: 0.6082652\ttotal: 30.4s\tremaining: 20.4s\n",
      "599:\tlearn: 0.6081754\ttotal: 30.5s\tremaining: 20.3s\n",
      "600:\tlearn: 0.6080711\ttotal: 30.5s\tremaining: 20.3s\n",
      "601:\tlearn: 0.6079492\ttotal: 30.6s\tremaining: 20.2s\n",
      "602:\tlearn: 0.6077744\ttotal: 30.6s\tremaining: 20.1s\n",
      "603:\tlearn: 0.6076443\ttotal: 30.6s\tremaining: 20.1s\n",
      "604:\tlearn: 0.6075404\ttotal: 30.6s\tremaining: 20s\n",
      "605:\tlearn: 0.6074500\ttotal: 30.7s\tremaining: 20s\n",
      "606:\tlearn: 0.6073500\ttotal: 30.8s\tremaining: 19.9s\n",
      "607:\tlearn: 0.6071624\ttotal: 30.8s\tremaining: 19.9s\n",
      "608:\tlearn: 0.6069767\ttotal: 30.8s\tremaining: 19.8s\n",
      "609:\tlearn: 0.6069189\ttotal: 30.9s\tremaining: 19.7s\n",
      "610:\tlearn: 0.6068204\ttotal: 31s\tremaining: 19.7s\n",
      "611:\tlearn: 0.6067912\ttotal: 31s\tremaining: 19.6s\n",
      "612:\tlearn: 0.6065893\ttotal: 31s\tremaining: 19.6s\n",
      "613:\tlearn: 0.6063822\ttotal: 31.1s\tremaining: 19.6s\n",
      "614:\tlearn: 0.6062703\ttotal: 31.2s\tremaining: 19.5s\n",
      "615:\tlearn: 0.6062244\ttotal: 31.2s\tremaining: 19.4s\n",
      "616:\tlearn: 0.6061510\ttotal: 31.2s\tremaining: 19.4s\n",
      "617:\tlearn: 0.6060848\ttotal: 31.3s\tremaining: 19.3s\n",
      "618:\tlearn: 0.6060150\ttotal: 31.3s\tremaining: 19.3s\n",
      "619:\tlearn: 0.6059116\ttotal: 31.3s\tremaining: 19.2s\n",
      "620:\tlearn: 0.6057763\ttotal: 31.4s\tremaining: 19.1s\n",
      "621:\tlearn: 0.6056486\ttotal: 31.5s\tremaining: 19.1s\n",
      "622:\tlearn: 0.6055072\ttotal: 31.5s\tremaining: 19.1s\n",
      "623:\tlearn: 0.6054512\ttotal: 31.5s\tremaining: 19s\n",
      "624:\tlearn: 0.6053587\ttotal: 31.5s\tremaining: 18.9s\n",
      "625:\tlearn: 0.6052459\ttotal: 31.6s\tremaining: 18.9s\n",
      "626:\tlearn: 0.6051078\ttotal: 31.6s\tremaining: 18.8s\n",
      "627:\tlearn: 0.6049728\ttotal: 31.7s\tremaining: 18.8s\n",
      "628:\tlearn: 0.6048991\ttotal: 31.7s\tremaining: 18.7s\n",
      "629:\tlearn: 0.6047811\ttotal: 31.7s\tremaining: 18.6s\n",
      "630:\tlearn: 0.6047044\ttotal: 31.7s\tremaining: 18.6s\n",
      "631:\tlearn: 0.6046605\ttotal: 31.8s\tremaining: 18.5s\n",
      "632:\tlearn: 0.6045086\ttotal: 31.9s\tremaining: 18.5s\n",
      "633:\tlearn: 0.6044628\ttotal: 31.9s\tremaining: 18.4s\n",
      "634:\tlearn: 0.6043814\ttotal: 31.9s\tremaining: 18.4s\n",
      "635:\tlearn: 0.6043159\ttotal: 32s\tremaining: 18.3s\n",
      "636:\tlearn: 0.6041115\ttotal: 32.1s\tremaining: 18.3s\n",
      "637:\tlearn: 0.6039938\ttotal: 32.1s\tremaining: 18.2s\n",
      "638:\tlearn: 0.6038135\ttotal: 32.1s\tremaining: 18.1s\n",
      "639:\tlearn: 0.6037266\ttotal: 32.2s\tremaining: 18.1s\n",
      "640:\tlearn: 0.6036754\ttotal: 32.2s\tremaining: 18.1s\n",
      "641:\tlearn: 0.6035650\ttotal: 32.3s\tremaining: 18s\n",
      "642:\tlearn: 0.6033702\ttotal: 32.3s\tremaining: 17.9s\n"
     ]
    },
    {
     "name": "stdout",
     "output_type": "stream",
     "text": [
      "643:\tlearn: 0.6033178\ttotal: 32.4s\tremaining: 17.9s\n",
      "644:\tlearn: 0.6031426\ttotal: 32.5s\tremaining: 17.9s\n",
      "645:\tlearn: 0.6029551\ttotal: 32.5s\tremaining: 17.8s\n",
      "646:\tlearn: 0.6028283\ttotal: 32.5s\tremaining: 17.7s\n",
      "647:\tlearn: 0.6027342\ttotal: 32.5s\tremaining: 17.7s\n",
      "648:\tlearn: 0.6026910\ttotal: 32.5s\tremaining: 17.6s\n",
      "649:\tlearn: 0.6025239\ttotal: 32.6s\tremaining: 17.5s\n",
      "650:\tlearn: 0.6024773\ttotal: 32.6s\tremaining: 17.5s\n",
      "651:\tlearn: 0.6024225\ttotal: 32.6s\tremaining: 17.4s\n",
      "652:\tlearn: 0.6022602\ttotal: 32.7s\tremaining: 17.4s\n",
      "653:\tlearn: 0.6021924\ttotal: 32.7s\tremaining: 17.3s\n",
      "654:\tlearn: 0.6021499\ttotal: 32.8s\tremaining: 17.3s\n",
      "655:\tlearn: 0.6020570\ttotal: 32.8s\tremaining: 17.2s\n",
      "656:\tlearn: 0.6019415\ttotal: 32.8s\tremaining: 17.1s\n",
      "657:\tlearn: 0.6018442\ttotal: 32.8s\tremaining: 17.1s\n",
      "658:\tlearn: 0.6016444\ttotal: 32.9s\tremaining: 17s\n",
      "659:\tlearn: 0.6016047\ttotal: 32.9s\tremaining: 17s\n",
      "660:\tlearn: 0.6015406\ttotal: 33s\tremaining: 16.9s\n",
      "661:\tlearn: 0.6014677\ttotal: 33s\tremaining: 16.8s\n",
      "662:\tlearn: 0.6012630\ttotal: 33s\tremaining: 16.8s\n",
      "663:\tlearn: 0.6010728\ttotal: 33s\tremaining: 16.7s\n",
      "664:\tlearn: 0.6009076\ttotal: 33.1s\tremaining: 16.7s\n",
      "665:\tlearn: 0.6008122\ttotal: 33.2s\tremaining: 16.6s\n",
      "666:\tlearn: 0.6007556\ttotal: 33.2s\tremaining: 16.6s\n",
      "667:\tlearn: 0.6006980\ttotal: 33.2s\tremaining: 16.5s\n",
      "668:\tlearn: 0.6005779\ttotal: 33.3s\tremaining: 16.5s\n",
      "669:\tlearn: 0.6005019\ttotal: 33.3s\tremaining: 16.4s\n",
      "670:\tlearn: 0.6003695\ttotal: 33.3s\tremaining: 16.3s\n",
      "671:\tlearn: 0.6001892\ttotal: 33.4s\tremaining: 16.3s\n",
      "672:\tlearn: 0.6001098\ttotal: 33.4s\tremaining: 16.2s\n",
      "673:\tlearn: 0.6000496\ttotal: 33.4s\tremaining: 16.2s\n",
      "674:\tlearn: 0.5999212\ttotal: 33.5s\tremaining: 16.1s\n",
      "675:\tlearn: 0.5998303\ttotal: 33.5s\tremaining: 16.1s\n",
      "676:\tlearn: 0.5997612\ttotal: 33.5s\tremaining: 16s\n",
      "677:\tlearn: 0.5996379\ttotal: 33.5s\tremaining: 15.9s\n",
      "678:\tlearn: 0.5994872\ttotal: 33.6s\tremaining: 15.9s\n",
      "679:\tlearn: 0.5994265\ttotal: 33.6s\tremaining: 15.8s\n",
      "680:\tlearn: 0.5993053\ttotal: 33.7s\tremaining: 15.8s\n",
      "681:\tlearn: 0.5991130\ttotal: 33.7s\tremaining: 15.7s\n",
      "682:\tlearn: 0.5990174\ttotal: 33.7s\tremaining: 15.7s\n",
      "683:\tlearn: 0.5989481\ttotal: 33.8s\tremaining: 15.6s\n",
      "684:\tlearn: 0.5989012\ttotal: 33.8s\tremaining: 15.6s\n",
      "685:\tlearn: 0.5988273\ttotal: 33.9s\tremaining: 15.5s\n",
      "686:\tlearn: 0.5986599\ttotal: 33.9s\tremaining: 15.5s\n",
      "687:\tlearn: 0.5985829\ttotal: 34s\tremaining: 15.4s\n",
      "688:\tlearn: 0.5984677\ttotal: 34s\tremaining: 15.4s\n",
      "689:\tlearn: 0.5983152\ttotal: 34s\tremaining: 15.3s\n",
      "690:\tlearn: 0.5982345\ttotal: 34.1s\tremaining: 15.2s\n",
      "691:\tlearn: 0.5981815\ttotal: 34.1s\tremaining: 15.2s\n",
      "692:\tlearn: 0.5981115\ttotal: 34.1s\tremaining: 15.1s\n",
      "693:\tlearn: 0.5979639\ttotal: 34.1s\tremaining: 15.1s\n",
      "694:\tlearn: 0.5978776\ttotal: 34.2s\tremaining: 15s\n",
      "695:\tlearn: 0.5977976\ttotal: 34.2s\tremaining: 15s\n",
      "696:\tlearn: 0.5976322\ttotal: 34.3s\tremaining: 14.9s\n",
      "697:\tlearn: 0.5975273\ttotal: 34.3s\tremaining: 14.8s\n",
      "698:\tlearn: 0.5974984\ttotal: 34.3s\tremaining: 14.8s\n",
      "699:\tlearn: 0.5974282\ttotal: 34.3s\tremaining: 14.7s\n",
      "700:\tlearn: 0.5973768\ttotal: 34.4s\tremaining: 14.7s\n",
      "701:\tlearn: 0.5972869\ttotal: 34.4s\tremaining: 14.6s\n",
      "702:\tlearn: 0.5972500\ttotal: 34.4s\tremaining: 14.6s\n",
      "703:\tlearn: 0.5971764\ttotal: 34.5s\tremaining: 14.5s\n",
      "704:\tlearn: 0.5971340\ttotal: 34.5s\tremaining: 14.4s\n",
      "705:\tlearn: 0.5970365\ttotal: 34.5s\tremaining: 14.4s\n",
      "706:\tlearn: 0.5969956\ttotal: 34.5s\tremaining: 14.3s\n",
      "707:\tlearn: 0.5968706\ttotal: 34.6s\tremaining: 14.3s\n",
      "708:\tlearn: 0.5967669\ttotal: 34.6s\tremaining: 14.2s\n",
      "709:\tlearn: 0.5967045\ttotal: 34.7s\tremaining: 14.2s\n",
      "710:\tlearn: 0.5966356\ttotal: 34.7s\tremaining: 14.1s\n",
      "711:\tlearn: 0.5965031\ttotal: 34.7s\tremaining: 14s\n",
      "712:\tlearn: 0.5963467\ttotal: 34.7s\tremaining: 14s\n",
      "713:\tlearn: 0.5961195\ttotal: 34.9s\tremaining: 14s\n",
      "714:\tlearn: 0.5960758\ttotal: 34.9s\tremaining: 13.9s\n",
      "715:\tlearn: 0.5960196\ttotal: 35s\tremaining: 13.9s\n",
      "716:\tlearn: 0.5959527\ttotal: 35s\tremaining: 13.8s\n",
      "717:\tlearn: 0.5959099\ttotal: 35s\tremaining: 13.8s\n",
      "718:\tlearn: 0.5958445\ttotal: 35.1s\tremaining: 13.7s\n",
      "719:\tlearn: 0.5956297\ttotal: 35.1s\tremaining: 13.7s\n",
      "720:\tlearn: 0.5953821\ttotal: 35.2s\tremaining: 13.6s\n",
      "721:\tlearn: 0.5953006\ttotal: 35.2s\tremaining: 13.6s\n",
      "722:\tlearn: 0.5951982\ttotal: 35.3s\tremaining: 13.5s\n",
      "723:\tlearn: 0.5950931\ttotal: 35.3s\tremaining: 13.5s\n",
      "724:\tlearn: 0.5950143\ttotal: 35.4s\tremaining: 13.4s\n",
      "725:\tlearn: 0.5949874\ttotal: 35.4s\tremaining: 13.4s\n",
      "726:\tlearn: 0.5949263\ttotal: 35.4s\tremaining: 13.3s\n",
      "727:\tlearn: 0.5948738\ttotal: 35.5s\tremaining: 13.2s\n",
      "728:\tlearn: 0.5948119\ttotal: 35.5s\tremaining: 13.2s\n",
      "729:\tlearn: 0.5947394\ttotal: 35.5s\tremaining: 13.1s\n",
      "730:\tlearn: 0.5946328\ttotal: 35.6s\tremaining: 13.1s\n",
      "731:\tlearn: 0.5945273\ttotal: 35.6s\tremaining: 13s\n",
      "732:\tlearn: 0.5944439\ttotal: 35.6s\tremaining: 13s\n",
      "733:\tlearn: 0.5943626\ttotal: 35.6s\tremaining: 12.9s\n",
      "734:\tlearn: 0.5942795\ttotal: 35.7s\tremaining: 12.9s\n",
      "735:\tlearn: 0.5942005\ttotal: 35.7s\tremaining: 12.8s\n",
      "736:\tlearn: 0.5941479\ttotal: 35.7s\tremaining: 12.7s\n",
      "737:\tlearn: 0.5941089\ttotal: 35.7s\tremaining: 12.7s\n",
      "738:\tlearn: 0.5940271\ttotal: 35.8s\tremaining: 12.6s\n",
      "739:\tlearn: 0.5938912\ttotal: 35.8s\tremaining: 12.6s\n",
      "740:\tlearn: 0.5937883\ttotal: 35.8s\tremaining: 12.5s\n",
      "741:\tlearn: 0.5936910\ttotal: 35.9s\tremaining: 12.5s\n",
      "742:\tlearn: 0.5935513\ttotal: 36s\tremaining: 12.4s\n",
      "743:\tlearn: 0.5933851\ttotal: 36s\tremaining: 12.4s\n",
      "744:\tlearn: 0.5932957\ttotal: 36.4s\tremaining: 12.4s\n",
      "745:\tlearn: 0.5931603\ttotal: 36.4s\tremaining: 12.4s\n",
      "746:\tlearn: 0.5930291\ttotal: 36.5s\tremaining: 12.3s\n",
      "747:\tlearn: 0.5928846\ttotal: 36.5s\tremaining: 12.3s\n",
      "748:\tlearn: 0.5927815\ttotal: 36.5s\tremaining: 12.2s\n",
      "749:\tlearn: 0.5927259\ttotal: 36.6s\tremaining: 12.2s\n",
      "750:\tlearn: 0.5926690\ttotal: 36.6s\tremaining: 12.2s\n",
      "751:\tlearn: 0.5925978\ttotal: 36.7s\tremaining: 12.1s\n",
      "752:\tlearn: 0.5925060\ttotal: 36.8s\tremaining: 12.1s\n",
      "753:\tlearn: 0.5924233\ttotal: 36.8s\tremaining: 12s\n",
      "754:\tlearn: 0.5923266\ttotal: 36.9s\tremaining: 12s\n",
      "755:\tlearn: 0.5922328\ttotal: 37s\tremaining: 11.9s\n",
      "756:\tlearn: 0.5921479\ttotal: 37s\tremaining: 11.9s\n",
      "757:\tlearn: 0.5920729\ttotal: 37.1s\tremaining: 11.8s\n",
      "758:\tlearn: 0.5919783\ttotal: 37.1s\tremaining: 11.8s\n",
      "759:\tlearn: 0.5918957\ttotal: 37.1s\tremaining: 11.7s\n",
      "760:\tlearn: 0.5918382\ttotal: 37.2s\tremaining: 11.7s\n",
      "761:\tlearn: 0.5917849\ttotal: 37.3s\tremaining: 11.6s\n",
      "762:\tlearn: 0.5916337\ttotal: 37.3s\tremaining: 11.6s\n",
      "763:\tlearn: 0.5915067\ttotal: 37.5s\tremaining: 11.6s\n",
      "764:\tlearn: 0.5913111\ttotal: 37.5s\tremaining: 11.5s\n",
      "765:\tlearn: 0.5912199\ttotal: 37.5s\tremaining: 11.5s\n",
      "766:\tlearn: 0.5911214\ttotal: 37.6s\tremaining: 11.4s\n",
      "767:\tlearn: 0.5910089\ttotal: 37.6s\tremaining: 11.4s\n",
      "768:\tlearn: 0.5909396\ttotal: 37.6s\tremaining: 11.3s\n",
      "769:\tlearn: 0.5908688\ttotal: 37.6s\tremaining: 11.2s\n",
      "770:\tlearn: 0.5908044\ttotal: 37.7s\tremaining: 11.2s\n",
      "771:\tlearn: 0.5907097\ttotal: 37.8s\tremaining: 11.2s\n",
      "772:\tlearn: 0.5905640\ttotal: 37.8s\tremaining: 11.1s\n",
      "773:\tlearn: 0.5904481\ttotal: 37.9s\tremaining: 11.1s\n",
      "774:\tlearn: 0.5902887\ttotal: 38s\tremaining: 11s\n",
      "775:\tlearn: 0.5902260\ttotal: 38.1s\tremaining: 11s\n",
      "776:\tlearn: 0.5901476\ttotal: 38.1s\tremaining: 10.9s\n",
      "777:\tlearn: 0.5900941\ttotal: 38.2s\tremaining: 10.9s\n",
      "778:\tlearn: 0.5899970\ttotal: 38.2s\tremaining: 10.8s\n",
      "779:\tlearn: 0.5899320\ttotal: 38.3s\tremaining: 10.8s\n",
      "780:\tlearn: 0.5898754\ttotal: 38.4s\tremaining: 10.8s\n",
      "781:\tlearn: 0.5898336\ttotal: 38.4s\tremaining: 10.7s\n",
      "782:\tlearn: 0.5896865\ttotal: 38.5s\tremaining: 10.7s\n",
      "783:\tlearn: 0.5896229\ttotal: 38.6s\tremaining: 10.6s\n",
      "784:\tlearn: 0.5895702\ttotal: 38.6s\tremaining: 10.6s\n",
      "785:\tlearn: 0.5894590\ttotal: 38.7s\tremaining: 10.5s\n",
      "786:\tlearn: 0.5894019\ttotal: 38.9s\tremaining: 10.5s\n",
      "787:\tlearn: 0.5893393\ttotal: 38.9s\tremaining: 10.5s\n",
      "788:\tlearn: 0.5892466\ttotal: 39s\tremaining: 10.4s\n",
      "789:\tlearn: 0.5891727\ttotal: 39s\tremaining: 10.4s\n",
      "790:\tlearn: 0.5890729\ttotal: 39s\tremaining: 10.3s\n",
      "791:\tlearn: 0.5889416\ttotal: 39.1s\tremaining: 10.3s\n",
      "792:\tlearn: 0.5888718\ttotal: 39.2s\tremaining: 10.2s\n",
      "793:\tlearn: 0.5887060\ttotal: 39.2s\tremaining: 10.2s\n",
      "794:\tlearn: 0.5886253\ttotal: 39.2s\tremaining: 10.1s\n",
      "795:\tlearn: 0.5885369\ttotal: 39.4s\tremaining: 10.1s\n",
      "796:\tlearn: 0.5883895\ttotal: 39.4s\tremaining: 10s\n",
      "797:\tlearn: 0.5883491\ttotal: 39.4s\tremaining: 9.98s\n",
      "798:\tlearn: 0.5882757\ttotal: 39.5s\tremaining: 9.95s\n",
      "799:\tlearn: 0.5882155\ttotal: 39.6s\tremaining: 9.89s\n",
      "800:\tlearn: 0.5881535\ttotal: 39.6s\tremaining: 9.84s\n",
      "801:\tlearn: 0.5880930\ttotal: 39.8s\tremaining: 9.81s\n",
      "802:\tlearn: 0.5879852\ttotal: 39.8s\tremaining: 9.76s\n"
     ]
    },
    {
     "name": "stdout",
     "output_type": "stream",
     "text": [
      "803:\tlearn: 0.5878832\ttotal: 39.8s\tremaining: 9.71s\n",
      "804:\tlearn: 0.5876868\ttotal: 40s\tremaining: 9.68s\n",
      "805:\tlearn: 0.5876425\ttotal: 40s\tremaining: 9.62s\n",
      "806:\tlearn: 0.5876094\ttotal: 40s\tremaining: 9.57s\n",
      "807:\tlearn: 0.5875347\ttotal: 40s\tremaining: 9.51s\n",
      "808:\tlearn: 0.5874327\ttotal: 40.1s\tremaining: 9.46s\n",
      "809:\tlearn: 0.5873782\ttotal: 40.1s\tremaining: 9.42s\n",
      "810:\tlearn: 0.5872318\ttotal: 40.2s\tremaining: 9.36s\n",
      "811:\tlearn: 0.5871275\ttotal: 40.2s\tremaining: 9.3s\n",
      "812:\tlearn: 0.5869895\ttotal: 40.2s\tremaining: 9.25s\n",
      "813:\tlearn: 0.5869021\ttotal: 40.2s\tremaining: 9.19s\n",
      "814:\tlearn: 0.5867438\ttotal: 40.3s\tremaining: 9.14s\n",
      "815:\tlearn: 0.5866617\ttotal: 40.3s\tremaining: 9.1s\n",
      "816:\tlearn: 0.5865404\ttotal: 40.4s\tremaining: 9.04s\n",
      "817:\tlearn: 0.5864689\ttotal: 40.4s\tremaining: 8.99s\n",
      "818:\tlearn: 0.5863455\ttotal: 40.4s\tremaining: 8.93s\n",
      "819:\tlearn: 0.5862621\ttotal: 40.4s\tremaining: 8.87s\n",
      "820:\tlearn: 0.5861692\ttotal: 40.5s\tremaining: 8.82s\n",
      "821:\tlearn: 0.5860431\ttotal: 40.5s\tremaining: 8.78s\n",
      "822:\tlearn: 0.5859714\ttotal: 40.6s\tremaining: 8.72s\n",
      "823:\tlearn: 0.5858574\ttotal: 40.6s\tremaining: 8.67s\n",
      "824:\tlearn: 0.5857761\ttotal: 40.6s\tremaining: 8.61s\n",
      "825:\tlearn: 0.5857122\ttotal: 40.6s\tremaining: 8.56s\n",
      "826:\tlearn: 0.5855809\ttotal: 40.7s\tremaining: 8.51s\n",
      "827:\tlearn: 0.5854429\ttotal: 40.7s\tremaining: 8.46s\n",
      "828:\tlearn: 0.5853852\ttotal: 40.7s\tremaining: 8.4s\n",
      "829:\tlearn: 0.5852458\ttotal: 40.8s\tremaining: 8.35s\n",
      "830:\tlearn: 0.5852021\ttotal: 40.8s\tremaining: 8.29s\n",
      "831:\tlearn: 0.5851276\ttotal: 40.8s\tremaining: 8.24s\n",
      "832:\tlearn: 0.5849947\ttotal: 40.9s\tremaining: 8.21s\n",
      "833:\tlearn: 0.5848672\ttotal: 41s\tremaining: 8.15s\n",
      "834:\tlearn: 0.5848196\ttotal: 41s\tremaining: 8.1s\n",
      "835:\tlearn: 0.5846860\ttotal: 41s\tremaining: 8.05s\n",
      "836:\tlearn: 0.5846403\ttotal: 41.1s\tremaining: 8s\n",
      "837:\tlearn: 0.5845235\ttotal: 41.1s\tremaining: 7.95s\n",
      "838:\tlearn: 0.5844820\ttotal: 41.2s\tremaining: 7.9s\n",
      "839:\tlearn: 0.5844033\ttotal: 41.3s\tremaining: 7.86s\n",
      "840:\tlearn: 0.5842366\ttotal: 41.3s\tremaining: 7.8s\n",
      "841:\tlearn: 0.5841444\ttotal: 41.3s\tremaining: 7.75s\n",
      "842:\tlearn: 0.5840868\ttotal: 41.3s\tremaining: 7.7s\n",
      "843:\tlearn: 0.5838786\ttotal: 41.3s\tremaining: 7.64s\n",
      "844:\tlearn: 0.5837975\ttotal: 41.4s\tremaining: 7.59s\n",
      "845:\tlearn: 0.5836963\ttotal: 41.4s\tremaining: 7.53s\n",
      "846:\tlearn: 0.5836609\ttotal: 41.4s\tremaining: 7.49s\n",
      "847:\tlearn: 0.5836252\ttotal: 41.5s\tremaining: 7.44s\n",
      "848:\tlearn: 0.5835417\ttotal: 41.5s\tremaining: 7.38s\n",
      "849:\tlearn: 0.5834482\ttotal: 41.5s\tremaining: 7.33s\n",
      "850:\tlearn: 0.5834187\ttotal: 41.6s\tremaining: 7.28s\n",
      "851:\tlearn: 0.5833608\ttotal: 41.6s\tremaining: 7.23s\n",
      "852:\tlearn: 0.5832966\ttotal: 41.6s\tremaining: 7.18s\n",
      "853:\tlearn: 0.5832156\ttotal: 41.7s\tremaining: 7.12s\n",
      "854:\tlearn: 0.5831486\ttotal: 41.7s\tremaining: 7.07s\n",
      "855:\tlearn: 0.5830415\ttotal: 41.7s\tremaining: 7.02s\n",
      "856:\tlearn: 0.5829611\ttotal: 41.8s\tremaining: 6.98s\n",
      "857:\tlearn: 0.5829179\ttotal: 41.9s\tremaining: 6.93s\n",
      "858:\tlearn: 0.5828892\ttotal: 41.9s\tremaining: 6.87s\n",
      "859:\tlearn: 0.5828104\ttotal: 41.9s\tremaining: 6.83s\n",
      "860:\tlearn: 0.5827289\ttotal: 42s\tremaining: 6.78s\n",
      "861:\tlearn: 0.5826345\ttotal: 42s\tremaining: 6.73s\n",
      "862:\tlearn: 0.5825113\ttotal: 42.1s\tremaining: 6.68s\n",
      "863:\tlearn: 0.5824059\ttotal: 42.1s\tremaining: 6.62s\n",
      "864:\tlearn: 0.5823505\ttotal: 42.1s\tremaining: 6.57s\n",
      "865:\tlearn: 0.5822871\ttotal: 42.1s\tremaining: 6.52s\n",
      "866:\tlearn: 0.5821890\ttotal: 42.2s\tremaining: 6.47s\n",
      "867:\tlearn: 0.5820868\ttotal: 42.2s\tremaining: 6.42s\n",
      "868:\tlearn: 0.5820318\ttotal: 42.3s\tremaining: 6.37s\n",
      "869:\tlearn: 0.5819849\ttotal: 42.3s\tremaining: 6.32s\n",
      "870:\tlearn: 0.5819332\ttotal: 42.3s\tremaining: 6.26s\n",
      "871:\tlearn: 0.5818131\ttotal: 42.3s\tremaining: 6.21s\n",
      "872:\tlearn: 0.5816944\ttotal: 42.4s\tremaining: 6.16s\n",
      "873:\tlearn: 0.5815900\ttotal: 42.4s\tremaining: 6.12s\n",
      "874:\tlearn: 0.5815533\ttotal: 42.5s\tremaining: 6.07s\n",
      "875:\tlearn: 0.5813821\ttotal: 42.5s\tremaining: 6.01s\n",
      "876:\tlearn: 0.5812245\ttotal: 42.5s\tremaining: 5.96s\n",
      "877:\tlearn: 0.5811850\ttotal: 42.5s\tremaining: 5.91s\n",
      "878:\tlearn: 0.5810716\ttotal: 42.6s\tremaining: 5.86s\n",
      "879:\tlearn: 0.5809725\ttotal: 42.6s\tremaining: 5.81s\n",
      "880:\tlearn: 0.5809151\ttotal: 42.7s\tremaining: 5.76s\n",
      "881:\tlearn: 0.5808881\ttotal: 42.7s\tremaining: 5.71s\n",
      "882:\tlearn: 0.5808179\ttotal: 42.7s\tremaining: 5.66s\n",
      "883:\tlearn: 0.5806669\ttotal: 42.8s\tremaining: 5.62s\n",
      "884:\tlearn: 0.5805652\ttotal: 42.8s\tremaining: 5.57s\n",
      "885:\tlearn: 0.5804637\ttotal: 42.9s\tremaining: 5.51s\n",
      "886:\tlearn: 0.5803556\ttotal: 42.9s\tremaining: 5.46s\n",
      "887:\tlearn: 0.5803185\ttotal: 42.9s\tremaining: 5.42s\n",
      "888:\tlearn: 0.5802124\ttotal: 43s\tremaining: 5.37s\n",
      "889:\tlearn: 0.5799766\ttotal: 43s\tremaining: 5.32s\n",
      "890:\tlearn: 0.5798533\ttotal: 43s\tremaining: 5.26s\n",
      "891:\tlearn: 0.5797061\ttotal: 43s\tremaining: 5.21s\n",
      "892:\tlearn: 0.5795774\ttotal: 43.1s\tremaining: 5.16s\n",
      "893:\tlearn: 0.5794204\ttotal: 43.2s\tremaining: 5.12s\n",
      "894:\tlearn: 0.5793076\ttotal: 43.2s\tremaining: 5.07s\n",
      "895:\tlearn: 0.5792278\ttotal: 43.2s\tremaining: 5.01s\n",
      "896:\tlearn: 0.5791291\ttotal: 43.2s\tremaining: 4.96s\n",
      "897:\tlearn: 0.5790387\ttotal: 43.3s\tremaining: 4.91s\n",
      "898:\tlearn: 0.5789919\ttotal: 43.3s\tremaining: 4.87s\n",
      "899:\tlearn: 0.5788812\ttotal: 43.4s\tremaining: 4.82s\n",
      "900:\tlearn: 0.5787924\ttotal: 43.4s\tremaining: 4.77s\n",
      "901:\tlearn: 0.5787149\ttotal: 43.4s\tremaining: 4.72s\n",
      "902:\tlearn: 0.5785544\ttotal: 43.4s\tremaining: 4.67s\n",
      "903:\tlearn: 0.5784524\ttotal: 43.5s\tremaining: 4.62s\n",
      "904:\tlearn: 0.5783619\ttotal: 43.6s\tremaining: 4.57s\n",
      "905:\tlearn: 0.5782898\ttotal: 43.6s\tremaining: 4.52s\n",
      "906:\tlearn: 0.5782246\ttotal: 43.6s\tremaining: 4.47s\n",
      "907:\tlearn: 0.5781663\ttotal: 43.6s\tremaining: 4.42s\n",
      "908:\tlearn: 0.5780994\ttotal: 43.6s\tremaining: 4.37s\n",
      "909:\tlearn: 0.5779778\ttotal: 43.7s\tremaining: 4.32s\n",
      "910:\tlearn: 0.5779272\ttotal: 43.8s\tremaining: 4.28s\n",
      "911:\tlearn: 0.5778817\ttotal: 43.8s\tremaining: 4.22s\n",
      "912:\tlearn: 0.5777297\ttotal: 43.8s\tremaining: 4.17s\n",
      "913:\tlearn: 0.5776839\ttotal: 43.8s\tremaining: 4.12s\n",
      "914:\tlearn: 0.5776387\ttotal: 43.9s\tremaining: 4.08s\n",
      "915:\tlearn: 0.5775477\ttotal: 44s\tremaining: 4.03s\n",
      "916:\tlearn: 0.5774372\ttotal: 44s\tremaining: 3.98s\n",
      "917:\tlearn: 0.5773637\ttotal: 44s\tremaining: 3.93s\n",
      "918:\tlearn: 0.5772685\ttotal: 44.1s\tremaining: 3.88s\n",
      "919:\tlearn: 0.5772007\ttotal: 44.1s\tremaining: 3.84s\n",
      "920:\tlearn: 0.5771517\ttotal: 44.2s\tremaining: 3.79s\n",
      "921:\tlearn: 0.5771190\ttotal: 44.2s\tremaining: 3.74s\n",
      "922:\tlearn: 0.5770238\ttotal: 44.2s\tremaining: 3.69s\n",
      "923:\tlearn: 0.5769977\ttotal: 44.2s\tremaining: 3.64s\n",
      "924:\tlearn: 0.5769668\ttotal: 44.3s\tremaining: 3.59s\n",
      "925:\tlearn: 0.5769116\ttotal: 44.4s\tremaining: 3.54s\n",
      "926:\tlearn: 0.5767733\ttotal: 44.4s\tremaining: 3.49s\n",
      "927:\tlearn: 0.5766510\ttotal: 44.4s\tremaining: 3.44s\n",
      "928:\tlearn: 0.5765450\ttotal: 44.4s\tremaining: 3.4s\n",
      "929:\tlearn: 0.5764036\ttotal: 44.5s\tremaining: 3.35s\n",
      "930:\tlearn: 0.5762180\ttotal: 44.5s\tremaining: 3.3s\n",
      "931:\tlearn: 0.5761282\ttotal: 44.6s\tremaining: 3.25s\n",
      "932:\tlearn: 0.5760243\ttotal: 44.6s\tremaining: 3.2s\n",
      "933:\tlearn: 0.5759390\ttotal: 44.7s\tremaining: 3.16s\n",
      "934:\tlearn: 0.5758810\ttotal: 44.8s\tremaining: 3.12s\n",
      "935:\tlearn: 0.5757148\ttotal: 44.9s\tremaining: 3.07s\n",
      "936:\tlearn: 0.5756536\ttotal: 44.9s\tremaining: 3.02s\n",
      "937:\tlearn: 0.5755736\ttotal: 45s\tremaining: 2.97s\n",
      "938:\tlearn: 0.5754940\ttotal: 45s\tremaining: 2.92s\n",
      "939:\tlearn: 0.5753968\ttotal: 45s\tremaining: 2.87s\n",
      "940:\tlearn: 0.5752828\ttotal: 45s\tremaining: 2.82s\n",
      "941:\tlearn: 0.5752438\ttotal: 45.1s\tremaining: 2.77s\n",
      "942:\tlearn: 0.5751774\ttotal: 45.1s\tremaining: 2.73s\n",
      "943:\tlearn: 0.5750728\ttotal: 45.2s\tremaining: 2.68s\n",
      "944:\tlearn: 0.5749204\ttotal: 45.2s\tremaining: 2.63s\n",
      "945:\tlearn: 0.5748690\ttotal: 45.2s\tremaining: 2.58s\n",
      "946:\tlearn: 0.5747738\ttotal: 45.3s\tremaining: 2.53s\n",
      "947:\tlearn: 0.5746568\ttotal: 45.3s\tremaining: 2.48s\n",
      "948:\tlearn: 0.5745490\ttotal: 45.3s\tremaining: 2.44s\n",
      "949:\tlearn: 0.5744056\ttotal: 45.4s\tremaining: 2.39s\n",
      "950:\tlearn: 0.5742701\ttotal: 45.4s\tremaining: 2.34s\n",
      "951:\tlearn: 0.5742133\ttotal: 45.4s\tremaining: 2.29s\n",
      "952:\tlearn: 0.5740840\ttotal: 45.5s\tremaining: 2.24s\n",
      "953:\tlearn: 0.5739749\ttotal: 45.5s\tremaining: 2.19s\n",
      "954:\tlearn: 0.5738524\ttotal: 45.5s\tremaining: 2.15s\n",
      "955:\tlearn: 0.5737647\ttotal: 45.6s\tremaining: 2.1s\n",
      "956:\tlearn: 0.5737145\ttotal: 45.6s\tremaining: 2.05s\n",
      "957:\tlearn: 0.5735862\ttotal: 45.6s\tremaining: 2s\n",
      "958:\tlearn: 0.5734381\ttotal: 45.7s\tremaining: 1.95s\n",
      "959:\tlearn: 0.5734129\ttotal: 45.8s\tremaining: 1.91s\n",
      "960:\tlearn: 0.5733028\ttotal: 45.8s\tremaining: 1.86s\n",
      "961:\tlearn: 0.5732180\ttotal: 45.9s\tremaining: 1.81s\n",
      "962:\tlearn: 0.5730660\ttotal: 45.9s\tremaining: 1.76s\n"
     ]
    },
    {
     "name": "stdout",
     "output_type": "stream",
     "text": [
      "963:\tlearn: 0.5730062\ttotal: 46s\tremaining: 1.72s\n",
      "964:\tlearn: 0.5729279\ttotal: 46s\tremaining: 1.67s\n",
      "965:\tlearn: 0.5728836\ttotal: 46.1s\tremaining: 1.62s\n",
      "966:\tlearn: 0.5728038\ttotal: 46.1s\tremaining: 1.57s\n",
      "967:\tlearn: 0.5727171\ttotal: 46.1s\tremaining: 1.52s\n",
      "968:\tlearn: 0.5726375\ttotal: 46.2s\tremaining: 1.48s\n",
      "969:\tlearn: 0.5725779\ttotal: 46.3s\tremaining: 1.43s\n",
      "970:\tlearn: 0.5725421\ttotal: 46.3s\tremaining: 1.38s\n",
      "971:\tlearn: 0.5724971\ttotal: 46.3s\tremaining: 1.33s\n",
      "972:\tlearn: 0.5724761\ttotal: 46.4s\tremaining: 1.29s\n",
      "973:\tlearn: 0.5723195\ttotal: 46.5s\tremaining: 1.24s\n",
      "974:\tlearn: 0.5722887\ttotal: 46.5s\tremaining: 1.19s\n",
      "975:\tlearn: 0.5721909\ttotal: 46.5s\tremaining: 1.14s\n",
      "976:\tlearn: 0.5721595\ttotal: 46.5s\tremaining: 1.09s\n",
      "977:\tlearn: 0.5721275\ttotal: 46.6s\tremaining: 1.05s\n",
      "978:\tlearn: 0.5720489\ttotal: 46.6s\tremaining: 999ms\n",
      "979:\tlearn: 0.5719804\ttotal: 46.6s\tremaining: 951ms\n",
      "980:\tlearn: 0.5718955\ttotal: 46.6s\tremaining: 903ms\n",
      "981:\tlearn: 0.5717905\ttotal: 46.8s\tremaining: 857ms\n",
      "982:\tlearn: 0.5717057\ttotal: 46.8s\tremaining: 809ms\n",
      "983:\tlearn: 0.5715887\ttotal: 46.8s\tremaining: 761ms\n",
      "984:\tlearn: 0.5715318\ttotal: 46.8s\tremaining: 713ms\n",
      "985:\tlearn: 0.5713967\ttotal: 46.9s\tremaining: 666ms\n",
      "986:\tlearn: 0.5713627\ttotal: 46.9s\tremaining: 618ms\n",
      "987:\tlearn: 0.5713042\ttotal: 47s\tremaining: 570ms\n",
      "988:\tlearn: 0.5712246\ttotal: 47s\tremaining: 523ms\n",
      "989:\tlearn: 0.5711313\ttotal: 47s\tremaining: 475ms\n",
      "990:\tlearn: 0.5710695\ttotal: 47.1s\tremaining: 428ms\n",
      "991:\tlearn: 0.5709726\ttotal: 47.1s\tremaining: 380ms\n",
      "992:\tlearn: 0.5709311\ttotal: 47.1s\tremaining: 332ms\n",
      "993:\tlearn: 0.5708622\ttotal: 47.2s\tremaining: 285ms\n",
      "994:\tlearn: 0.5708247\ttotal: 47.2s\tremaining: 237ms\n",
      "995:\tlearn: 0.5707443\ttotal: 47.2s\tremaining: 190ms\n",
      "996:\tlearn: 0.5706999\ttotal: 47.3s\tremaining: 142ms\n",
      "997:\tlearn: 0.5705838\ttotal: 47.3s\tremaining: 94.8ms\n",
      "998:\tlearn: 0.5704901\ttotal: 47.3s\tremaining: 47.4ms\n",
      "999:\tlearn: 0.5704443\ttotal: 47.3s\tremaining: 0us\n"
     ]
    },
    {
     "data": {
      "text/plain": [
       "<catboost.core.CatBoostClassifier at 0x25645752988>"
      ]
     },
     "execution_count": 278,
     "metadata": {},
     "output_type": "execute_result"
    }
   ],
   "source": [
    "cat.fit(train_X.drop(columns={\"Cuisines\"}),train_y.drop(columns={\"Cuisines\"}))"
   ]
  },
  {
   "cell_type": "code",
   "execution_count": 279,
   "metadata": {},
   "outputs": [],
   "source": [
    "train_pred_cat=cat.predict(train_X.drop(columns={\"Cuisines\"}))"
   ]
  },
  {
   "cell_type": "code",
   "execution_count": 280,
   "metadata": {},
   "outputs": [],
   "source": [
    "test_pred_cat=cat.predict(test_X.drop(columns={\"Cuisines\"}))"
   ]
  },
  {
   "cell_type": "code",
   "execution_count": 281,
   "metadata": {},
   "outputs": [
    {
     "data": {
      "text/plain": [
       "0.7835157759175789"
      ]
     },
     "execution_count": 281,
     "metadata": {},
     "output_type": "execute_result"
    }
   ],
   "source": [
    "accuracy_score(train_y.drop(columns={\"Cuisines\"}),train_pred_cat)"
   ]
  },
  {
   "cell_type": "code",
   "execution_count": 282,
   "metadata": {},
   "outputs": [
    {
     "data": {
      "text/plain": [
       "0.7211538461538461"
      ]
     },
     "execution_count": 282,
     "metadata": {},
     "output_type": "execute_result"
    }
   ],
   "source": [
    "accuracy_score(test_y.drop(columns={\"Cuisines\"}),test_pred_cat)"
   ]
  },
  {
   "cell_type": "code",
   "execution_count": null,
   "metadata": {},
   "outputs": [],
   "source": []
  }
 ],
 "metadata": {
  "kernelspec": {
   "display_name": "Python 3",
   "language": "python",
   "name": "python3"
  },
  "language_info": {
   "codemirror_mode": {
    "name": "ipython",
    "version": 3
   },
   "file_extension": ".py",
   "mimetype": "text/x-python",
   "name": "python",
   "nbconvert_exporter": "python",
   "pygments_lexer": "ipython3",
   "version": "3.7.4"
  }
 },
 "nbformat": 4,
 "nbformat_minor": 2
}
