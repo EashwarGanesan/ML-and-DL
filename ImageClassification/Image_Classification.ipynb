{
  "nbformat": 4,
  "nbformat_minor": 0,
  "metadata": {
    "colab": {
      "name": "Image Classification.ipynb",
      "provenance": []
    },
    "kernelspec": {
      "name": "python3",
      "display_name": "Python 3"
    },
    "accelerator": "GPU"
  },
  "cells": [
    {
      "cell_type": "code",
      "metadata": {
        "id": "Ivbjo8itnl3l",
        "colab_type": "code",
        "colab": {
          "base_uri": "https://localhost:8080/",
          "height": 122
        },
        "outputId": "41dc1683-3772-436d-aebc-a5bb79315e85"
      },
      "source": [
        "from google.colab import drive\n",
        "drive.mount('/content/drive')"
      ],
      "execution_count": 3,
      "outputs": [
        {
          "output_type": "stream",
          "text": [
            "Go to this URL in a browser: https://accounts.google.com/o/oauth2/auth?client_id=947318989803-6bn6qk8qdgf4n4g3pfee6491hc0brc4i.apps.googleusercontent.com&redirect_uri=urn%3aietf%3awg%3aoauth%3a2.0%3aoob&response_type=code&scope=email%20https%3a%2f%2fwww.googleapis.com%2fauth%2fdocs.test%20https%3a%2f%2fwww.googleapis.com%2fauth%2fdrive%20https%3a%2f%2fwww.googleapis.com%2fauth%2fdrive.photos.readonly%20https%3a%2f%2fwww.googleapis.com%2fauth%2fpeopleapi.readonly\n",
            "\n",
            "Enter your authorization code:\n",
            "··········\n",
            "Mounted at /content/drive\n"
          ],
          "name": "stdout"
        }
      ]
    },
    {
      "cell_type": "code",
      "metadata": {
        "id": "-OXg_OWRpYHf",
        "colab_type": "code",
        "colab": {
          "base_uri": "https://localhost:8080/",
          "height": 136
        },
        "outputId": "21cc2b5d-58bd-455e-a892-6a25149d1195"
      },
      "source": [
        "!ls \"/content/drive/My Drive\""
      ],
      "execution_count": 4,
      "outputs": [
        {
          "output_type": "stream",
          "text": [
            " AAdhar.docx\t\t\t   report1.html\n",
            "'Colab Notebooks'\t\t   report.pdf\n",
            "'Driving License.docx'\t\t  'Sathabhishekam 30.07.2017.zip'\n",
            "'Image Recpgnition'\t\t   Screenshot_2015-10-28-15-17-34.png\n",
            " Kodai\t\t\t\t  'test (1).ipynb'\n",
            "'MANITHANEYAM IDENTITY CARD.xps'   Untitled1.ipynb\n",
            "'Pan Card.docx'\n"
          ],
          "name": "stdout"
        }
      ]
    },
    {
      "cell_type": "code",
      "metadata": {
        "id": "9wGZP13apqlk",
        "colab_type": "code",
        "colab": {
          "base_uri": "https://localhost:8080/",
          "height": 34
        },
        "outputId": "94e35f41-3374-451e-8c80-4b960eeeffb7"
      },
      "source": [
        "!ls \"/content/drive/My Drive/Image Recpgnition\""
      ],
      "execution_count": 5,
      "outputs": [
        {
          "output_type": "stream",
          "text": [
            "images\ttest_vc2kHdQ.csv  train.csv\n"
          ],
          "name": "stdout"
        }
      ]
    },
    {
      "cell_type": "code",
      "metadata": {
        "id": "VbLjYLP6qhZo",
        "colab_type": "code",
        "colab": {}
      },
      "source": [
        "import pandas as pd\n",
        "import numpy as np"
      ],
      "execution_count": 6,
      "outputs": []
    },
    {
      "cell_type": "code",
      "metadata": {
        "id": "gV2r5nJ7qZu6",
        "colab_type": "code",
        "colab": {}
      },
      "source": [
        "train_data=pd.read_csv('/content/drive/My Drive/Image Recpgnition/train.csv')"
      ],
      "execution_count": 7,
      "outputs": []
    },
    {
      "cell_type": "code",
      "metadata": {
        "id": "rHRR5UGwwArD",
        "colab_type": "code",
        "colab": {
          "base_uri": "https://localhost:8080/",
          "height": 204
        },
        "outputId": "010ef94e-f053-4763-dc3e-fdd1a571cd16"
      },
      "source": [
        "train_data.head()"
      ],
      "execution_count": 8,
      "outputs": [
        {
          "output_type": "execute_result",
          "data": {
            "text/html": [
              "<div>\n",
              "<style scoped>\n",
              "    .dataframe tbody tr th:only-of-type {\n",
              "        vertical-align: middle;\n",
              "    }\n",
              "\n",
              "    .dataframe tbody tr th {\n",
              "        vertical-align: top;\n",
              "    }\n",
              "\n",
              "    .dataframe thead th {\n",
              "        text-align: right;\n",
              "    }\n",
              "</style>\n",
              "<table border=\"1\" class=\"dataframe\">\n",
              "  <thead>\n",
              "    <tr style=\"text-align: right;\">\n",
              "      <th></th>\n",
              "      <th>image_names</th>\n",
              "      <th>emergency_or_not</th>\n",
              "    </tr>\n",
              "  </thead>\n",
              "  <tbody>\n",
              "    <tr>\n",
              "      <th>0</th>\n",
              "      <td>1503.jpg</td>\n",
              "      <td>0</td>\n",
              "    </tr>\n",
              "    <tr>\n",
              "      <th>1</th>\n",
              "      <td>1420.jpg</td>\n",
              "      <td>0</td>\n",
              "    </tr>\n",
              "    <tr>\n",
              "      <th>2</th>\n",
              "      <td>1764.jpg</td>\n",
              "      <td>0</td>\n",
              "    </tr>\n",
              "    <tr>\n",
              "      <th>3</th>\n",
              "      <td>1356.jpg</td>\n",
              "      <td>0</td>\n",
              "    </tr>\n",
              "    <tr>\n",
              "      <th>4</th>\n",
              "      <td>1117.jpg</td>\n",
              "      <td>0</td>\n",
              "    </tr>\n",
              "  </tbody>\n",
              "</table>\n",
              "</div>"
            ],
            "text/plain": [
              "  image_names  emergency_or_not\n",
              "0    1503.jpg                 0\n",
              "1    1420.jpg                 0\n",
              "2    1764.jpg                 0\n",
              "3    1356.jpg                 0\n",
              "4    1117.jpg                 0"
            ]
          },
          "metadata": {
            "tags": []
          },
          "execution_count": 8
        }
      ]
    },
    {
      "cell_type": "code",
      "metadata": {
        "id": "3mGsxDVoqf7A",
        "colab_type": "code",
        "colab": {}
      },
      "source": [
        "import tensorflow as tf\n",
        "import warnings\n",
        "warnings.filterwarnings('ignore')"
      ],
      "execution_count": 9,
      "outputs": []
    },
    {
      "cell_type": "code",
      "metadata": {
        "id": "wcAvSblntAar",
        "colab_type": "code",
        "colab": {
          "base_uri": "https://localhost:8080/",
          "height": 34
        },
        "outputId": "0820c86f-10b1-41e6-e47d-b1d9118642e7"
      },
      "source": [
        "import keras"
      ],
      "execution_count": 10,
      "outputs": [
        {
          "output_type": "stream",
          "text": [
            "Using TensorFlow backend.\n"
          ],
          "name": "stderr"
        }
      ]
    },
    {
      "cell_type": "code",
      "metadata": {
        "id": "qagLVeLyxZOH",
        "colab_type": "code",
        "colab": {}
      },
      "source": [
        "from keras.preprocessing import image"
      ],
      "execution_count": 11,
      "outputs": []
    },
    {
      "cell_type": "code",
      "metadata": {
        "id": "vNAl_2j-tFnS",
        "colab_type": "code",
        "colab": {}
      },
      "source": [
        "from keras.preprocessing.image import ImageDataGenerator,load_img,img_to_array"
      ],
      "execution_count": 12,
      "outputs": []
    },
    {
      "cell_type": "code",
      "metadata": {
        "id": "apFXvQMrtNSj",
        "colab_type": "code",
        "colab": {}
      },
      "source": [
        "from tqdm import tqdm"
      ],
      "execution_count": 13,
      "outputs": []
    },
    {
      "cell_type": "code",
      "metadata": {
        "id": "_Bb-sNbctQeV",
        "colab_type": "code",
        "colab": {}
      },
      "source": [
        "from PIL import Image"
      ],
      "execution_count": 14,
      "outputs": []
    },
    {
      "cell_type": "code",
      "metadata": {
        "id": "yV0Cg0f4uB6A",
        "colab_type": "code",
        "colab": {
          "base_uri": "https://localhost:8080/",
          "height": 241
        },
        "outputId": "f0f6cdd8-9eb3-4d0c-eba4-f22a31e22dbf"
      },
      "source": [
        "load_img('/content/drive/My Drive/Image Recpgnition/images/1503.jpg')"
      ],
      "execution_count": 15,
      "outputs": [
        {
          "output_type": "execute_result",
          "data": {
            "image/png": "[encoded data removed]",
            "text/plain": [
              "<PIL.JpegImagePlugin.JpegImageFile image mode=RGB size=224x224 at 0x7FF58C9332B0>"
            ]
          },
          "metadata": {
            "tags": []
          },
          "execution_count": 15
        }
      ]
    },
    {
      "cell_type": "code",
      "metadata": {
        "id": "5pO5yCrFvo82",
        "colab_type": "code",
        "colab": {}
      },
      "source": [
        "train_image=[]"
      ],
      "execution_count": 16,
      "outputs": []
    },
    {
      "cell_type": "code",
      "metadata": {
        "id": "b3QxYRZptTU_",
        "colab_type": "code",
        "colab": {
          "base_uri": "https://localhost:8080/",
          "height": 34
        },
        "outputId": "67afbbf8-7cf4-4080-a4ac-a5ffdbab84ef"
      },
      "source": [
        "for i in tqdm(range(train_data.shape[0])):\n",
        "  img=image.load_img('/content/drive/My Drive/Image Recpgnition/images/'+train_data['image_names'][i],target_size=(224,224),grayscale=False)\n",
        "  img=img_to_array(img)\n",
        "  img=img/255\n",
        "  train_image.append(img)\n",
        "\n"
      ],
      "execution_count": 17,
      "outputs": [
        {
          "output_type": "stream",
          "text": [
            "100%|██████████| 1646/1646 [13:37<00:00,  2.01it/s]\n"
          ],
          "name": "stderr"
        }
      ]
    },
    {
      "cell_type": "code",
      "metadata": {
        "id": "s2GsM5UIvvXW",
        "colab_type": "code",
        "colab": {}
      },
      "source": [
        "X=np.array(train_image)"
      ],
      "execution_count": 18,
      "outputs": []
    },
    {
      "cell_type": "code",
      "metadata": {
        "id": "PuIMEmU81QjB",
        "colab_type": "code",
        "colab": {
          "base_uri": "https://localhost:8080/",
          "height": 34
        },
        "outputId": "d5528d17-2b88-486a-92c9-61f39d84725b"
      },
      "source": [
        "X.shape"
      ],
      "execution_count": 19,
      "outputs": [
        {
          "output_type": "execute_result",
          "data": {
            "text/plain": [
              "(1646, 224, 224, 3)"
            ]
          },
          "metadata": {
            "tags": []
          },
          "execution_count": 19
        }
      ]
    },
    {
      "cell_type": "code",
      "metadata": {
        "id": "MxHl217e1Ryc",
        "colab_type": "code",
        "colab": {}
      },
      "source": [
        "y=train_data['emergency_or_not']"
      ],
      "execution_count": 21,
      "outputs": []
    },
    {
      "cell_type": "code",
      "metadata": {
        "id": "m8ebI87M1SOu",
        "colab_type": "code",
        "colab": {}
      },
      "source": [
        "from sklearn.model_selection import train_test_split\n",
        "\n",
        "X_train, X_test, y_train, y_test = train_test_split(X, y, random_state=42, test_size=0.3)"
      ],
      "execution_count": 22,
      "outputs": []
    },
    {
      "cell_type": "code",
      "metadata": {
        "id": "sNnvMPou1WiA",
        "colab_type": "code",
        "colab": {}
      },
      "source": [
        "from keras.models import Model,Sequential\n",
        "\n",
        "from keras.layers import Dense,Flatten\n",
        "\n",
        "from keras.applications.vgg16 import VGG16\n"
      ],
      "execution_count": 38,
      "outputs": []
    },
    {
      "cell_type": "code",
      "metadata": {
        "id": "nsPS4PeE1SL4",
        "colab_type": "code",
        "colab": {}
      },
      "source": [
        "from keras.callbacks import EarlyStopping"
      ],
      "execution_count": 39,
      "outputs": []
    },
    {
      "cell_type": "code",
      "metadata": {
        "id": "5N_ah_iU1SJn",
        "colab_type": "code",
        "colab": {}
      },
      "source": [
        "vgg=VGG16(include_top=False,input_shape=(224,224,3),pooling='max',weights='imagenet')"
      ],
      "execution_count": 40,
      "outputs": []
    },
    {
      "cell_type": "code",
      "metadata": {
        "id": "w4hoQZ1H1SGU",
        "colab_type": "code",
        "colab": {}
      },
      "source": [
        "for i in vgg.layers:\n",
        "  i.trainable=False"
      ],
      "execution_count": 41,
      "outputs": []
    },
    {
      "cell_type": "code",
      "metadata": {
        "id": "ReMF2_MW1SD7",
        "colab_type": "code",
        "colab": {}
      },
      "source": [
        "pred=Dense(1,activation='sigmoid')(vgg.output)"
      ],
      "execution_count": 42,
      "outputs": []
    },
    {
      "cell_type": "code",
      "metadata": {
        "id": "mJeiz4Qc1SBi",
        "colab_type": "code",
        "colab": {}
      },
      "source": [
        "model=Model(inputs=vgg.input,outputs=pred)"
      ],
      "execution_count": 43,
      "outputs": []
    },
    {
      "cell_type": "code",
      "metadata": {
        "id": "cdU4So2z1R_q",
        "colab_type": "code",
        "colab": {
          "base_uri": "https://localhost:8080/",
          "height": 867
        },
        "outputId": "3a76475b-c979-4f5c-b9da-893ed761fa23"
      },
      "source": [
        "model.summary()"
      ],
      "execution_count": 44,
      "outputs": [
        {
          "output_type": "stream",
          "text": [
            "Model: \"model_2\"\n",
            "_________________________________________________________________\n",
            "Layer (type)                 Output Shape              Param #   \n",
            "=================================================================\n",
            "input_2 (InputLayer)         (None, 224, 224, 3)       0         \n",
            "_________________________________________________________________\n",
            "block1_conv1 (Conv2D)        (None, 224, 224, 64)      1792      \n",
            "_________________________________________________________________\n",
            "block1_conv2 (Conv2D)        (None, 224, 224, 64)      36928     \n",
            "_________________________________________________________________\n",
            "block1_pool (MaxPooling2D)   (None, 112, 112, 64)      0         \n",
            "_________________________________________________________________\n",
            "block2_conv1 (Conv2D)        (None, 112, 112, 128)     73856     \n",
            "_________________________________________________________________\n",
            "block2_conv2 (Conv2D)        (None, 112, 112, 128)     147584    \n",
            "_________________________________________________________________\n",
            "block2_pool (MaxPooling2D)   (None, 56, 56, 128)       0         \n",
            "_________________________________________________________________\n",
            "block3_conv1 (Conv2D)        (None, 56, 56, 256)       295168    \n",
            "_________________________________________________________________\n",
            "block3_conv2 (Conv2D)        (None, 56, 56, 256)       590080    \n",
            "_________________________________________________________________\n",
            "block3_conv3 (Conv2D)        (None, 56, 56, 256)       590080    \n",
            "_________________________________________________________________\n",
            "block3_pool (MaxPooling2D)   (None, 28, 28, 256)       0         \n",
            "_________________________________________________________________\n",
            "block4_conv1 (Conv2D)        (None, 28, 28, 512)       1180160   \n",
            "_________________________________________________________________\n",
            "block4_conv2 (Conv2D)        (None, 28, 28, 512)       2359808   \n",
            "_________________________________________________________________\n",
            "block4_conv3 (Conv2D)        (None, 28, 28, 512)       2359808   \n",
            "_________________________________________________________________\n",
            "block4_pool (MaxPooling2D)   (None, 14, 14, 512)       0         \n",
            "_________________________________________________________________\n",
            "block5_conv1 (Conv2D)        (None, 14, 14, 512)       2359808   \n",
            "_________________________________________________________________\n",
            "block5_conv2 (Conv2D)        (None, 14, 14, 512)       2359808   \n",
            "_________________________________________________________________\n",
            "block5_conv3 (Conv2D)        (None, 14, 14, 512)       2359808   \n",
            "_________________________________________________________________\n",
            "block5_pool (MaxPooling2D)   (None, 7, 7, 512)         0         \n",
            "_________________________________________________________________\n",
            "global_max_pooling2d_2 (Glob (None, 512)               0         \n",
            "_________________________________________________________________\n",
            "dense_2 (Dense)              (None, 1)                 513       \n",
            "=================================================================\n",
            "Total params: 14,715,201\n",
            "Trainable params: 513\n",
            "Non-trainable params: 14,714,688\n",
            "_________________________________________________________________\n"
          ],
          "name": "stdout"
        }
      ]
    },
    {
      "cell_type": "code",
      "metadata": {
        "id": "osQM0O8D2lJs",
        "colab_type": "code",
        "colab": {}
      },
      "source": [
        "from keras.optimizers import Adam"
      ],
      "execution_count": 45,
      "outputs": []
    },
    {
      "cell_type": "code",
      "metadata": {
        "id": "5VtreXyb1R9l",
        "colab_type": "code",
        "colab": {}
      },
      "source": [
        "adam=Adam()"
      ],
      "execution_count": 46,
      "outputs": []
    },
    {
      "cell_type": "code",
      "metadata": {
        "id": "tWoiWL3S2g8J",
        "colab_type": "code",
        "colab": {}
      },
      "source": [
        "model.compile(optimizer=adam,loss='binary_crossentropy',metrics=['accuracy'])"
      ],
      "execution_count": 47,
      "outputs": []
    },
    {
      "cell_type": "code",
      "metadata": {
        "id": "H9RmMTl923h8",
        "colab_type": "code",
        "colab": {}
      },
      "source": [
        "early=EarlyStopping(patience=20,monitor='val_accuracy')"
      ],
      "execution_count": 50,
      "outputs": []
    },
    {
      "cell_type": "code",
      "metadata": {
        "id": "hSm4xufV2yjY",
        "colab_type": "code",
        "colab": {
          "base_uri": "https://localhost:8080/",
          "height": 1000
        },
        "outputId": "f34ebe53-59b6-4fe6-8117-c420d471371e"
      },
      "source": [
        "history=model.fit(X_train,y_train,epochs=50,validation_data=(X_test,y_test),callbacks=[early])"
      ],
      "execution_count": 51,
      "outputs": [
        {
          "output_type": "stream",
          "text": [
            "Train on 1152 samples, validate on 494 samples\n",
            "Epoch 1/50\n",
            "1152/1152 [==============================] - 16s 14ms/step - loss: 0.6380 - accuracy: 0.6302 - val_loss: 0.5499 - val_accuracy: 0.7449\n",
            "Epoch 2/50\n",
            "1152/1152 [==============================] - 15s 13ms/step - loss: 0.5071 - accuracy: 0.7682 - val_loss: 0.4813 - val_accuracy: 0.7773\n",
            "Epoch 3/50\n",
            "1152/1152 [==============================] - 15s 13ms/step - loss: 0.4455 - accuracy: 0.8003 - val_loss: 0.4263 - val_accuracy: 0.8178\n",
            "Epoch 4/50\n",
            "1152/1152 [==============================] - 15s 13ms/step - loss: 0.4021 - accuracy: 0.8385 - val_loss: 0.3952 - val_accuracy: 0.8360\n",
            "Epoch 5/50\n",
            "1152/1152 [==============================] - 15s 13ms/step - loss: 0.3767 - accuracy: 0.8411 - val_loss: 0.3694 - val_accuracy: 0.8381\n",
            "Epoch 6/50\n",
            "1152/1152 [==============================] - 15s 13ms/step - loss: 0.3510 - accuracy: 0.8620 - val_loss: 0.3565 - val_accuracy: 0.8462\n",
            "Epoch 7/50\n",
            "1152/1152 [==============================] - 15s 13ms/step - loss: 0.3319 - accuracy: 0.8715 - val_loss: 0.3381 - val_accuracy: 0.8462\n",
            "Epoch 8/50\n",
            "1152/1152 [==============================] - 15s 13ms/step - loss: 0.3152 - accuracy: 0.8863 - val_loss: 0.3324 - val_accuracy: 0.8623\n",
            "Epoch 9/50\n",
            "1152/1152 [==============================] - 15s 13ms/step - loss: 0.3029 - accuracy: 0.8924 - val_loss: 0.3164 - val_accuracy: 0.8563\n",
            "Epoch 10/50\n",
            "1152/1152 [==============================] - 15s 13ms/step - loss: 0.2951 - accuracy: 0.8889 - val_loss: 0.3092 - val_accuracy: 0.8563\n",
            "Epoch 11/50\n",
            "1152/1152 [==============================] - 15s 13ms/step - loss: 0.2819 - accuracy: 0.8993 - val_loss: 0.3130 - val_accuracy: 0.8704\n",
            "Epoch 12/50\n",
            "1152/1152 [==============================] - 15s 13ms/step - loss: 0.2751 - accuracy: 0.9010 - val_loss: 0.2945 - val_accuracy: 0.8664\n",
            "Epoch 13/50\n",
            "1152/1152 [==============================] - 15s 13ms/step - loss: 0.2664 - accuracy: 0.9097 - val_loss: 0.2891 - val_accuracy: 0.8765\n",
            "Epoch 14/50\n",
            "1152/1152 [==============================] - 15s 13ms/step - loss: 0.2558 - accuracy: 0.9115 - val_loss: 0.2834 - val_accuracy: 0.8765\n",
            "Epoch 15/50\n",
            "1152/1152 [==============================] - 15s 13ms/step - loss: 0.2498 - accuracy: 0.9123 - val_loss: 0.2811 - val_accuracy: 0.8806\n",
            "Epoch 16/50\n",
            "1152/1152 [==============================] - 15s 13ms/step - loss: 0.2486 - accuracy: 0.9123 - val_loss: 0.2751 - val_accuracy: 0.8745\n",
            "Epoch 17/50\n",
            "1152/1152 [==============================] - 15s 13ms/step - loss: 0.2367 - accuracy: 0.9210 - val_loss: 0.2719 - val_accuracy: 0.8826\n",
            "Epoch 18/50\n",
            "1152/1152 [==============================] - 15s 13ms/step - loss: 0.2319 - accuracy: 0.9253 - val_loss: 0.2691 - val_accuracy: 0.8785\n",
            "Epoch 19/50\n",
            "1152/1152 [==============================] - 15s 13ms/step - loss: 0.2269 - accuracy: 0.9245 - val_loss: 0.2692 - val_accuracy: 0.8866\n",
            "Epoch 20/50\n",
            "1152/1152 [==============================] - 15s 13ms/step - loss: 0.2242 - accuracy: 0.9288 - val_loss: 0.2617 - val_accuracy: 0.8785\n",
            "Epoch 21/50\n",
            "1152/1152 [==============================] - 15s 13ms/step - loss: 0.2189 - accuracy: 0.9262 - val_loss: 0.2597 - val_accuracy: 0.8846\n",
            "Epoch 22/50\n",
            "1152/1152 [==============================] - 15s 13ms/step - loss: 0.2127 - accuracy: 0.9262 - val_loss: 0.2668 - val_accuracy: 0.8907\n",
            "Epoch 23/50\n",
            "1152/1152 [==============================] - 15s 13ms/step - loss: 0.2105 - accuracy: 0.9332 - val_loss: 0.2603 - val_accuracy: 0.8907\n",
            "Epoch 24/50\n",
            "1152/1152 [==============================] - 15s 13ms/step - loss: 0.2056 - accuracy: 0.9288 - val_loss: 0.2522 - val_accuracy: 0.8826\n",
            "Epoch 25/50\n",
            "1152/1152 [==============================] - 15s 13ms/step - loss: 0.2026 - accuracy: 0.9323 - val_loss: 0.2503 - val_accuracy: 0.8846\n",
            "Epoch 26/50\n",
            "1152/1152 [==============================] - 15s 13ms/step - loss: 0.2003 - accuracy: 0.9358 - val_loss: 0.2517 - val_accuracy: 0.8887\n",
            "Epoch 27/50\n",
            "1152/1152 [==============================] - 15s 13ms/step - loss: 0.2008 - accuracy: 0.9323 - val_loss: 0.2476 - val_accuracy: 0.8866\n",
            "Epoch 28/50\n",
            "1152/1152 [==============================] - 15s 13ms/step - loss: 0.1957 - accuracy: 0.9375 - val_loss: 0.2507 - val_accuracy: 0.8907\n",
            "Epoch 29/50\n",
            "1152/1152 [==============================] - 15s 13ms/step - loss: 0.1939 - accuracy: 0.9332 - val_loss: 0.2440 - val_accuracy: 0.8907\n",
            "Epoch 30/50\n",
            "1152/1152 [==============================] - 15s 13ms/step - loss: 0.1875 - accuracy: 0.9384 - val_loss: 0.2431 - val_accuracy: 0.8887\n",
            "Epoch 31/50\n",
            "1152/1152 [==============================] - 15s 13ms/step - loss: 0.1841 - accuracy: 0.9375 - val_loss: 0.2409 - val_accuracy: 0.8887\n",
            "Epoch 32/50\n",
            "1152/1152 [==============================] - 15s 13ms/step - loss: 0.1816 - accuracy: 0.9401 - val_loss: 0.2394 - val_accuracy: 0.8887\n",
            "Epoch 33/50\n",
            "1152/1152 [==============================] - 15s 13ms/step - loss: 0.1842 - accuracy: 0.9410 - val_loss: 0.2400 - val_accuracy: 0.8887\n",
            "Epoch 34/50\n",
            "1152/1152 [==============================] - 15s 13ms/step - loss: 0.1767 - accuracy: 0.9427 - val_loss: 0.2379 - val_accuracy: 0.8907\n",
            "Epoch 35/50\n",
            "1152/1152 [==============================] - 15s 13ms/step - loss: 0.1753 - accuracy: 0.9427 - val_loss: 0.2450 - val_accuracy: 0.8947\n",
            "Epoch 36/50\n",
            "1152/1152 [==============================] - 15s 13ms/step - loss: 0.1731 - accuracy: 0.9470 - val_loss: 0.2379 - val_accuracy: 0.8887\n",
            "Epoch 37/50\n",
            "1152/1152 [==============================] - 15s 13ms/step - loss: 0.1691 - accuracy: 0.9462 - val_loss: 0.2346 - val_accuracy: 0.8887\n",
            "Epoch 38/50\n",
            "1152/1152 [==============================] - 15s 13ms/step - loss: 0.1682 - accuracy: 0.9444 - val_loss: 0.2336 - val_accuracy: 0.8887\n",
            "Epoch 39/50\n",
            "1152/1152 [==============================] - 15s 13ms/step - loss: 0.1650 - accuracy: 0.9470 - val_loss: 0.2331 - val_accuracy: 0.8887\n",
            "Epoch 40/50\n",
            "1152/1152 [==============================] - 15s 13ms/step - loss: 0.1644 - accuracy: 0.9453 - val_loss: 0.2328 - val_accuracy: 0.8907\n",
            "Epoch 41/50\n",
            "1152/1152 [==============================] - 15s 13ms/step - loss: 0.1614 - accuracy: 0.9470 - val_loss: 0.2339 - val_accuracy: 0.8927\n",
            "Epoch 42/50\n",
            "1152/1152 [==============================] - 15s 13ms/step - loss: 0.1623 - accuracy: 0.9418 - val_loss: 0.2346 - val_accuracy: 0.8927\n",
            "Epoch 43/50\n",
            "1152/1152 [==============================] - 15s 13ms/step - loss: 0.1601 - accuracy: 0.9505 - val_loss: 0.2306 - val_accuracy: 0.8968\n",
            "Epoch 44/50\n",
            "1152/1152 [==============================] - 15s 13ms/step - loss: 0.1605 - accuracy: 0.9470 - val_loss: 0.2297 - val_accuracy: 0.8988\n",
            "Epoch 45/50\n",
            "1152/1152 [==============================] - 15s 13ms/step - loss: 0.1635 - accuracy: 0.9470 - val_loss: 0.2287 - val_accuracy: 0.8927\n",
            "Epoch 46/50\n",
            "1152/1152 [==============================] - 15s 13ms/step - loss: 0.1528 - accuracy: 0.9540 - val_loss: 0.2294 - val_accuracy: 0.8907\n",
            "Epoch 47/50\n",
            "1152/1152 [==============================] - 15s 13ms/step - loss: 0.1526 - accuracy: 0.9531 - val_loss: 0.2371 - val_accuracy: 0.8947\n",
            "Epoch 48/50\n",
            "1152/1152 [==============================] - 15s 13ms/step - loss: 0.1511 - accuracy: 0.9540 - val_loss: 0.2276 - val_accuracy: 0.8947\n",
            "Epoch 49/50\n",
            "1152/1152 [==============================] - 15s 13ms/step - loss: 0.1487 - accuracy: 0.9505 - val_loss: 0.2296 - val_accuracy: 0.8947\n",
            "Epoch 50/50\n",
            "1152/1152 [==============================] - 15s 13ms/step - loss: 0.1467 - accuracy: 0.9575 - val_loss: 0.2263 - val_accuracy: 0.8927\n"
          ],
          "name": "stdout"
        }
      ]
    },
    {
      "cell_type": "code",
      "metadata": {
        "id": "o0TBfA8e3Kk8",
        "colab_type": "code",
        "colab": {}
      },
      "source": [
        "ta=history.history['accuracy']"
      ],
      "execution_count": 52,
      "outputs": []
    },
    {
      "cell_type": "code",
      "metadata": {
        "id": "NvGkkUhF8Y4-",
        "colab_type": "code",
        "colab": {}
      },
      "source": [
        "va=history.history['val_accuracy']"
      ],
      "execution_count": 53,
      "outputs": []
    },
    {
      "cell_type": "code",
      "metadata": {
        "id": "KYw8V5Qb8ceW",
        "colab_type": "code",
        "colab": {}
      },
      "source": [
        "vl=history.history['val_loss']"
      ],
      "execution_count": 54,
      "outputs": []
    },
    {
      "cell_type": "code",
      "metadata": {
        "id": "oFGQqwRr8jpV",
        "colab_type": "code",
        "colab": {}
      },
      "source": [
        "tl=history.history['loss']"
      ],
      "execution_count": 55,
      "outputs": []
    },
    {
      "cell_type": "code",
      "metadata": {
        "id": "4TqPHEBt8mah",
        "colab_type": "code",
        "colab": {}
      },
      "source": [
        "import matplotlib.pyplot as plt\n"
      ],
      "execution_count": 56,
      "outputs": []
    },
    {
      "cell_type": "code",
      "metadata": {
        "id": "PCoKImqq8r3f",
        "colab_type": "code",
        "colab": {
          "base_uri": "https://localhost:8080/",
          "height": 282
        },
        "outputId": "d8bc1f16-1ce1-4593-c83a-ee946fa5a93a"
      },
      "source": [
        "plt.plot(ta)\n",
        "plt.plot(va)"
      ],
      "execution_count": 57,
      "outputs": [
        {
          "output_type": "execute_result",
          "data": {
            "text/plain": [
              "[<matplotlib.lines.Line2D at 0x7ff4e88e8748>]"
            ]
          },
          "metadata": {
            "tags": []
          },
          "execution_count": 57
        },
        {
          "output_type": "display_data",
          "data": {
            "image/png": "[encoded data removed]",
            "text/plain": [
              "<Figure size 432x288 with 1 Axes>"
            ]
          },
          "metadata": {
            "tags": [],
            "needs_background": "light"
          }
        }
      ]
    },
    {
      "cell_type": "code",
      "metadata": {
        "id": "te6lC4or860l",
        "colab_type": "code",
        "colab": {
          "base_uri": "https://localhost:8080/",
          "height": 282
        },
        "outputId": "b47cc7ed-3b73-4c32-9ce3-0928be80b69b"
      },
      "source": [
        "plt.plot(tl)\n",
        "plt.plot(vl)"
      ],
      "execution_count": 58,
      "outputs": [
        {
          "output_type": "execute_result",
          "data": {
            "text/plain": [
              "[<matplotlib.lines.Line2D at 0x7ff4e88e8a90>]"
            ]
          },
          "metadata": {
            "tags": []
          },
          "execution_count": 58
        },
        {
          "output_type": "display_data",
          "data": {
            "image/png": "[encoded data removed]",
            "text/plain": [
              "<Figure size 432x288 with 1 Axes>"
            ]
          },
          "metadata": {
            "tags": [],
            "needs_background": "light"
          }
        }
      ]
    },
    {
      "cell_type": "code",
      "metadata": {
        "id": "BkUUSfZm9C9D",
        "colab_type": "code",
        "colab": {}
      },
      "source": [
        "test_data=pd.read_csv('/content/drive/My Drive/Image Recpgnition/test_vc2kHdQ.csv')"
      ],
      "execution_count": 92,
      "outputs": []
    },
    {
      "cell_type": "code",
      "metadata": {
        "id": "gMKd4cpE-Q8C",
        "colab_type": "code",
        "colab": {
          "base_uri": "https://localhost:8080/",
          "height": 204
        },
        "outputId": "430c5e07-4f72-467b-d62f-1b0a313ecd52"
      },
      "source": [
        "test_data.head()"
      ],
      "execution_count": 93,
      "outputs": [
        {
          "output_type": "execute_result",
          "data": {
            "text/html": [
              "<div>\n",
              "<style scoped>\n",
              "    .dataframe tbody tr th:only-of-type {\n",
              "        vertical-align: middle;\n",
              "    }\n",
              "\n",
              "    .dataframe tbody tr th {\n",
              "        vertical-align: top;\n",
              "    }\n",
              "\n",
              "    .dataframe thead th {\n",
              "        text-align: right;\n",
              "    }\n",
              "</style>\n",
              "<table border=\"1\" class=\"dataframe\">\n",
              "  <thead>\n",
              "    <tr style=\"text-align: right;\">\n",
              "      <th></th>\n",
              "      <th>image_names</th>\n",
              "    </tr>\n",
              "  </thead>\n",
              "  <tbody>\n",
              "    <tr>\n",
              "      <th>0</th>\n",
              "      <td>1960.jpg</td>\n",
              "    </tr>\n",
              "    <tr>\n",
              "      <th>1</th>\n",
              "      <td>668.jpg</td>\n",
              "    </tr>\n",
              "    <tr>\n",
              "      <th>2</th>\n",
              "      <td>2082.jpg</td>\n",
              "    </tr>\n",
              "    <tr>\n",
              "      <th>3</th>\n",
              "      <td>808.jpg</td>\n",
              "    </tr>\n",
              "    <tr>\n",
              "      <th>4</th>\n",
              "      <td>1907.jpg</td>\n",
              "    </tr>\n",
              "  </tbody>\n",
              "</table>\n",
              "</div>"
            ],
            "text/plain": [
              "  image_names\n",
              "0    1960.jpg\n",
              "1     668.jpg\n",
              "2    2082.jpg\n",
              "3     808.jpg\n",
              "4    1907.jpg"
            ]
          },
          "metadata": {
            "tags": []
          },
          "execution_count": 93
        }
      ]
    },
    {
      "cell_type": "code",
      "metadata": {
        "id": "zx16GaCt-iAi",
        "colab_type": "code",
        "colab": {}
      },
      "source": [
        "test_image=[]"
      ],
      "execution_count": 94,
      "outputs": []
    },
    {
      "cell_type": "code",
      "metadata": {
        "id": "6V6t0LqG-Shv",
        "colab_type": "code",
        "colab": {
          "base_uri": "https://localhost:8080/",
          "height": 408
        },
        "outputId": "e8fe062d-2768-4b5b-d683-005afbfd2833"
      },
      "source": [
        "for i in tqdm(range(test_data.shape[0])):\n",
        "  img=image.load_img('/content/drive/My Drive/Image Recpgnition/images/'+test_data['image_names'][i],target_size=(224,224),grayscale=False)\n",
        "  img=img_to_array(img)\n",
        "  img=img/255\n",
        "  test_image.append(img)\n",
        "test_pro=np.array(test_image)  "
      ],
      "execution_count": 95,
      "outputs": [
        {
          "output_type": "stream",
          "text": [
            "\n",
            "  0%|          | 0/706 [00:00<?, ?it/s]\u001b[A\n",
            "  4%|▍         | 31/706 [00:00<00:02, 303.92it/s]\u001b[A\n",
            "  8%|▊         | 59/706 [00:00<00:02, 295.45it/s]\u001b[A\n",
            " 13%|█▎        | 92/706 [00:00<00:02, 304.69it/s]\u001b[A\n",
            " 18%|█▊        | 125/706 [00:00<00:01, 311.20it/s]\u001b[A\n",
            " 23%|██▎       | 159/706 [00:00<00:01, 319.17it/s]\u001b[A\n",
            " 27%|██▋       | 193/706 [00:00<00:01, 323.06it/s]\u001b[A\n",
            " 32%|███▏      | 226/706 [00:00<00:01, 324.74it/s]\u001b[A\n",
            " 37%|███▋      | 258/706 [00:00<00:01, 322.91it/s]\u001b[A\n",
            " 42%|████▏     | 293/706 [00:00<00:01, 329.14it/s]\u001b[A\n",
            " 46%|████▌     | 325/706 [00:01<00:01, 322.18it/s]\u001b[A\n",
            " 51%|█████     | 359/706 [00:01<00:01, 325.94it/s]\u001b[A\n",
            " 56%|█████▌    | 392/706 [00:01<00:00, 325.70it/s]\u001b[A\n",
            " 60%|██████    | 426/706 [00:01<00:00, 327.22it/s]\u001b[A\n",
            " 65%|██████▌   | 459/706 [00:01<00:00, 325.10it/s]\u001b[A\n",
            " 70%|██████▉   | 493/706 [00:01<00:00, 328.52it/s]\u001b[A\n",
            " 75%|███████▍  | 527/706 [00:01<00:00, 330.29it/s]\u001b[A\n",
            " 79%|███████▉  | 561/706 [00:01<00:00, 332.65it/s]\u001b[A\n",
            " 84%|████████▍ | 595/706 [00:01<00:00, 328.46it/s]\u001b[A\n",
            " 89%|████████▉ | 628/706 [00:01<00:00, 327.64it/s]\u001b[A\n",
            " 94%|█████████▎| 661/706 [00:02<00:00, 322.81it/s]\u001b[A\n",
            "100%|██████████| 706/706 [00:02<00:00, 323.77it/s]\n"
          ],
          "name": "stderr"
        }
      ]
    },
    {
      "cell_type": "code",
      "metadata": {
        "id": "slrvx2zz-wt6",
        "colab_type": "code",
        "colab": {
          "base_uri": "https://localhost:8080/",
          "height": 34
        },
        "outputId": "a6aabdd4-55e8-445a-bc2e-5a8f9189a432"
      },
      "source": [
        "test_pro.shape"
      ],
      "execution_count": 96,
      "outputs": [
        {
          "output_type": "execute_result",
          "data": {
            "text/plain": [
              "(706, 224, 224, 3)"
            ]
          },
          "metadata": {
            "tags": []
          },
          "execution_count": 96
        }
      ]
    },
    {
      "cell_type": "code",
      "metadata": {
        "id": "KBG7WRm4Ag-I",
        "colab_type": "code",
        "colab": {
          "base_uri": "https://localhost:8080/",
          "height": 1000
        },
        "outputId": "48a44065-07cf-4653-9ced-430ca29df127"
      },
      "source": [
        "model.predict(test_pro).astype(int)"
      ],
      "execution_count": 98,
      "outputs": [
        {
          "output_type": "execute_result",
          "data": {
            "text/plain": [
              "array([[0],\n",
              "       [0],\n",
              "       [0],\n",
              "       [0],\n",
              "       [0],\n",
              "       [0],\n",
              "       [0],\n",
              "       [0],\n",
              "       [0],\n",
              "       [0],\n",
              "       [0],\n",
              "       [0],\n",
              "       [0],\n",
              "       [0],\n",
              "       [0],\n",
              "       [0],\n",
              "       [0],\n",
              "       [0],\n",
              "       [0],\n",
              "       [0],\n",
              "       [0],\n",
              "       [0],\n",
              "       [0],\n",
              "       [0],\n",
              "       [0],\n",
              "       [0],\n",
              "       [0],\n",
              "       [0],\n",
              "       [0],\n",
              "       [0],\n",
              "       [0],\n",
              "       [0],\n",
              "       [0],\n",
              "       [0],\n",
              "       [0],\n",
              "       [0],\n",
              "       [0],\n",
              "       [0],\n",
              "       [0],\n",
              "       [0],\n",
              "       [0],\n",
              "       [0],\n",
              "       [0],\n",
              "       [0],\n",
              "       [0],\n",
              "       [0],\n",
              "       [0],\n",
              "       [0],\n",
              "       [0],\n",
              "       [0],\n",
              "       [0],\n",
              "       [0],\n",
              "       [0],\n",
              "       [0],\n",
              "       [0],\n",
              "       [0],\n",
              "       [0],\n",
              "       [0],\n",
              "       [0],\n",
              "       [0],\n",
              "       [0],\n",
              "       [0],\n",
              "       [0],\n",
              "       [0],\n",
              "       [0],\n",
              "       [0],\n",
              "       [0],\n",
              "       [0],\n",
              "       [0],\n",
              "       [0],\n",
              "       [0],\n",
              "       [0],\n",
              "       [0],\n",
              "       [0],\n",
              "       [0],\n",
              "       [0],\n",
              "       [0],\n",
              "       [0],\n",
              "       [0],\n",
              "       [0],\n",
              "       [0],\n",
              "       [0],\n",
              "       [0],\n",
              "       [0],\n",
              "       [0],\n",
              "       [0],\n",
              "       [0],\n",
              "       [0],\n",
              "       [0],\n",
              "       [0],\n",
              "       [0],\n",
              "       [0],\n",
              "       [0],\n",
              "       [0],\n",
              "       [0],\n",
              "       [0],\n",
              "       [0],\n",
              "       [0],\n",
              "       [0],\n",
              "       [0],\n",
              "       [0],\n",
              "       [0],\n",
              "       [0],\n",
              "       [0],\n",
              "       [0],\n",
              "       [0],\n",
              "       [0],\n",
              "       [0],\n",
              "       [0],\n",
              "       [0],\n",
              "       [0],\n",
              "       [0],\n",
              "       [0],\n",
              "       [0],\n",
              "       [0],\n",
              "       [0],\n",
              "       [0],\n",
              "       [0],\n",
              "       [0],\n",
              "       [0],\n",
              "       [0],\n",
              "       [0],\n",
              "       [0],\n",
              "       [0],\n",
              "       [0],\n",
              "       [0],\n",
              "       [0],\n",
              "       [0],\n",
              "       [0],\n",
              "       [0],\n",
              "       [0],\n",
              "       [0],\n",
              "       [0],\n",
              "       [0],\n",
              "       [0],\n",
              "       [0],\n",
              "       [0],\n",
              "       [0],\n",
              "       [0],\n",
              "       [0],\n",
              "       [0],\n",
              "       [0],\n",
              "       [0],\n",
              "       [0],\n",
              "       [0],\n",
              "       [0],\n",
              "       [0],\n",
              "       [0],\n",
              "       [0],\n",
              "       [0],\n",
              "       [0],\n",
              "       [0],\n",
              "       [0],\n",
              "       [0],\n",
              "       [0],\n",
              "       [0],\n",
              "       [0],\n",
              "       [0],\n",
              "       [0],\n",
              "       [0],\n",
              "       [0],\n",
              "       [0],\n",
              "       [0],\n",
              "       [0],\n",
              "       [0],\n",
              "       [0],\n",
              "       [0],\n",
              "       [0],\n",
              "       [0],\n",
              "       [0],\n",
              "       [0],\n",
              "       [0],\n",
              "       [0],\n",
              "       [0],\n",
              "       [0],\n",
              "       [0],\n",
              "       [0],\n",
              "       [0],\n",
              "       [0],\n",
              "       [0],\n",
              "       [0],\n",
              "       [0],\n",
              "       [0],\n",
              "       [0],\n",
              "       [0],\n",
              "       [0],\n",
              "       [0],\n",
              "       [0],\n",
              "       [0],\n",
              "       [0],\n",
              "       [0],\n",
              "       [0],\n",
              "       [0],\n",
              "       [0],\n",
              "       [0],\n",
              "       [0],\n",
              "       [0],\n",
              "       [0],\n",
              "       [0],\n",
              "       [0],\n",
              "       [0],\n",
              "       [0],\n",
              "       [0],\n",
              "       [0],\n",
              "       [0],\n",
              "       [0],\n",
              "       [0],\n",
              "       [0],\n",
              "       [0],\n",
              "       [0],\n",
              "       [0],\n",
              "       [0],\n",
              "       [0],\n",
              "       [0],\n",
              "       [0],\n",
              "       [0],\n",
              "       [0],\n",
              "       [0],\n",
              "       [0],\n",
              "       [0],\n",
              "       [0],\n",
              "       [0],\n",
              "       [0],\n",
              "       [0],\n",
              "       [0],\n",
              "       [0],\n",
              "       [0],\n",
              "       [0],\n",
              "       [0],\n",
              "       [0],\n",
              "       [0],\n",
              "       [0],\n",
              "       [0],\n",
              "       [0],\n",
              "       [0],\n",
              "       [0],\n",
              "       [0],\n",
              "       [0],\n",
              "       [0],\n",
              "       [0],\n",
              "       [0],\n",
              "       [0],\n",
              "       [0],\n",
              "       [0],\n",
              "       [0],\n",
              "       [0],\n",
              "       [0],\n",
              "       [0],\n",
              "       [0],\n",
              "       [0],\n",
              "       [0],\n",
              "       [0],\n",
              "       [0],\n",
              "       [0],\n",
              "       [0],\n",
              "       [0],\n",
              "       [0],\n",
              "       [0],\n",
              "       [0],\n",
              "       [0],\n",
              "       [0],\n",
              "       [0],\n",
              "       [0],\n",
              "       [0],\n",
              "       [0],\n",
              "       [0],\n",
              "       [0],\n",
              "       [0],\n",
              "       [0],\n",
              "       [0],\n",
              "       [0],\n",
              "       [0],\n",
              "       [0],\n",
              "       [0],\n",
              "       [0],\n",
              "       [0],\n",
              "       [0],\n",
              "       [0],\n",
              "       [0],\n",
              "       [0],\n",
              "       [0],\n",
              "       [0],\n",
              "       [0],\n",
              "       [0],\n",
              "       [0],\n",
              "       [0],\n",
              "       [0],\n",
              "       [0],\n",
              "       [0],\n",
              "       [0],\n",
              "       [0],\n",
              "       [0],\n",
              "       [0],\n",
              "       [0],\n",
              "       [0],\n",
              "       [0],\n",
              "       [0],\n",
              "       [0],\n",
              "       [0],\n",
              "       [0],\n",
              "       [0],\n",
              "       [0],\n",
              "       [0],\n",
              "       [0],\n",
              "       [0],\n",
              "       [0],\n",
              "       [0],\n",
              "       [0],\n",
              "       [0],\n",
              "       [0],\n",
              "       [0],\n",
              "       [0],\n",
              "       [0],\n",
              "       [0],\n",
              "       [0],\n",
              "       [0],\n",
              "       [0],\n",
              "       [0],\n",
              "       [0],\n",
              "       [0],\n",
              "       [0],\n",
              "       [0],\n",
              "       [0],\n",
              "       [0],\n",
              "       [0],\n",
              "       [0],\n",
              "       [0],\n",
              "       [0],\n",
              "       [0],\n",
              "       [0],\n",
              "       [0],\n",
              "       [0],\n",
              "       [0],\n",
              "       [0],\n",
              "       [0],\n",
              "       [0],\n",
              "       [0],\n",
              "       [0],\n",
              "       [0],\n",
              "       [0],\n",
              "       [0],\n",
              "       [0],\n",
              "       [0],\n",
              "       [0],\n",
              "       [0],\n",
              "       [0],\n",
              "       [0],\n",
              "       [0],\n",
              "       [0],\n",
              "       [0],\n",
              "       [0],\n",
              "       [0],\n",
              "       [0],\n",
              "       [0],\n",
              "       [0],\n",
              "       [0],\n",
              "       [0],\n",
              "       [0],\n",
              "       [0],\n",
              "       [0],\n",
              "       [0],\n",
              "       [0],\n",
              "       [0],\n",
              "       [0],\n",
              "       [0],\n",
              "       [0],\n",
              "       [0],\n",
              "       [0],\n",
              "       [0],\n",
              "       [0],\n",
              "       [0],\n",
              "       [0],\n",
              "       [0],\n",
              "       [0],\n",
              "       [0],\n",
              "       [0],\n",
              "       [0],\n",
              "       [0],\n",
              "       [0],\n",
              "       [0],\n",
              "       [0],\n",
              "       [0],\n",
              "       [0],\n",
              "       [0],\n",
              "       [0],\n",
              "       [0],\n",
              "       [0],\n",
              "       [0],\n",
              "       [0],\n",
              "       [0],\n",
              "       [0],\n",
              "       [0],\n",
              "       [0],\n",
              "       [0],\n",
              "       [0],\n",
              "       [0],\n",
              "       [0],\n",
              "       [0],\n",
              "       [0],\n",
              "       [0],\n",
              "       [0],\n",
              "       [0],\n",
              "       [0],\n",
              "       [0],\n",
              "       [0],\n",
              "       [0],\n",
              "       [0],\n",
              "       [0],\n",
              "       [0],\n",
              "       [0],\n",
              "       [0],\n",
              "       [0],\n",
              "       [0],\n",
              "       [0],\n",
              "       [0],\n",
              "       [0],\n",
              "       [0],\n",
              "       [0],\n",
              "       [0],\n",
              "       [0],\n",
              "       [0],\n",
              "       [0],\n",
              "       [0],\n",
              "       [0],\n",
              "       [0],\n",
              "       [0],\n",
              "       [0],\n",
              "       [0],\n",
              "       [0],\n",
              "       [0],\n",
              "       [0],\n",
              "       [0],\n",
              "       [0],\n",
              "       [0],\n",
              "       [0],\n",
              "       [0],\n",
              "       [0],\n",
              "       [0],\n",
              "       [0],\n",
              "       [0],\n",
              "       [0],\n",
              "       [0],\n",
              "       [0],\n",
              "       [0],\n",
              "       [0],\n",
              "       [0],\n",
              "       [0],\n",
              "       [0],\n",
              "       [0],\n",
              "       [0],\n",
              "       [0],\n",
              "       [0],\n",
              "       [0],\n",
              "       [0],\n",
              "       [0],\n",
              "       [0],\n",
              "       [0],\n",
              "       [0],\n",
              "       [0],\n",
              "       [0],\n",
              "       [0],\n",
              "       [0],\n",
              "       [0],\n",
              "       [0],\n",
              "       [0],\n",
              "       [0],\n",
              "       [0],\n",
              "       [0],\n",
              "       [0],\n",
              "       [0],\n",
              "       [0],\n",
              "       [0],\n",
              "       [0],\n",
              "       [0],\n",
              "       [0],\n",
              "       [0],\n",
              "       [0],\n",
              "       [0],\n",
              "       [0],\n",
              "       [0],\n",
              "       [0],\n",
              "       [0],\n",
              "       [0],\n",
              "       [0],\n",
              "       [0],\n",
              "       [0],\n",
              "       [0],\n",
              "       [0],\n",
              "       [0],\n",
              "       [0],\n",
              "       [0],\n",
              "       [0],\n",
              "       [0],\n",
              "       [0],\n",
              "       [0],\n",
              "       [0],\n",
              "       [0],\n",
              "       [0],\n",
              "       [0],\n",
              "       [0],\n",
              "       [0],\n",
              "       [0],\n",
              "       [0],\n",
              "       [0],\n",
              "       [0],\n",
              "       [0],\n",
              "       [0],\n",
              "       [0],\n",
              "       [0],\n",
              "       [0],\n",
              "       [0],\n",
              "       [0],\n",
              "       [0],\n",
              "       [0],\n",
              "       [0],\n",
              "       [0],\n",
              "       [0],\n",
              "       [0],\n",
              "       [0],\n",
              "       [0],\n",
              "       [0],\n",
              "       [0],\n",
              "       [0],\n",
              "       [0],\n",
              "       [0],\n",
              "       [0],\n",
              "       [0],\n",
              "       [0],\n",
              "       [0],\n",
              "       [0],\n",
              "       [0],\n",
              "       [0],\n",
              "       [0],\n",
              "       [0],\n",
              "       [0],\n",
              "       [0],\n",
              "       [0],\n",
              "       [0],\n",
              "       [0],\n",
              "       [0],\n",
              "       [0],\n",
              "       [0],\n",
              "       [0],\n",
              "       [0],\n",
              "       [0],\n",
              "       [0],\n",
              "       [0],\n",
              "       [0],\n",
              "       [0],\n",
              "       [0],\n",
              "       [0],\n",
              "       [0],\n",
              "       [0],\n",
              "       [0],\n",
              "       [0],\n",
              "       [0],\n",
              "       [0],\n",
              "       [0],\n",
              "       [0],\n",
              "       [0],\n",
              "       [0],\n",
              "       [0],\n",
              "       [0],\n",
              "       [0],\n",
              "       [0],\n",
              "       [0],\n",
              "       [0],\n",
              "       [0],\n",
              "       [0],\n",
              "       [0],\n",
              "       [0],\n",
              "       [0],\n",
              "       [0],\n",
              "       [0],\n",
              "       [0],\n",
              "       [0],\n",
              "       [0],\n",
              "       [0],\n",
              "       [0],\n",
              "       [0],\n",
              "       [0],\n",
              "       [0],\n",
              "       [0],\n",
              "       [0],\n",
              "       [0],\n",
              "       [0],\n",
              "       [0],\n",
              "       [0],\n",
              "       [0],\n",
              "       [0],\n",
              "       [0],\n",
              "       [0],\n",
              "       [0],\n",
              "       [0],\n",
              "       [0],\n",
              "       [0],\n",
              "       [0],\n",
              "       [0],\n",
              "       [0],\n",
              "       [0],\n",
              "       [0],\n",
              "       [0],\n",
              "       [0],\n",
              "       [0],\n",
              "       [0],\n",
              "       [0],\n",
              "       [0],\n",
              "       [0],\n",
              "       [0],\n",
              "       [0],\n",
              "       [0],\n",
              "       [0],\n",
              "       [0],\n",
              "       [0],\n",
              "       [0],\n",
              "       [0],\n",
              "       [0],\n",
              "       [0],\n",
              "       [0],\n",
              "       [0],\n",
              "       [0],\n",
              "       [0],\n",
              "       [0],\n",
              "       [0],\n",
              "       [0],\n",
              "       [0],\n",
              "       [0],\n",
              "       [0],\n",
              "       [0],\n",
              "       [0],\n",
              "       [0],\n",
              "       [0],\n",
              "       [0],\n",
              "       [0],\n",
              "       [0],\n",
              "       [0],\n",
              "       [0],\n",
              "       [0],\n",
              "       [0],\n",
              "       [0],\n",
              "       [0],\n",
              "       [0],\n",
              "       [0],\n",
              "       [0],\n",
              "       [0],\n",
              "       [0],\n",
              "       [0],\n",
              "       [0],\n",
              "       [0],\n",
              "       [0],\n",
              "       [0],\n",
              "       [0],\n",
              "       [0],\n",
              "       [0],\n",
              "       [0],\n",
              "       [0],\n",
              "       [0],\n",
              "       [0],\n",
              "       [0],\n",
              "       [0],\n",
              "       [0],\n",
              "       [0],\n",
              "       [0],\n",
              "       [0],\n",
              "       [0],\n",
              "       [0],\n",
              "       [0],\n",
              "       [0],\n",
              "       [0],\n",
              "       [0],\n",
              "       [0],\n",
              "       [0],\n",
              "       [0],\n",
              "       [0],\n",
              "       [0],\n",
              "       [0],\n",
              "       [0],\n",
              "       [0],\n",
              "       [0],\n",
              "       [0],\n",
              "       [0],\n",
              "       [0],\n",
              "       [0],\n",
              "       [0],\n",
              "       [0],\n",
              "       [0],\n",
              "       [0],\n",
              "       [0],\n",
              "       [0],\n",
              "       [0],\n",
              "       [0],\n",
              "       [0],\n",
              "       [0],\n",
              "       [0],\n",
              "       [0],\n",
              "       [0],\n",
              "       [0],\n",
              "       [0],\n",
              "       [0],\n",
              "       [0],\n",
              "       [0],\n",
              "       [0],\n",
              "       [0],\n",
              "       [0],\n",
              "       [0],\n",
              "       [0]])"
            ]
          },
          "metadata": {
            "tags": []
          },
          "execution_count": 98
        }
      ]
    },
    {
      "cell_type": "code",
      "metadata": {
        "id": "PrOalTFOAlgn",
        "colab_type": "code",
        "colab": {
          "base_uri": "https://localhost:8080/",
          "height": 34
        },
        "outputId": "3af7e1d0-b772-4210-bad2-a83e9d970fb5"
      },
      "source": [
        "len(out)"
      ],
      "execution_count": 74,
      "outputs": [
        {
          "output_type": "execute_result",
          "data": {
            "text/plain": [
              "706"
            ]
          },
          "metadata": {
            "tags": []
          },
          "execution_count": 74
        }
      ]
    },
    {
      "cell_type": "code",
      "metadata": {
        "id": "SZui07XQBX4j",
        "colab_type": "code",
        "colab": {}
      },
      "source": [
        "for i in range(len(out)):\n",
        "  if out[i]>0:\n",
        "    out[i]=1\n",
        "  else:\n",
        "    out[i]=0  "
      ],
      "execution_count": 75,
      "outputs": []
    },
    {
      "cell_type": "code",
      "metadata": {
        "id": "eh-Zup8qCdCQ",
        "colab_type": "code",
        "colab": {
          "base_uri": "https://localhost:8080/",
          "height": 34
        },
        "outputId": "efdcfa1a-5ab5-48b0-fab3-bf8511b5b69f"
      },
      "source": [
        "out[1]"
      ],
      "execution_count": 76,
      "outputs": [
        {
          "output_type": "execute_result",
          "data": {
            "text/plain": [
              "array([1.], dtype=float32)"
            ]
          },
          "metadata": {
            "tags": []
          },
          "execution_count": 76
        }
      ]
    },
    {
      "cell_type": "code",
      "metadata": {
        "id": "1GpZX6mLCpZv",
        "colab_type": "code",
        "colab": {}
      },
      "source": [
        "predictions=out.astype(int)"
      ],
      "execution_count": 78,
      "outputs": []
    },
    {
      "cell_type": "code",
      "metadata": {
        "id": "hjc3GRdPCu89",
        "colab_type": "code",
        "colab": {
          "base_uri": "https://localhost:8080/",
          "height": 34
        },
        "outputId": "64180e5f-0331-4ff8-fbfd-2fab7dd0104f"
      },
      "source": [
        "len(predictions)"
      ],
      "execution_count": 79,
      "outputs": [
        {
          "output_type": "execute_result",
          "data": {
            "text/plain": [
              "706"
            ]
          },
          "metadata": {
            "tags": []
          },
          "execution_count": 79
        }
      ]
    },
    {
      "cell_type": "code",
      "metadata": {
        "id": "0BHDXkrRC1_V",
        "colab_type": "code",
        "colab": {}
      },
      "source": [
        "result=pd.DataFrame(predictions)"
      ],
      "execution_count": 81,
      "outputs": []
    },
    {
      "cell_type": "code",
      "metadata": {
        "id": "XxTtZLFjDPU2",
        "colab_type": "code",
        "colab": {}
      },
      "source": [
        "result.rename(columns={0:'emergency_or_not'},inplace=True)"
      ],
      "execution_count": 86,
      "outputs": []
    },
    {
      "cell_type": "code",
      "metadata": {
        "id": "ACJFRLPfDZ7u",
        "colab_type": "code",
        "colab": {}
      },
      "source": [
        "vgg_result=pd.concat([test_data,result],axis='columns')"
      ],
      "execution_count": 88,
      "outputs": []
    },
    {
      "cell_type": "code",
      "metadata": {
        "id": "pWLsT2fFD57G",
        "colab_type": "code",
        "colab": {
          "base_uri": "https://localhost:8080/",
          "height": 51
        },
        "outputId": "d3ec11d5-d7bb-4e38-bd6b-30f143242ba4"
      },
      "source": [
        "vgg_result['emergency_or_not'].value_counts()"
      ],
      "execution_count": 90,
      "outputs": [
        {
          "output_type": "execute_result",
          "data": {
            "text/plain": [
              "1    706\n",
              "Name: emergency_or_not, dtype: int64"
            ]
          },
          "metadata": {
            "tags": []
          },
          "execution_count": 90
        }
      ]
    },
    {
      "cell_type": "code",
      "metadata": {
        "id": "m9rot4kJEAOw",
        "colab_type": "code",
        "colab": {
          "base_uri": "https://localhost:8080/",
          "height": 241
        },
        "outputId": "b1f1c4aa-4561-4106-b902-fd75a3650409"
      },
      "source": [
        "load_img('/content/drive/My Drive/Image Recpgnition/images/1960.jpg')"
      ],
      "execution_count": 91,
      "outputs": [
        {
          "output_type": "execute_result",
          "data": {
            "image/png": "[encoded data removed]",
            "text/plain": [
              "<PIL.JpegImagePlugin.JpegImageFile image mode=RGB size=224x224 at 0x7FF4E82387F0>"
            ]
          },
          "metadata": {
            "tags": []
          },
          "execution_count": 91
        }
      ]
    },
    {
      "cell_type": "code",
      "metadata": {
        "id": "9BR8iFcCEU0p",
        "colab_type": "code",
        "colab": {
          "base_uri": "https://localhost:8080/",
          "height": 68
        },
        "outputId": "e92a4863-cec5-4f17-e32b-a0e063f2eefb"
      },
      "source": [
        "train_data['emergency_or_not'].value_counts()"
      ],
      "execution_count": 99,
      "outputs": [
        {
          "output_type": "execute_result",
          "data": {
            "text/plain": [
              "0    965\n",
              "1    681\n",
              "Name: emergency_or_not, dtype: int64"
            ]
          },
          "metadata": {
            "tags": []
          },
          "execution_count": 99
        }
      ]
    },
    {
      "cell_type": "code",
      "metadata": {
        "id": "cjW48rgbFF4Y",
        "colab_type": "code",
        "colab": {}
      },
      "source": [
        ""
      ],
      "execution_count": null,
      "outputs": []
    }
  ]
}