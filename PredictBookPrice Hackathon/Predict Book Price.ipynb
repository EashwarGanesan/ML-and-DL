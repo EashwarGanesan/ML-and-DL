{
 "cells": [
  {
   "cell_type": "code",
   "execution_count": 112,
   "metadata": {},
   "outputs": [],
   "source": [
    "import pandas as pd\n",
    "import numpy as np\n",
    "from sklearn.preprocessing import LabelEncoder\n",
    "import seaborn as sns\n",
    "from sklearn.model_selection import train_test_split\n",
    "from sklearn.preprocessing import StandardScaler,MinMaxScaler\n",
    "from sklearn.linear_model import LinearRegression\n",
    "from sklearn.tree import DecisionTreeRegressor\n",
    "from sklearn.ensemble import RandomForestRegressor\n",
    "from sklearn.ensemble import AdaBoostRegressor\n",
    "from sklearn.model_selection import GridSearchCV\n",
    "from sklearn.metrics import mean_absolute_error,mean_squared_error\n",
    "import xgboost as xgb"
   ]
  },
  {
   "cell_type": "code",
   "execution_count": 105,
   "metadata": {},
   "outputs": [
    {
     "name": "stdout",
     "output_type": "stream",
     "text": [
      "Collecting xgboost\n",
      "  Downloading https://files.pythonhosted.org/packages/5e/49/b95c037b717b4ceadc76b6e164603471225c27052d1611d5a2e832757945/xgboost-0.90-py2.py3-none-win_amd64.whl (18.3MB)\n",
      "Requirement already satisfied: scipy in c:\\users\\dell\\anaconda3\\lib\\site-packages (from xgboost) (1.3.1)\n",
      "Requirement already satisfied: numpy in c:\\users\\dell\\anaconda3\\lib\\site-packages (from xgboost) (1.16.5)\n",
      "Installing collected packages: xgboost\n",
      "Successfully installed xgboost-0.90\n",
      "Note: you may need to restart the kernel to use updated packages.\n"
     ]
    }
   ],
   "source": [
    "pip install xgboost"
   ]
  },
  {
   "cell_type": "code",
   "execution_count": 47,
   "metadata": {},
   "outputs": [],
   "source": [
    "train_data=pd.read_excel(\"Data_Train.xlsx\")"
   ]
  },
  {
   "cell_type": "code",
   "execution_count": 48,
   "metadata": {},
   "outputs": [],
   "source": [
    "test_data=pd.read_excel(\"Data_Test.xlsx\")"
   ]
  },
  {
   "cell_type": "code",
   "execution_count": 49,
   "metadata": {},
   "outputs": [
    {
     "name": "stderr",
     "output_type": "stream",
     "text": [
      "C:\\Users\\Dell\\Anaconda3\\lib\\site-packages\\ipykernel_launcher.py:1: FutureWarning: Sorting because non-concatenation axis is not aligned. A future version\n",
      "of pandas will change to not sort by default.\n",
      "\n",
      "To accept the future behavior, pass 'sort=False'.\n",
      "\n",
      "To retain the current behavior and silence the warning, pass 'sort=True'.\n",
      "\n",
      "  \"\"\"Entry point for launching an IPython kernel.\n"
     ]
    }
   ],
   "source": [
    "data=pd.concat([train_data,test_data],axis='index')"
   ]
  },
  {
   "cell_type": "code",
   "execution_count": 50,
   "metadata": {},
   "outputs": [
    {
     "data": {
      "text/plain": [
       "Author             0\n",
       "BookCategory       0\n",
       "Edition            0\n",
       "Genre              0\n",
       "Price           1560\n",
       "Ratings            0\n",
       "Reviews            0\n",
       "Synopsis           0\n",
       "Title              0\n",
       "dtype: int64"
      ]
     },
     "execution_count": 50,
     "metadata": {},
     "output_type": "execute_result"
    }
   ],
   "source": [
    "data.isna().sum()"
   ]
  },
  {
   "cell_type": "code",
   "execution_count": 10,
   "metadata": {},
   "outputs": [
    {
     "data": {
      "text/plain": [
       "Index(['Author', 'BookCategory', 'Edition', 'Genre', 'Price', 'Ratings',\n",
       "       'Reviews', 'Synopsis', 'Title'],\n",
       "      dtype='object')"
      ]
     },
     "execution_count": 10,
     "metadata": {},
     "output_type": "execute_result"
    }
   ],
   "source": [
    "data.columns"
   ]
  },
  {
   "cell_type": "code",
   "execution_count": 11,
   "metadata": {},
   "outputs": [
    {
     "data": {
      "text/plain": [
       "Agatha Christie    87\n",
       "Ladybird           63\n",
       "DK                 61\n",
       "Albert Uderzo      48\n",
       "Nora Roberts       40\n",
       "                   ..\n",
       "Kari Hotakainen     1\n",
       "WEBB                1\n",
       "Meena Kandasamy     1\n",
       "Ranjit Mereddy      1\n",
       "Robin Norwood       1\n",
       "Name: Author, Length: 4372, dtype: int64"
      ]
     },
     "execution_count": 11,
     "metadata": {},
     "output_type": "execute_result"
    }
   ],
   "source": [
    "data['Author'].value_counts()"
   ]
  },
  {
   "cell_type": "code",
   "execution_count": 51,
   "metadata": {},
   "outputs": [],
   "source": [
    "label=LabelEncoder()"
   ]
  },
  {
   "cell_type": "code",
   "execution_count": 52,
   "metadata": {},
   "outputs": [],
   "source": [
    "data['Author']=label.fit_transform(data['Author'])"
   ]
  },
  {
   "cell_type": "code",
   "execution_count": 53,
   "metadata": {},
   "outputs": [
    {
     "data": {
      "text/plain": [
       "Action & Adventure                      1036\n",
       "Crime, Thriller & Mystery                878\n",
       "Comics & Mangas                          744\n",
       "Language, Linguistics & Writing          733\n",
       "Biographies, Diaries & True Accounts     732\n",
       "Romance                                  702\n",
       "Humour                                   670\n",
       "Computing, Internet & Digital Media      648\n",
       "Arts, Film & Photography                 638\n",
       "Sports                                   614\n",
       "Politics                                 402\n",
       "Name: BookCategory, dtype: int64"
      ]
     },
     "execution_count": 53,
     "metadata": {},
     "output_type": "execute_result"
    }
   ],
   "source": [
    "data[\"BookCategory\"].value_counts()"
   ]
  },
  {
   "cell_type": "code",
   "execution_count": 18,
   "metadata": {},
   "outputs": [],
   "source": []
  },
  {
   "cell_type": "code",
   "execution_count": 54,
   "metadata": {},
   "outputs": [
    {
     "data": {
      "text/plain": [
       "Action & Adventure                      1036\n",
       "Crime, Thriller & Mystery                878\n",
       "Comics & Mangas                          744\n",
       "Language, Linguistics & Writing          733\n",
       "Biographies, Diaries & True Accounts     732\n",
       "Romance                                  702\n",
       "Humour                                   670\n",
       "Computing, Internet & Digital Media      648\n",
       "Arts, Film & Photography                 638\n",
       "Sports                                   614\n",
       "Politics                                 402\n",
       "Name: BookCategory, dtype: int64"
      ]
     },
     "execution_count": 54,
     "metadata": {},
     "output_type": "execute_result"
    }
   ],
   "source": [
    "data[\"BookCategory\"].value_counts()"
   ]
  },
  {
   "cell_type": "code",
   "execution_count": 20,
   "metadata": {},
   "outputs": [
    {
     "data": {
      "text/plain": [
       "Index(['Author', 'BookCategory', 'Edition', 'Genre', 'Price', 'Ratings',\n",
       "       'Reviews', 'Synopsis', 'Title'],\n",
       "      dtype='object')"
      ]
     },
     "execution_count": 20,
     "metadata": {},
     "output_type": "execute_result"
    }
   ],
   "source": [
    "data.columns"
   ]
  },
  {
   "cell_type": "code",
   "execution_count": 22,
   "metadata": {},
   "outputs": [
    {
     "data": {
      "text/plain": [
       "Paperback,– 5 Oct 2017                60\n",
       "Paperback,– 2016                      58\n",
       "Paperback,– 2017                      47\n",
       "Paperback,– 2019                      37\n",
       "Paperback,– 2013                      35\n",
       "                                      ..\n",
       "Mass Market Paperback,– 3 Mar 2009     1\n",
       "Paperback,– 12 Jan 2000                1\n",
       "Paperback,– Import, 16 Aug 2017        1\n",
       "Paperback,– Import, 22 Oct 2017        1\n",
       "Paperback,– 31 Dec 1997                1\n",
       "Name: Edition, Length: 3882, dtype: int64"
      ]
     },
     "execution_count": 22,
     "metadata": {},
     "output_type": "execute_result"
    }
   ],
   "source": [
    "data[\"Edition\"].value_counts()"
   ]
  },
  {
   "cell_type": "code",
   "execution_count": 55,
   "metadata": {},
   "outputs": [],
   "source": [
    "data[\"Edition\"]=label.fit_transform(data[\"Edition\"])"
   ]
  },
  {
   "cell_type": "code",
   "execution_count": 56,
   "metadata": {},
   "outputs": [
    {
     "data": {
      "text/plain": [
       "Action & Adventure (Books)               1183\n",
       "Romance (Books)                           517\n",
       "Biographies & Autobiographies (Books)     463\n",
       "Crime, Thriller & Mystery (Books)         335\n",
       "Contemporary Fiction (Books)              325\n",
       "                                         ... \n",
       "Sculpture                                   1\n",
       "Creative Writing & Composition              1\n",
       "Visual C++ Programming                      1\n",
       "Handwriting Reference                       1\n",
       "Chemistry Books                             1\n",
       "Name: Genre, Length: 363, dtype: int64"
      ]
     },
     "execution_count": 56,
     "metadata": {},
     "output_type": "execute_result"
    }
   ],
   "source": [
    "data[\"Genre\"].value_counts()"
   ]
  },
  {
   "cell_type": "code",
   "execution_count": 26,
   "metadata": {},
   "outputs": [
    {
     "data": {
      "text/plain": [
       "363"
      ]
     },
     "execution_count": 26,
     "metadata": {},
     "output_type": "execute_result"
    }
   ],
   "source": [
    "data['Genre'].nunique()"
   ]
  },
  {
   "cell_type": "code",
   "execution_count": 27,
   "metadata": {},
   "outputs": [
    {
     "data": {
      "text/plain": [
       "1 customer review       1328\n",
       "2 customer reviews       886\n",
       "3 customer reviews       613\n",
       "4 customer reviews       444\n",
       "5 customer reviews       379\n",
       "                        ... \n",
       "405 customer reviews       1\n",
       "255 customer reviews       1\n",
       "381 customer reviews       1\n",
       "297 customer reviews       1\n",
       "304 customer reviews       1\n",
       "Name: Ratings, Length: 368, dtype: int64"
      ]
     },
     "execution_count": 27,
     "metadata": {},
     "output_type": "execute_result"
    }
   ],
   "source": [
    "data[\"Ratings\"].value_counts()"
   ]
  },
  {
   "cell_type": "code",
   "execution_count": 29,
   "metadata": {},
   "outputs": [
    {
     "name": "stdout",
     "output_type": "stream",
     "text": [
      "<class 'pandas.core.frame.DataFrame'>\n",
      "Int64Index: 7797 entries, 0 to 1559\n",
      "Data columns (total 9 columns):\n",
      "Author          7797 non-null int32\n",
      "BookCategory    7797 non-null int32\n",
      "Edition         7797 non-null int32\n",
      "Genre           7797 non-null object\n",
      "Price           6237 non-null float64\n",
      "Ratings         7797 non-null object\n",
      "Reviews         7797 non-null object\n",
      "Synopsis        7797 non-null object\n",
      "Title           7797 non-null object\n",
      "dtypes: float64(1), int32(3), object(5)\n",
      "memory usage: 517.8+ KB\n"
     ]
    }
   ],
   "source": [
    "data.info()"
   ]
  },
  {
   "cell_type": "code",
   "execution_count": 57,
   "metadata": {},
   "outputs": [],
   "source": [
    "data[\"Ratings\"]=data[\"Ratings\"].apply(lambda x:x.rstrip(\" customer reviews\"))"
   ]
  },
  {
   "cell_type": "code",
   "execution_count": 64,
   "metadata": {},
   "outputs": [
    {
     "data": {
      "text/plain": [
       "1      1328\n",
       "2       886\n",
       "3       613\n",
       "4       444\n",
       "5       379\n",
       "       ... \n",
       "804       1\n",
       "267       1\n",
       "249       1\n",
       "190       1\n",
       "358       1\n",
       "Name: Ratings, Length: 368, dtype: int64"
      ]
     },
     "execution_count": 64,
     "metadata": {},
     "output_type": "execute_result"
    }
   ],
   "source": [
    "data[\"Ratings\"].value_counts()"
   ]
  },
  {
   "cell_type": "code",
   "execution_count": 63,
   "metadata": {},
   "outputs": [],
   "source": [
    "data[\"Ratings\"]=data[\"Ratings\"].apply(lambda x:x.replace(\",\",\"\"))"
   ]
  },
  {
   "cell_type": "code",
   "execution_count": 66,
   "metadata": {},
   "outputs": [],
   "source": [
    "data[\"Ratings\"]=data[\"Ratings\"].astype(int)"
   ]
  },
  {
   "cell_type": "code",
   "execution_count": 67,
   "metadata": {},
   "outputs": [
    {
     "data": {
      "text/plain": [
       "Index(['Author', 'BookCategory', 'Edition', 'Genre', 'Price', 'Ratings',\n",
       "       'Reviews', 'Synopsis', 'Title'],\n",
       "      dtype='object')"
      ]
     },
     "execution_count": 67,
     "metadata": {},
     "output_type": "execute_result"
    }
   ],
   "source": [
    "data.columns"
   ]
  },
  {
   "cell_type": "code",
   "execution_count": 68,
   "metadata": {},
   "outputs": [
    {
     "data": {
      "text/plain": [
       "5.0 out of 5 stars    1751\n",
       "4.0 out of 5 stars     713\n",
       "4.5 out of 5 stars     626\n",
       "4.6 out of 5 stars     491\n",
       "4.4 out of 5 stars     488\n",
       "4.3 out of 5 stars     450\n",
       "4.7 out of 5 stars     412\n",
       "4.2 out of 5 stars     406\n",
       "4.1 out of 5 stars     381\n",
       "3.9 out of 5 stars     300\n",
       "4.8 out of 5 stars     272\n",
       "3.8 out of 5 stars     239\n",
       "3.7 out of 5 stars     203\n",
       "3.0 out of 5 stars     176\n",
       "3.6 out of 5 stars     145\n",
       "3.5 out of 5 stars     143\n",
       "4.9 out of 5 stars      99\n",
       "3.4 out of 5 stars      92\n",
       "3.3 out of 5 stars      74\n",
       "1.0 out of 5 stars      65\n",
       "3.1 out of 5 stars      57\n",
       "3.2 out of 5 stars      50\n",
       "2.0 out of 5 stars      44\n",
       "2.9 out of 5 stars      36\n",
       "2.5 out of 5 stars      23\n",
       "2.7 out of 5 stars      18\n",
       "2.8 out of 5 stars      12\n",
       "2.3 out of 5 stars       7\n",
       "1.5 out of 5 stars       6\n",
       "2.6 out of 5 stars       5\n",
       "2.4 out of 5 stars       5\n",
       "2.2 out of 5 stars       3\n",
       "1.4 out of 5 stars       2\n",
       "1.6 out of 5 stars       1\n",
       "2.1 out of 5 stars       1\n",
       "1.7 out of 5 stars       1\n",
       "Name: Reviews, dtype: int64"
      ]
     },
     "execution_count": 68,
     "metadata": {},
     "output_type": "execute_result"
    }
   ],
   "source": [
    "data[\"Reviews\"].value_counts()"
   ]
  },
  {
   "cell_type": "code",
   "execution_count": 69,
   "metadata": {},
   "outputs": [
    {
     "name": "stdout",
     "output_type": "stream",
     "text": [
      "<class 'pandas.core.frame.DataFrame'>\n",
      "Int64Index: 7797 entries, 0 to 1559\n",
      "Data columns (total 9 columns):\n",
      "Author          7797 non-null int32\n",
      "BookCategory    7797 non-null object\n",
      "Edition         7797 non-null int32\n",
      "Genre           7797 non-null object\n",
      "Price           6237 non-null float64\n",
      "Ratings         7797 non-null int32\n",
      "Reviews         7797 non-null object\n",
      "Synopsis        7797 non-null object\n",
      "Title           7797 non-null object\n",
      "dtypes: float64(1), int32(3), object(5)\n",
      "memory usage: 517.8+ KB\n"
     ]
    }
   ],
   "source": [
    "data.info()"
   ]
  },
  {
   "cell_type": "code",
   "execution_count": 71,
   "metadata": {},
   "outputs": [],
   "source": [
    "data[\"Reviews\"]=data[\"Reviews\"].apply(lambda x:x.replace(\" out of 5 stars\",\"\"))"
   ]
  },
  {
   "cell_type": "code",
   "execution_count": 73,
   "metadata": {},
   "outputs": [],
   "source": [
    "data[\"Reviews\"]=data[\"Reviews\"].astype(float)"
   ]
  },
  {
   "cell_type": "code",
   "execution_count": 76,
   "metadata": {},
   "outputs": [],
   "source": [
    "data[\"Synopsis\"]=label.fit_transform(data[\"Synopsis\"])"
   ]
  },
  {
   "cell_type": "code",
   "execution_count": 78,
   "metadata": {},
   "outputs": [],
   "source": [
    "data[\"Title\"]=label.fit_transform(data[\"Title\"])"
   ]
  },
  {
   "cell_type": "code",
   "execution_count": 79,
   "metadata": {},
   "outputs": [
    {
     "data": {
      "text/html": [
       "<div>\n",
       "<style scoped>\n",
       "    .dataframe tbody tr th:only-of-type {\n",
       "        vertical-align: middle;\n",
       "    }\n",
       "\n",
       "    .dataframe tbody tr th {\n",
       "        vertical-align: top;\n",
       "    }\n",
       "\n",
       "    .dataframe thead th {\n",
       "        text-align: right;\n",
       "    }\n",
       "</style>\n",
       "<table border=\"1\" class=\"dataframe\">\n",
       "  <thead>\n",
       "    <tr style=\"text-align: right;\">\n",
       "      <th></th>\n",
       "      <th>Author</th>\n",
       "      <th>BookCategory</th>\n",
       "      <th>Edition</th>\n",
       "      <th>Genre</th>\n",
       "      <th>Price</th>\n",
       "      <th>Ratings</th>\n",
       "      <th>Reviews</th>\n",
       "      <th>Synopsis</th>\n",
       "      <th>Title</th>\n",
       "    </tr>\n",
       "  </thead>\n",
       "  <tbody>\n",
       "    <tr>\n",
       "      <td>0</td>\n",
       "      <td>748</td>\n",
       "      <td>Action &amp; Adventure</td>\n",
       "      <td>1231</td>\n",
       "      <td>Action &amp; Adventure (Books)</td>\n",
       "      <td>220.00</td>\n",
       "      <td>8</td>\n",
       "      <td>4.0</td>\n",
       "      <td>4580</td>\n",
       "      <td>5803</td>\n",
       "    </tr>\n",
       "    <tr>\n",
       "      <td>1</td>\n",
       "      <td>370</td>\n",
       "      <td>Biographies, Diaries &amp; True Accounts</td>\n",
       "      <td>3164</td>\n",
       "      <td>Cinema &amp; Broadcast (Books)</td>\n",
       "      <td>202.93</td>\n",
       "      <td>14</td>\n",
       "      <td>3.9</td>\n",
       "      <td>711</td>\n",
       "      <td>2120</td>\n",
       "    </tr>\n",
       "    <tr>\n",
       "      <td>2</td>\n",
       "      <td>4045</td>\n",
       "      <td>Humour</td>\n",
       "      <td>2272</td>\n",
       "      <td>International Relations</td>\n",
       "      <td>299.00</td>\n",
       "      <td>6</td>\n",
       "      <td>4.8</td>\n",
       "      <td>37</td>\n",
       "      <td>2982</td>\n",
       "    </tr>\n",
       "    <tr>\n",
       "      <td>3</td>\n",
       "      <td>79</td>\n",
       "      <td>Crime, Thriller &amp; Mystery</td>\n",
       "      <td>3000</td>\n",
       "      <td>Contemporary Fiction (Books)</td>\n",
       "      <td>180.00</td>\n",
       "      <td>13</td>\n",
       "      <td>4.1</td>\n",
       "      <td>678</td>\n",
       "      <td>189</td>\n",
       "    </tr>\n",
       "    <tr>\n",
       "      <td>4</td>\n",
       "      <td>1138</td>\n",
       "      <td>Arts, Film &amp; Photography</td>\n",
       "      <td>99</td>\n",
       "      <td>Photography Textbooks</td>\n",
       "      <td>965.62</td>\n",
       "      <td>1</td>\n",
       "      <td>5.0</td>\n",
       "      <td>2228</td>\n",
       "      <td>2853</td>\n",
       "    </tr>\n",
       "  </tbody>\n",
       "</table>\n",
       "</div>"
      ],
      "text/plain": [
       "   Author                          BookCategory  Edition  \\\n",
       "0     748                    Action & Adventure     1231   \n",
       "1     370  Biographies, Diaries & True Accounts     3164   \n",
       "2    4045                                Humour     2272   \n",
       "3      79             Crime, Thriller & Mystery     3000   \n",
       "4    1138              Arts, Film & Photography       99   \n",
       "\n",
       "                          Genre   Price  Ratings  Reviews  Synopsis  Title  \n",
       "0    Action & Adventure (Books)  220.00        8      4.0      4580   5803  \n",
       "1    Cinema & Broadcast (Books)  202.93       14      3.9       711   2120  \n",
       "2       International Relations  299.00        6      4.8        37   2982  \n",
       "3  Contemporary Fiction (Books)  180.00       13      4.1       678    189  \n",
       "4         Photography Textbooks  965.62        1      5.0      2228   2853  "
      ]
     },
     "execution_count": 79,
     "metadata": {},
     "output_type": "execute_result"
    }
   ],
   "source": [
    "data.head()"
   ]
  },
  {
   "cell_type": "code",
   "execution_count": 81,
   "metadata": {},
   "outputs": [],
   "source": [
    "data[\"Genre\"]=label.fit_transform(data[\"Genre\"])"
   ]
  },
  {
   "cell_type": "code",
   "execution_count": 82,
   "metadata": {},
   "outputs": [
    {
     "data": {
      "text/html": [
       "<div>\n",
       "<style scoped>\n",
       "    .dataframe tbody tr th:only-of-type {\n",
       "        vertical-align: middle;\n",
       "    }\n",
       "\n",
       "    .dataframe tbody tr th {\n",
       "        vertical-align: top;\n",
       "    }\n",
       "\n",
       "    .dataframe thead th {\n",
       "        text-align: right;\n",
       "    }\n",
       "</style>\n",
       "<table border=\"1\" class=\"dataframe\">\n",
       "  <thead>\n",
       "    <tr style=\"text-align: right;\">\n",
       "      <th></th>\n",
       "      <th>Author</th>\n",
       "      <th>BookCategory</th>\n",
       "      <th>Edition</th>\n",
       "      <th>Genre</th>\n",
       "      <th>Price</th>\n",
       "      <th>Ratings</th>\n",
       "      <th>Reviews</th>\n",
       "      <th>Synopsis</th>\n",
       "      <th>Title</th>\n",
       "    </tr>\n",
       "  </thead>\n",
       "  <tbody>\n",
       "    <tr>\n",
       "      <td>0</td>\n",
       "      <td>748</td>\n",
       "      <td>Action &amp; Adventure</td>\n",
       "      <td>1231</td>\n",
       "      <td>1</td>\n",
       "      <td>220.00</td>\n",
       "      <td>8</td>\n",
       "      <td>4.0</td>\n",
       "      <td>4580</td>\n",
       "      <td>5803</td>\n",
       "    </tr>\n",
       "    <tr>\n",
       "      <td>1</td>\n",
       "      <td>370</td>\n",
       "      <td>Biographies, Diaries &amp; True Accounts</td>\n",
       "      <td>3164</td>\n",
       "      <td>78</td>\n",
       "      <td>202.93</td>\n",
       "      <td>14</td>\n",
       "      <td>3.9</td>\n",
       "      <td>711</td>\n",
       "      <td>2120</td>\n",
       "    </tr>\n",
       "    <tr>\n",
       "      <td>2</td>\n",
       "      <td>4045</td>\n",
       "      <td>Humour</td>\n",
       "      <td>2272</td>\n",
       "      <td>202</td>\n",
       "      <td>299.00</td>\n",
       "      <td>6</td>\n",
       "      <td>4.8</td>\n",
       "      <td>37</td>\n",
       "      <td>2982</td>\n",
       "    </tr>\n",
       "    <tr>\n",
       "      <td>3</td>\n",
       "      <td>79</td>\n",
       "      <td>Crime, Thriller &amp; Mystery</td>\n",
       "      <td>3000</td>\n",
       "      <td>96</td>\n",
       "      <td>180.00</td>\n",
       "      <td>13</td>\n",
       "      <td>4.1</td>\n",
       "      <td>678</td>\n",
       "      <td>189</td>\n",
       "    </tr>\n",
       "    <tr>\n",
       "      <td>4</td>\n",
       "      <td>1138</td>\n",
       "      <td>Arts, Film &amp; Photography</td>\n",
       "      <td>99</td>\n",
       "      <td>264</td>\n",
       "      <td>965.62</td>\n",
       "      <td>1</td>\n",
       "      <td>5.0</td>\n",
       "      <td>2228</td>\n",
       "      <td>2853</td>\n",
       "    </tr>\n",
       "  </tbody>\n",
       "</table>\n",
       "</div>"
      ],
      "text/plain": [
       "   Author                          BookCategory  Edition  Genre   Price  \\\n",
       "0     748                    Action & Adventure     1231      1  220.00   \n",
       "1     370  Biographies, Diaries & True Accounts     3164     78  202.93   \n",
       "2    4045                                Humour     2272    202  299.00   \n",
       "3      79             Crime, Thriller & Mystery     3000     96  180.00   \n",
       "4    1138              Arts, Film & Photography       99    264  965.62   \n",
       "\n",
       "   Ratings  Reviews  Synopsis  Title  \n",
       "0        8      4.0      4580   5803  \n",
       "1       14      3.9       711   2120  \n",
       "2        6      4.8        37   2982  \n",
       "3       13      4.1       678    189  \n",
       "4        1      5.0      2228   2853  "
      ]
     },
     "execution_count": 82,
     "metadata": {},
     "output_type": "execute_result"
    }
   ],
   "source": [
    "data.head()"
   ]
  },
  {
   "cell_type": "code",
   "execution_count": 84,
   "metadata": {},
   "outputs": [
    {
     "data": {
      "text/plain": [
       "<matplotlib.axes._subplots.AxesSubplot at 0x1635147c688>"
      ]
     },
     "execution_count": 84,
     "metadata": {},
     "output_type": "execute_result"
    },
    {
     "data": {
      "image/png": "[encoded data removed]",
      "text/plain": [
       "<Figure size 432x288 with 2 Axes>"
      ]
     },
     "metadata": {
      "needs_background": "light"
     },
     "output_type": "display_data"
    }
   ],
   "source": [
    "sns.heatmap(data.corr())"
   ]
  },
  {
   "cell_type": "code",
   "execution_count": 86,
   "metadata": {},
   "outputs": [],
   "source": [
    "cat_col_data=data.select_dtypes(exclude=np.number)"
   ]
  },
  {
   "cell_type": "code",
   "execution_count": 87,
   "metadata": {},
   "outputs": [],
   "source": [
    "num_col_data=data.select_dtypes(include=np.number)"
   ]
  },
  {
   "cell_type": "code",
   "execution_count": 89,
   "metadata": {},
   "outputs": [],
   "source": [
    "cat_col_processed=pd.get_dummies(cat_col_data)"
   ]
  },
  {
   "cell_type": "code",
   "execution_count": 91,
   "metadata": {},
   "outputs": [],
   "source": [
    "df=pd.concat([cat_col_processed,num_col_data],axis='columns')"
   ]
  },
  {
   "cell_type": "code",
   "execution_count": 98,
   "metadata": {},
   "outputs": [],
   "source": [
    "df_train=df[df['Price'].notna()]"
   ]
  },
  {
   "cell_type": "code",
   "execution_count": 100,
   "metadata": {},
   "outputs": [],
   "source": [
    "df_test=df[df[\"Price\"].isna()]"
   ]
  },
  {
   "cell_type": "code",
   "execution_count": 107,
   "metadata": {},
   "outputs": [],
   "source": [
    "X=df_train.drop(columns={\"Price\"})"
   ]
  },
  {
   "cell_type": "code",
   "execution_count": 109,
   "metadata": {},
   "outputs": [],
   "source": [
    "y=df_train[\"Price\"]"
   ]
  },
  {
   "cell_type": "code",
   "execution_count": null,
   "metadata": {},
   "outputs": [],
   "source": []
  },
  {
   "cell_type": "code",
   "execution_count": 110,
   "metadata": {},
   "outputs": [],
   "source": [
    "train_X, test_X, train_y, test_y = train_test_split(X, y, test_size=0.3, random_state=99)"
   ]
  },
  {
   "cell_type": "code",
   "execution_count": 113,
   "metadata": {},
   "outputs": [],
   "source": [
    "lin=LinearRegression()"
   ]
  },
  {
   "cell_type": "code",
   "execution_count": 114,
   "metadata": {},
   "outputs": [
    {
     "data": {
      "text/plain": [
       "LinearRegression(copy_X=True, fit_intercept=True, n_jobs=None, normalize=False)"
      ]
     },
     "execution_count": 114,
     "metadata": {},
     "output_type": "execute_result"
    }
   ],
   "source": [
    "lin.fit(train_X,train_y)"
   ]
  },
  {
   "cell_type": "code",
   "execution_count": 115,
   "metadata": {},
   "outputs": [],
   "source": [
    "train_pred=lin.predict(train_X)"
   ]
  },
  {
   "cell_type": "code",
   "execution_count": 116,
   "metadata": {},
   "outputs": [],
   "source": [
    "test_pred=lin.predict(test_X)"
   ]
  },
  {
   "cell_type": "code",
   "execution_count": 117,
   "metadata": {},
   "outputs": [
    {
     "name": "stdout",
     "output_type": "stream",
     "text": [
      "RMSE for train: 568.9283164986878\n"
     ]
    }
   ],
   "source": [
    "print(\"RMSE for train:\",np.sqrt(mean_squared_error(train_y,train_pred)))"
   ]
  },
  {
   "cell_type": "code",
   "execution_count": 118,
   "metadata": {},
   "outputs": [
    {
     "name": "stdout",
     "output_type": "stream",
     "text": [
      "RMSE for test: 811.1668795706629\n"
     ]
    }
   ],
   "source": [
    "print(\"RMSE for test:\",np.sqrt(mean_squared_error(test_y,test_pred)))"
   ]
  },
  {
   "cell_type": "code",
   "execution_count": 119,
   "metadata": {},
   "outputs": [],
   "source": [
    "std=StandardScaler()"
   ]
  },
  {
   "cell_type": "code",
   "execution_count": 120,
   "metadata": {},
   "outputs": [],
   "source": [
    "X_std=std.fit_transform(X)"
   ]
  },
  {
   "cell_type": "code",
   "execution_count": 121,
   "metadata": {},
   "outputs": [],
   "source": [
    "nor=MinMaxScaler()"
   ]
  },
  {
   "cell_type": "code",
   "execution_count": 122,
   "metadata": {},
   "outputs": [],
   "source": [
    "X_nor=nor.fit_transform(X)"
   ]
  },
  {
   "cell_type": "code",
   "execution_count": 123,
   "metadata": {},
   "outputs": [],
   "source": [
    "def model_selection(model,X,y):\n",
    "    train_X, test_X, train_y, test_y = train_test_split(X, y, test_size=0.3, random_state=99)\n",
    "    model.fit(train_X,train_y)\n",
    "    train_pred=model.predict(train_X)\n",
    "    test_pred=model.predict(test_X)\n",
    "    print(\"RMSE for train:\",np.sqrt(mean_squared_error(train_y,train_pred)))\n",
    "    print(\"RMSE for test:\",np.sqrt(mean_squared_error(test_y,test_pred)))\n",
    "    \n"
   ]
  },
  {
   "cell_type": "code",
   "execution_count": 124,
   "metadata": {},
   "outputs": [
    {
     "name": "stdout",
     "output_type": "stream",
     "text": [
      "RMSE for train: 568.9586311461791\n",
      "RMSE for test: 811.3346290413834\n"
     ]
    }
   ],
   "source": [
    "model_selection(lin,X_std,y)"
   ]
  },
  {
   "cell_type": "code",
   "execution_count": 126,
   "metadata": {},
   "outputs": [
    {
     "name": "stdout",
     "output_type": "stream",
     "text": [
      "RMSE for train: 568.9307336492149\n",
      "RMSE for test: 811.1975932797493\n"
     ]
    }
   ],
   "source": [
    "model_selection(lin,X_nor,y)"
   ]
  },
  {
   "cell_type": "code",
   "execution_count": 125,
   "metadata": {},
   "outputs": [],
   "source": [
    "tree=DecisionTreeRegressor()"
   ]
  },
  {
   "cell_type": "code",
   "execution_count": 127,
   "metadata": {},
   "outputs": [
    {
     "name": "stdout",
     "output_type": "stream",
     "text": [
      "RMSE for train: 4.631458772235333\n",
      "RMSE for test: 939.5972785622201\n"
     ]
    }
   ],
   "source": [
    "model_selection(tree,X_std,y)"
   ]
  },
  {
   "cell_type": "code",
   "execution_count": 134,
   "metadata": {},
   "outputs": [],
   "source": [
    "rfc=RandomForestRegressor(n_estimators=400,max_depth=15)"
   ]
  },
  {
   "cell_type": "code",
   "execution_count": 135,
   "metadata": {},
   "outputs": [
    {
     "name": "stdout",
     "output_type": "stream",
     "text": [
      "RMSE for train: 228.5126880301201\n",
      "RMSE for test: 779.0021252686819\n"
     ]
    }
   ],
   "source": [
    "model_selection(rfc,X_std,y)"
   ]
  },
  {
   "cell_type": "code",
   "execution_count": 156,
   "metadata": {},
   "outputs": [],
   "source": [
    "# Number of trees in random forest\n",
    "n_estimators = [int(x) for x in np.linspace(start = 100, stop = 1000, num = 10)]\n",
    "# Number of features to consider at every split\n",
    "max_features = ['auto', 'sqrt']\n",
    "# Maximum number of levels in tree\n",
    "max_depth = [int(x) for x in np.linspace(10, 100, num = 10)]\n",
    "max_depth.append(None)\n",
    "# Minimum number of samples required to split a node\n",
    "min_samples_split = [2, 5, 10]\n",
    "# Minimum number of samples required at each leaf node\n",
    "min_samples_leaf = [1, 2, 4]\n",
    "# Method of selecting samples for training each tree\n",
    "bootstrap = [True, False]"
   ]
  },
  {
   "cell_type": "code",
   "execution_count": 157,
   "metadata": {},
   "outputs": [],
   "source": [
    "param_grid={\"n_estimators\":n_estimators,\n",
    "            \"max_depth\":max_depth,\n",
    "            \"min_samples_split\":min_samples_split,\n",
    "           \"min_samples_leaf\":min_samples_leaf}\n",
    "\n",
    "grid_search = GridSearchCV(estimator = rfc, param_grid = param_grid, \n",
    "                          verbose = 2)"
   ]
  },
  {
   "cell_type": "code",
   "execution_count": null,
   "metadata": {},
   "outputs": [
    {
     "name": "stdout",
     "output_type": "stream",
     "text": [
      "Fitting 5 folds for each of 990 candidates, totalling 4950 fits\n",
      "[CV] max_depth=10, min_samples_leaf=1, min_samples_split=2, n_estimators=100 \n"
     ]
    },
    {
     "name": "stderr",
     "output_type": "stream",
     "text": [
      "[Parallel(n_jobs=1)]: Using backend SequentialBackend with 1 concurrent workers.\n"
     ]
    },
    {
     "name": "stdout",
     "output_type": "stream",
     "text": [
      "[CV]  max_depth=10, min_samples_leaf=1, min_samples_split=2, n_estimators=100, total=   4.9s\n",
      "[CV] max_depth=10, min_samples_leaf=1, min_samples_split=2, n_estimators=100 \n"
     ]
    },
    {
     "name": "stderr",
     "output_type": "stream",
     "text": [
      "[Parallel(n_jobs=1)]: Done   1 out of   1 | elapsed:    4.8s remaining:    0.0s\n"
     ]
    },
    {
     "name": "stdout",
     "output_type": "stream",
     "text": [
      "[CV]  max_depth=10, min_samples_leaf=1, min_samples_split=2, n_estimators=100, total=   4.9s\n",
      "[CV] max_depth=10, min_samples_leaf=1, min_samples_split=2, n_estimators=100 \n",
      "[CV]  max_depth=10, min_samples_leaf=1, min_samples_split=2, n_estimators=100, total=   4.2s\n",
      "[CV] max_depth=10, min_samples_leaf=1, min_samples_split=2, n_estimators=100 \n",
      "[CV]  max_depth=10, min_samples_leaf=1, min_samples_split=2, n_estimators=100, total=   4.4s\n",
      "[CV] max_depth=10, min_samples_leaf=1, min_samples_split=2, n_estimators=100 \n",
      "[CV]  max_depth=10, min_samples_leaf=1, min_samples_split=2, n_estimators=100, total=   4.7s\n",
      "[CV] max_depth=10, min_samples_leaf=1, min_samples_split=2, n_estimators=200 \n",
      "[CV]  max_depth=10, min_samples_leaf=1, min_samples_split=2, n_estimators=200, total=   8.6s\n",
      "[CV] max_depth=10, min_samples_leaf=1, min_samples_split=2, n_estimators=200 \n",
      "[CV]  max_depth=10, min_samples_leaf=1, min_samples_split=2, n_estimators=200, total=   9.1s\n",
      "[CV] max_depth=10, min_samples_leaf=1, min_samples_split=2, n_estimators=200 \n",
      "[CV]  max_depth=10, min_samples_leaf=1, min_samples_split=2, n_estimators=200, total=   8.2s\n",
      "[CV] max_depth=10, min_samples_leaf=1, min_samples_split=2, n_estimators=200 \n",
      "[CV]  max_depth=10, min_samples_leaf=1, min_samples_split=2, n_estimators=200, total=   9.6s\n",
      "[CV] max_depth=10, min_samples_leaf=1, min_samples_split=2, n_estimators=200 \n",
      "[CV]  max_depth=10, min_samples_leaf=1, min_samples_split=2, n_estimators=200, total=   8.7s\n",
      "[CV] max_depth=10, min_samples_leaf=1, min_samples_split=2, n_estimators=300 \n",
      "[CV]  max_depth=10, min_samples_leaf=1, min_samples_split=2, n_estimators=300, total=  13.2s\n",
      "[CV] max_depth=10, min_samples_leaf=1, min_samples_split=2, n_estimators=300 \n",
      "[CV]  max_depth=10, min_samples_leaf=1, min_samples_split=2, n_estimators=300, total=  13.3s\n",
      "[CV] max_depth=10, min_samples_leaf=1, min_samples_split=2, n_estimators=300 \n",
      "[CV]  max_depth=10, min_samples_leaf=1, min_samples_split=2, n_estimators=300, total=  13.3s\n",
      "[CV] max_depth=10, min_samples_leaf=1, min_samples_split=2, n_estimators=300 \n",
      "[CV]  max_depth=10, min_samples_leaf=1, min_samples_split=2, n_estimators=300, total=  13.2s\n",
      "[CV] max_depth=10, min_samples_leaf=1, min_samples_split=2, n_estimators=300 \n",
      "[CV]  max_depth=10, min_samples_leaf=1, min_samples_split=2, n_estimators=300, total=  13.1s\n",
      "[CV] max_depth=10, min_samples_leaf=1, min_samples_split=2, n_estimators=400 \n",
      "[CV]  max_depth=10, min_samples_leaf=1, min_samples_split=2, n_estimators=400, total=  18.1s\n",
      "[CV] max_depth=10, min_samples_leaf=1, min_samples_split=2, n_estimators=400 \n",
      "[CV]  max_depth=10, min_samples_leaf=1, min_samples_split=2, n_estimators=400, total=  17.5s\n",
      "[CV] max_depth=10, min_samples_leaf=1, min_samples_split=2, n_estimators=400 \n",
      "[CV]  max_depth=10, min_samples_leaf=1, min_samples_split=2, n_estimators=400, total=  17.6s\n",
      "[CV] max_depth=10, min_samples_leaf=1, min_samples_split=2, n_estimators=400 \n",
      "[CV]  max_depth=10, min_samples_leaf=1, min_samples_split=2, n_estimators=400, total=  17.3s\n",
      "[CV] max_depth=10, min_samples_leaf=1, min_samples_split=2, n_estimators=400 \n",
      "[CV]  max_depth=10, min_samples_leaf=1, min_samples_split=2, n_estimators=400, total=  17.7s\n",
      "[CV] max_depth=10, min_samples_leaf=1, min_samples_split=2, n_estimators=500 \n",
      "[CV]  max_depth=10, min_samples_leaf=1, min_samples_split=2, n_estimators=500, total=  21.8s\n",
      "[CV] max_depth=10, min_samples_leaf=1, min_samples_split=2, n_estimators=500 \n",
      "[CV]  max_depth=10, min_samples_leaf=1, min_samples_split=2, n_estimators=500, total=  23.0s\n",
      "[CV] max_depth=10, min_samples_leaf=1, min_samples_split=2, n_estimators=500 \n"
     ]
    }
   ],
   "source": [
    "grid_search.fit(train_X,train_y)"
   ]
  },
  {
   "cell_type": "code",
   "execution_count": 155,
   "metadata": {},
   "outputs": [
    {
     "data": {
      "text/plain": [
       "[100, 200, 300, 400, 500, 600, 700, 800, 900, 1000]"
      ]
     },
     "execution_count": 155,
     "metadata": {},
     "output_type": "execute_result"
    }
   ],
   "source": [
    "n_estimators"
   ]
  },
  {
   "cell_type": "code",
   "execution_count": 148,
   "metadata": {},
   "outputs": [
    {
     "data": {
      "text/plain": [
       "[10, 20, 30, 40, 50, 60, 70, 80, 90, 100, None]"
      ]
     },
     "execution_count": 148,
     "metadata": {},
     "output_type": "execute_result"
    }
   ],
   "source": [
    "max_depth"
   ]
  },
  {
   "cell_type": "code",
   "execution_count": null,
   "metadata": {},
   "outputs": [],
   "source": []
  }
 ],
 "metadata": {
  "kernelspec": {
   "display_name": "Python 3",
   "language": "python",
   "name": "python3"
  },
  "language_info": {
   "codemirror_mode": {
    "name": "ipython",
    "version": 3
   },
   "file_extension": ".py",
   "mimetype": "text/x-python",
   "name": "python",
   "nbconvert_exporter": "python",
   "pygments_lexer": "ipython3",
   "version": "3.7.4"
  }
 },
 "nbformat": 4,
 "nbformat_minor": 2
}
